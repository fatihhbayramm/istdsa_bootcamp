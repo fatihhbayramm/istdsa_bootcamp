{
 "cells": [
  {
   "cell_type": "code",
   "execution_count": 1,
   "metadata": {
    "ExecuteTime": {
     "end_time": "2023-11-05T00:29:58.506405Z",
     "start_time": "2023-11-05T00:29:58.084966Z"
    }
   },
   "outputs": [],
   "source": [
    "#accuweather web scraping using beautifulsoup for 7 days weather forecast\n",
    "\n",
    "import requests\n",
    "from bs4 import BeautifulSoup as bts\n",
    "import pandas as pd\n",
    "import re\n",
    "import numpy as np\n",
    "import time\n",
    "\n"
   ]
  },
  {
   "cell_type": "code",
   "execution_count": 2,
   "metadata": {
    "ExecuteTime": {
     "end_time": "2023-11-05T00:29:58.512159Z",
     "start_time": "2023-11-05T00:29:58.508902Z"
    }
   },
   "outputs": [],
   "source": [
    "# firtsly we need to get the url and parse it\n",
    "def getAndParseURL(url):\n",
    "    result = requests.get(url, headers={\"User-Agent\":\"Mozilla/5.0\"}) # Safari/537.36. Chrome/103.0.0.0\n",
    "    soup = bts(result.text, \"html.parser\")\n",
    "    return soup\n",
    "    \n",
    "    \n",
    "    \n",
    "    \n",
    "    "
   ]
  },
  {
   "cell_type": "code",
   "execution_count": 3,
   "metadata": {
    "ExecuteTime": {
     "end_time": "2023-11-05T00:29:58.517035Z",
     "start_time": "2023-11-05T00:29:58.513817Z"
    }
   },
   "outputs": [
    {
     "data": {
      "text/plain": "['https://www.accuweather.com/en/tr/istanbul/318251/daily-weather-forecast/318251?day=1',\n 'https://www.accuweather.com/en/tr/istanbul/318251/daily-weather-forecast/318251?day=2',\n 'https://www.accuweather.com/en/tr/istanbul/318251/daily-weather-forecast/318251?day=3',\n 'https://www.accuweather.com/en/tr/istanbul/318251/daily-weather-forecast/318251?day=4',\n 'https://www.accuweather.com/en/tr/istanbul/318251/daily-weather-forecast/318251?day=5',\n 'https://www.accuweather.com/en/tr/istanbul/318251/daily-weather-forecast/318251?day=6',\n 'https://www.accuweather.com/en/tr/istanbul/318251/daily-weather-forecast/318251?day=7']"
     },
     "execution_count": 3,
     "metadata": {},
     "output_type": "execute_result"
    }
   ],
   "source": [
    "# now we need to get the data from the parsed url\n",
    "pages = [\"https://www.accuweather.com/en/tr/istanbul/318251/daily-weather-forecast/318251?day=1\"]\n",
    "\n",
    "for day in range(2,8):\n",
    "    pages.append(\"https://www.accuweather.com/en/tr/istanbul/318251/daily-weather-forecast/318251?day=\" + str(day))\n",
    "    \n",
    "pages "
   ]
  },
  {
   "cell_type": "code",
   "execution_count": 4,
   "metadata": {
    "ExecuteTime": {
     "end_time": "2023-11-05T00:30:00.506479Z",
     "start_time": "2023-11-05T00:29:58.521283Z"
    }
   },
   "outputs": [
    {
     "name": "stderr",
     "output_type": "stream",
     "text": [
      "/var/folders/q2/rl8p9bms0zqf6vs1f9__k1180000gn/T/ipykernel_10625/368382833.py:24: DeprecationWarning: The 'text' argument to find()-type methods is deprecated. Use 'string' instead.\n",
      "  max_uv_index = html.findAll(\"div\",{\"class\":\"half-day-card-content\"})[0].find(text=re.compile(\"Max UV Index\")).findNext().text.strip()\n",
      "/var/folders/q2/rl8p9bms0zqf6vs1f9__k1180000gn/T/ipykernel_10625/368382833.py:29: DeprecationWarning: The 'text' argument to find()-type methods is deprecated. Use 'string' instead.\n",
      "  precipitation = html.findAll(\"div\",{\"class\":\"half-day-card-content\"})[0].find(text=re.compile(\"Rain\")).findNext().text.strip()\n",
      "/var/folders/q2/rl8p9bms0zqf6vs1f9__k1180000gn/T/ipykernel_10625/368382833.py:34: DeprecationWarning: The 'text' argument to find()-type methods is deprecated. Use 'string' instead.\n",
      "  wind = html.findAll(\"div\",{\"class\":\"half-day-card-content\"})[0].find(text=re.compile(\"Wind\")).findNext().text.strip()\n",
      "/var/folders/q2/rl8p9bms0zqf6vs1f9__k1180000gn/T/ipykernel_10625/368382833.py:39: DeprecationWarning: The 'text' argument to find()-type methods is deprecated. Use 'string' instead.\n",
      "  prob_of_perc = html.findAll(\"div\",{\"class\":\"half-day-card-content\"})[0].find(text=re.compile(\"Probability of Precipitation\")).findNext().text.strip()\n",
      "/var/folders/q2/rl8p9bms0zqf6vs1f9__k1180000gn/T/ipykernel_10625/368382833.py:44: DeprecationWarning: The 'text' argument to find()-type methods is deprecated. Use 'string' instead.\n",
      "  prob_of_thu = html.findAll(\"div\",{\"class\":\"half-day-card-content\"})[0].find(text=re.compile(\"Probability of Thunderstorms\")).findNext().text.strip()\n",
      "/var/folders/q2/rl8p9bms0zqf6vs1f9__k1180000gn/T/ipykernel_10625/368382833.py:49: DeprecationWarning: The 'text' argument to find()-type methods is deprecated. Use 'string' instead.\n",
      "  cloud_cover = html.findAll(\"div\",{\"class\":\"half-day-card-content\"})[0].find(text=re.compile(\"Cloud Cover\")).findNext().text.strip()\n"
     ]
    }
   ],
   "source": [
    "#  the daytime weather forecast seven days\n",
    "\n",
    "daytime_forecast = []\n",
    "\n",
    "for page in pages:\n",
    "    html = getAndParseURL(page)\n",
    "    \n",
    "    try :\n",
    "        date = html.find(\"div\", {\"class\" : \"subnav-pagination\"}).text.strip()\n",
    "    except:\n",
    "        date = np.nan\n",
    "    \n",
    "    try:\n",
    "        day_period= html.findAll(\"h2\",{\"class\":\"title\"})[0].text.strip()\n",
    "    except:\n",
    "        day_period = np.nan\n",
    "        \n",
    "    try:\n",
    "        temp = html.findAll(\"div\", {\"class\": \"temperature\"})[0].text.strip()[:-2]\n",
    "    except:\n",
    "        temp = np.nan\n",
    "\n",
    "    try :\n",
    "        max_uv_index = html.findAll(\"div\",{\"class\":\"half-day-card-content\"})[0].find(text=re.compile(\"Max UV Index\")).findNext().text.strip()  \n",
    "    except :\n",
    "        max_uv_index = np.nan\n",
    "    \n",
    "    try:\n",
    "        precipitation = html.findAll(\"div\",{\"class\":\"half-day-card-content\"})[0].find(text=re.compile(\"Rain\")).findNext().text.strip()\n",
    "    except :\n",
    "        precipitation = np.nan\n",
    "    \n",
    "    try :\n",
    "        wind = html.findAll(\"div\",{\"class\":\"half-day-card-content\"})[0].find(text=re.compile(\"Wind\")).findNext().text.strip()\n",
    "    except :\n",
    "        wind = np.nan\n",
    "        \n",
    "    try:    \n",
    "        prob_of_perc = html.findAll(\"div\",{\"class\":\"half-day-card-content\"})[0].find(text=re.compile(\"Probability of Precipitation\")).findNext().text.strip()\n",
    "    except:\n",
    "        prob_of_perc = np.nan\n",
    "    \n",
    "    try:        \n",
    "        prob_of_thu = html.findAll(\"div\",{\"class\":\"half-day-card-content\"})[0].find(text=re.compile(\"Probability of Thunderstorms\")).findNext().text.strip()\n",
    "    except:\n",
    "        prob_of_thu = np.nan\n",
    "        \n",
    "    try:\n",
    "        cloud_cover = html.findAll(\"div\",{\"class\":\"half-day-card-content\"})[0].find(text=re.compile(\"Cloud Cover\")).findNext().text.strip()\n",
    "    except:\n",
    "        cloud_cover = np.nan\n",
    "        \n",
    "    \n",
    "    daytime_forecast.append([date,day_period,temp,max_uv_index,wind,precipitation,prob_of_perc,prob_of_thu,cloud_cover])   \n",
    "    \n",
    "df_columns_daytime = [\"Date\",\"Day Period\",\"Temp\",\"Max Uv Index\",\"Wind\",\"Precipitation\",\"Probability of Precipitation\",\"Probability of Thunderstorms\",\"Cloud Cover\"]\n",
    "df_daytime_forecast= pd.DataFrame.from_records(daytime_forecast,columns=df_columns_daytime)"
   ]
  },
  {
   "cell_type": "code",
   "execution_count": 4,
   "metadata": {
    "ExecuteTime": {
     "end_time": "2023-11-05T00:30:00.510955Z",
     "start_time": "2023-11-05T00:30:00.507656Z"
    }
   },
   "outputs": [],
   "source": []
  },
  {
   "cell_type": "code",
   "execution_count": 5,
   "metadata": {
    "ExecuteTime": {
     "end_time": "2023-11-05T00:30:00.517189Z",
     "start_time": "2023-11-05T00:30:00.511104Z"
    }
   },
   "outputs": [
    {
     "data": {
      "text/plain": "                    Date Day Period Temp Max Uv Index         Wind  \\\n0     Sunday, November 5        Day  25°   3 Moderate   SW 20 km/h   \n1     Monday, November 6        Day  25°   3 Moderate  WSW 19 km/h   \n2    Tuesday, November 7        Day  24°   3 Moderate   SSE 9 km/h   \n3  Wednesday, November 8        Day  23°   3 Moderate  SSW 11 km/h   \n4   Thursday, November 9        Day  18°        1 Low  NNW 19 km/h   \n5    Friday, November 10        Day  19°   3 Moderate    SE 7 km/h   \n6  Saturday, November 11        Day  19°   3 Moderate  SSW 26 km/h   \n\n   Precipitation Probability of Precipitation Probability of Thunderstorms  \\\n0            NaN                           1%                           0%   \n1            NaN                           3%                           0%   \n2            NaN                           3%                           0%   \n3            NaN                           1%                           0%   \n4            NaN                           3%                           0%   \n5            NaN                           0%                           0%   \n6            NaN                           1%                           0%   \n\n  Cloud Cover  \n0          3%  \n1          5%  \n2          4%  \n3         44%  \n4        100%  \n5          7%  \n6         54%  ",
      "text/html": "<div>\n<style scoped>\n    .dataframe tbody tr th:only-of-type {\n        vertical-align: middle;\n    }\n\n    .dataframe tbody tr th {\n        vertical-align: top;\n    }\n\n    .dataframe thead th {\n        text-align: right;\n    }\n</style>\n<table border=\"1\" class=\"dataframe\">\n  <thead>\n    <tr style=\"text-align: right;\">\n      <th></th>\n      <th>Date</th>\n      <th>Day Period</th>\n      <th>Temp</th>\n      <th>Max Uv Index</th>\n      <th>Wind</th>\n      <th>Precipitation</th>\n      <th>Probability of Precipitation</th>\n      <th>Probability of Thunderstorms</th>\n      <th>Cloud Cover</th>\n    </tr>\n  </thead>\n  <tbody>\n    <tr>\n      <th>0</th>\n      <td>Sunday, November 5</td>\n      <td>Day</td>\n      <td>25°</td>\n      <td>3 Moderate</td>\n      <td>SW 20 km/h</td>\n      <td>NaN</td>\n      <td>1%</td>\n      <td>0%</td>\n      <td>3%</td>\n    </tr>\n    <tr>\n      <th>1</th>\n      <td>Monday, November 6</td>\n      <td>Day</td>\n      <td>25°</td>\n      <td>3 Moderate</td>\n      <td>WSW 19 km/h</td>\n      <td>NaN</td>\n      <td>3%</td>\n      <td>0%</td>\n      <td>5%</td>\n    </tr>\n    <tr>\n      <th>2</th>\n      <td>Tuesday, November 7</td>\n      <td>Day</td>\n      <td>24°</td>\n      <td>3 Moderate</td>\n      <td>SSE 9 km/h</td>\n      <td>NaN</td>\n      <td>3%</td>\n      <td>0%</td>\n      <td>4%</td>\n    </tr>\n    <tr>\n      <th>3</th>\n      <td>Wednesday, November 8</td>\n      <td>Day</td>\n      <td>23°</td>\n      <td>3 Moderate</td>\n      <td>SSW 11 km/h</td>\n      <td>NaN</td>\n      <td>1%</td>\n      <td>0%</td>\n      <td>44%</td>\n    </tr>\n    <tr>\n      <th>4</th>\n      <td>Thursday, November 9</td>\n      <td>Day</td>\n      <td>18°</td>\n      <td>1 Low</td>\n      <td>NNW 19 km/h</td>\n      <td>NaN</td>\n      <td>3%</td>\n      <td>0%</td>\n      <td>100%</td>\n    </tr>\n    <tr>\n      <th>5</th>\n      <td>Friday, November 10</td>\n      <td>Day</td>\n      <td>19°</td>\n      <td>3 Moderate</td>\n      <td>SE 7 km/h</td>\n      <td>NaN</td>\n      <td>0%</td>\n      <td>0%</td>\n      <td>7%</td>\n    </tr>\n    <tr>\n      <th>6</th>\n      <td>Saturday, November 11</td>\n      <td>Day</td>\n      <td>19°</td>\n      <td>3 Moderate</td>\n      <td>SSW 26 km/h</td>\n      <td>NaN</td>\n      <td>1%</td>\n      <td>0%</td>\n      <td>54%</td>\n    </tr>\n  </tbody>\n</table>\n</div>"
     },
     "execution_count": 5,
     "metadata": {},
     "output_type": "execute_result"
    }
   ],
   "source": [
    "df_daytime_forecast"
   ]
  },
  {
   "cell_type": "code",
   "execution_count": 6,
   "metadata": {
    "ExecuteTime": {
     "end_time": "2023-11-05T00:30:00.524410Z",
     "start_time": "2023-11-05T00:30:00.522507Z"
    }
   },
   "outputs": [
    {
     "name": "stdout",
     "output_type": "stream",
     "text": [
      "<class 'pandas.core.frame.DataFrame'>\n",
      "RangeIndex: 7 entries, 0 to 6\n",
      "Data columns (total 9 columns):\n",
      " #   Column                        Non-Null Count  Dtype  \n",
      "---  ------                        --------------  -----  \n",
      " 0   Date                          7 non-null      object \n",
      " 1   Day Period                    7 non-null      object \n",
      " 2   Temp                          7 non-null      object \n",
      " 3   Max Uv Index                  7 non-null      object \n",
      " 4   Wind                          7 non-null      object \n",
      " 5   Precipitation                 0 non-null      float64\n",
      " 6   Probability of Precipitation  7 non-null      object \n",
      " 7   Probability of Thunderstorms  7 non-null      object \n",
      " 8   Cloud Cover                   7 non-null      object \n",
      "dtypes: float64(1), object(8)\n",
      "memory usage: 636.0+ bytes\n"
     ]
    }
   ],
   "source": [
    "df_daytime_forecast.info()"
   ]
  },
  {
   "cell_type": "code",
   "execution_count": 7,
   "metadata": {
    "ExecuteTime": {
     "end_time": "2023-11-05T00:30:00.571028Z",
     "start_time": "2023-11-05T00:30:00.534162Z"
    }
   },
   "outputs": [
    {
     "data": {
      "text/plain": "        Date   Day Name Day Period Temp Max Uv Index         Wind  \\\n0 2023-11-05     Sunday        Day  25°   3 Moderate   SW 20 km/h   \n1 2023-11-06     Monday        Day  25°   3 Moderate  WSW 19 km/h   \n2 2023-11-07    Tuesday        Day  24°   3 Moderate   SSE 9 km/h   \n3 2023-11-08  Wednesday        Day  23°   3 Moderate  SSW 11 km/h   \n4 2023-11-09   Thursday        Day  18°        1 Low  NNW 19 km/h   \n5 2023-11-10     Friday        Day  19°   3 Moderate    SE 7 km/h   \n6 2023-11-11   Saturday        Day  19°   3 Moderate  SSW 26 km/h   \n\n   Precipitation Probability of Precipitation Probability of Thunderstorms  \\\n0            NaN                           1%                           0%   \n1            NaN                           3%                           0%   \n2            NaN                           3%                           0%   \n3            NaN                           1%                           0%   \n4            NaN                           3%                           0%   \n5            NaN                           0%                           0%   \n6            NaN                           1%                           0%   \n\n  Cloud Cover  \n0          3%  \n1          5%  \n2          4%  \n3         44%  \n4        100%  \n5          7%  \n6         54%  ",
      "text/html": "<div>\n<style scoped>\n    .dataframe tbody tr th:only-of-type {\n        vertical-align: middle;\n    }\n\n    .dataframe tbody tr th {\n        vertical-align: top;\n    }\n\n    .dataframe thead th {\n        text-align: right;\n    }\n</style>\n<table border=\"1\" class=\"dataframe\">\n  <thead>\n    <tr style=\"text-align: right;\">\n      <th></th>\n      <th>Date</th>\n      <th>Day Name</th>\n      <th>Day Period</th>\n      <th>Temp</th>\n      <th>Max Uv Index</th>\n      <th>Wind</th>\n      <th>Precipitation</th>\n      <th>Probability of Precipitation</th>\n      <th>Probability of Thunderstorms</th>\n      <th>Cloud Cover</th>\n    </tr>\n  </thead>\n  <tbody>\n    <tr>\n      <th>0</th>\n      <td>2023-11-05</td>\n      <td>Sunday</td>\n      <td>Day</td>\n      <td>25°</td>\n      <td>3 Moderate</td>\n      <td>SW 20 km/h</td>\n      <td>NaN</td>\n      <td>1%</td>\n      <td>0%</td>\n      <td>3%</td>\n    </tr>\n    <tr>\n      <th>1</th>\n      <td>2023-11-06</td>\n      <td>Monday</td>\n      <td>Day</td>\n      <td>25°</td>\n      <td>3 Moderate</td>\n      <td>WSW 19 km/h</td>\n      <td>NaN</td>\n      <td>3%</td>\n      <td>0%</td>\n      <td>5%</td>\n    </tr>\n    <tr>\n      <th>2</th>\n      <td>2023-11-07</td>\n      <td>Tuesday</td>\n      <td>Day</td>\n      <td>24°</td>\n      <td>3 Moderate</td>\n      <td>SSE 9 km/h</td>\n      <td>NaN</td>\n      <td>3%</td>\n      <td>0%</td>\n      <td>4%</td>\n    </tr>\n    <tr>\n      <th>3</th>\n      <td>2023-11-08</td>\n      <td>Wednesday</td>\n      <td>Day</td>\n      <td>23°</td>\n      <td>3 Moderate</td>\n      <td>SSW 11 km/h</td>\n      <td>NaN</td>\n      <td>1%</td>\n      <td>0%</td>\n      <td>44%</td>\n    </tr>\n    <tr>\n      <th>4</th>\n      <td>2023-11-09</td>\n      <td>Thursday</td>\n      <td>Day</td>\n      <td>18°</td>\n      <td>1 Low</td>\n      <td>NNW 19 km/h</td>\n      <td>NaN</td>\n      <td>3%</td>\n      <td>0%</td>\n      <td>100%</td>\n    </tr>\n    <tr>\n      <th>5</th>\n      <td>2023-11-10</td>\n      <td>Friday</td>\n      <td>Day</td>\n      <td>19°</td>\n      <td>3 Moderate</td>\n      <td>SE 7 km/h</td>\n      <td>NaN</td>\n      <td>0%</td>\n      <td>0%</td>\n      <td>7%</td>\n    </tr>\n    <tr>\n      <th>6</th>\n      <td>2023-11-11</td>\n      <td>Saturday</td>\n      <td>Day</td>\n      <td>19°</td>\n      <td>3 Moderate</td>\n      <td>SSW 26 km/h</td>\n      <td>NaN</td>\n      <td>1%</td>\n      <td>0%</td>\n      <td>54%</td>\n    </tr>\n  </tbody>\n</table>\n</div>"
     },
     "execution_count": 7,
     "metadata": {},
     "output_type": "execute_result"
    }
   ],
   "source": [
    "# date column is object type so we need to convert it to datetime\n",
    "\n",
    "\n",
    "# Create a new column for the date\n",
    "df_daytime_forecast[\"Date\"] = pd.to_datetime(df_daytime_forecast[\"Date\"], format=\"%A, %B %d\")\n",
    "\n",
    "# Replace the year with 2023\n",
    "df_daytime_forecast[\"Date\"] = df_daytime_forecast[\"Date\"].apply(lambda x: x.replace(year=2023))\n",
    "\n",
    "# Day Name column is created\n",
    "df_daytime_forecast[\"Day Name\"] = df_daytime_forecast[\"Date\"].dt.day_name()\n",
    "\n",
    "#Dataframe is reordered\n",
    "\n",
    "df_daytime_forecast = df_daytime_forecast[['Date', 'Day Name', 'Day Period', 'Temp', 'Max Uv Index', 'Wind', 'Precipitation', 'Probability of Precipitation', 'Probability of Thunderstorms', 'Cloud Cover']]\n",
    "\n",
    "\n",
    "df_daytime_forecast"
   ]
  },
  {
   "cell_type": "code",
   "execution_count": 8,
   "metadata": {
    "ExecuteTime": {
     "end_time": "2023-11-05T00:30:02.518698Z",
     "start_time": "2023-11-05T00:30:00.540468Z"
    }
   },
   "outputs": [
    {
     "name": "stderr",
     "output_type": "stream",
     "text": [
      "/var/folders/q2/rl8p9bms0zqf6vs1f9__k1180000gn/T/ipykernel_10625/2970869234.py:22: DeprecationWarning: The 'text' argument to find()-type methods is deprecated. Use 'string' instead.\n",
      "  max_uv_index = html.findAll(\"div\",{\"class\":\"half-day-card-content\"})[1].find(text=re.compile(\"Max UV Index\")).findNext().text.strip()\n",
      "/var/folders/q2/rl8p9bms0zqf6vs1f9__k1180000gn/T/ipykernel_10625/2970869234.py:27: DeprecationWarning: The 'text' argument to find()-type methods is deprecated. Use 'string' instead.\n",
      "  precipitation = html.findAll(\"div\",{\"class\":\"half-day-card-content\"})[1].find(text=re.compile(\"Rain\")).findNext().text.strip()\n",
      "/var/folders/q2/rl8p9bms0zqf6vs1f9__k1180000gn/T/ipykernel_10625/2970869234.py:32: DeprecationWarning: The 'text' argument to find()-type methods is deprecated. Use 'string' instead.\n",
      "  wind = html.findAll(\"div\",{\"class\":\"half-day-card-content\"})[1].find(text=re.compile(\"Wind\")).findNext().text.strip()\n",
      "/var/folders/q2/rl8p9bms0zqf6vs1f9__k1180000gn/T/ipykernel_10625/2970869234.py:37: DeprecationWarning: The 'text' argument to find()-type methods is deprecated. Use 'string' instead.\n",
      "  prob_of_perc = html.findAll(\"div\",{\"class\":\"half-day-card-content\"})[1].find(text=re.compile(\"Probability of Precipitation\")).findNext().text.strip()\n",
      "/var/folders/q2/rl8p9bms0zqf6vs1f9__k1180000gn/T/ipykernel_10625/2970869234.py:42: DeprecationWarning: The 'text' argument to find()-type methods is deprecated. Use 'string' instead.\n",
      "  prob_of_thu = html.findAll(\"div\",{\"class\":\"half-day-card-content\"})[1].find(text=re.compile(\"Probability of Thunderstorms\")).findNext().text.strip()\n",
      "/var/folders/q2/rl8p9bms0zqf6vs1f9__k1180000gn/T/ipykernel_10625/2970869234.py:47: DeprecationWarning: The 'text' argument to find()-type methods is deprecated. Use 'string' instead.\n",
      "  cloud_cover = html.findAll(\"div\",{\"class\":\"half-day-card-content\"})[1].find(text=re.compile(\"Cloud Cover\")).findNext().text.strip()\n"
     ]
    }
   ],
   "source": [
    "night_forecast = []\n",
    "\n",
    "for page in pages:\n",
    "    html = getAndParseURL(page)\n",
    "    \n",
    "    try :\n",
    "        date = html.find(\"div\", {\"class\" : \"subnav-pagination\"}).text.strip()\n",
    "    except:\n",
    "        date = np.nan\n",
    "    \n",
    "    try:\n",
    "        day_period= html.findAll(\"h2\",{\"class\":\"title\"})[1].text.strip()\n",
    "    except:\n",
    "        day_period = np.nan\n",
    "        \n",
    "    try:\n",
    "        temp = html.findAll(\"div\", {\"class\": \"temperature\"})[1].text.strip()[:-2]\n",
    "    except:\n",
    "        temp = np.nan\n",
    "\n",
    "    try :\n",
    "        max_uv_index = html.findAll(\"div\",{\"class\":\"half-day-card-content\"})[1].find(text=re.compile(\"Max UV Index\")).findNext().text.strip()  \n",
    "    except :\n",
    "        max_uv_index = np.nan\n",
    "    \n",
    "    try:\n",
    "        precipitation = html.findAll(\"div\",{\"class\":\"half-day-card-content\"})[1].find(text=re.compile(\"Rain\")).findNext().text.strip()\n",
    "    except :\n",
    "        precipitation = np.nan\n",
    "    \n",
    "    try :\n",
    "        wind = html.findAll(\"div\",{\"class\":\"half-day-card-content\"})[1].find(text=re.compile(\"Wind\")).findNext().text.strip()\n",
    "    except :\n",
    "        wind = np.nan\n",
    "        \n",
    "    try:    \n",
    "        prob_of_perc = html.findAll(\"div\",{\"class\":\"half-day-card-content\"})[1].find(text=re.compile(\"Probability of Precipitation\")).findNext().text.strip()\n",
    "    except:\n",
    "        prob_of_perc = np.nan\n",
    "    \n",
    "    try:        \n",
    "        prob_of_thu = html.findAll(\"div\",{\"class\":\"half-day-card-content\"})[1].find(text=re.compile(\"Probability of Thunderstorms\")).findNext().text.strip()\n",
    "    except:\n",
    "        prob_of_thu = np.nan\n",
    "        \n",
    "    try:\n",
    "        cloud_cover = html.findAll(\"div\",{\"class\":\"half-day-card-content\"})[1].find(text=re.compile(\"Cloud Cover\")).findNext().text.strip()\n",
    "    except:\n",
    "        cloud_cover = np.nan\n",
    "        \n",
    "    \n",
    "    night_forecast.append([date,day_period,temp,max_uv_index,wind,precipitation,prob_of_perc,prob_of_thu,cloud_cover])   \n",
    "    \n",
    "df_columns_night = [\"Date\",\"Day Period\",\"Temp\",\"Max Uv Index\",\"Wind\",\"Precipitation\",\"Probability of Precipitation\",\"Probability of Thunderstorms\",\"Cloud Cover\"]\n",
    "df_night_forecast= pd.DataFrame.from_records(night_forecast,columns=df_columns_night)"
   ]
  },
  {
   "cell_type": "code",
   "execution_count": 9,
   "metadata": {
    "ExecuteTime": {
     "end_time": "2023-11-05T00:30:02.524659Z",
     "start_time": "2023-11-05T00:30:02.521976Z"
    }
   },
   "outputs": [
    {
     "data": {
      "text/plain": "                    Date Day Period Temp  Max Uv Index         Wind  \\\n0     Sunday, November 5      Night  19°           NaN   SW 32 km/h   \n1     Monday, November 6      Night  15°           NaN    SE 6 km/h   \n2    Tuesday, November 7      Night  16°           NaN     S 6 km/h   \n3  Wednesday, November 8      Night  14°           NaN   WSW 9 km/h   \n4   Thursday, November 9      Night  12°           NaN   NE 13 km/h   \n5    Friday, November 10      Night  14°           NaN     S 9 km/h   \n6  Saturday, November 11      Night  14°           NaN  SSW 30 km/h   \n\n  Precipitation Probability of Precipitation Probability of Thunderstorms  \\\n0           NaN                           2%                           0%   \n1           NaN                          25%                           0%   \n2           NaN                           1%                           0%   \n3        1.8 mm                          65%                          13%   \n4           NaN                           2%                           0%   \n5           NaN                           0%                           0%   \n6           NaN                           7%                           0%   \n\n  Cloud Cover  \n0          3%  \n1         33%  \n2         10%  \n3         76%  \n4         43%  \n5         74%  \n6         53%  ",
      "text/html": "<div>\n<style scoped>\n    .dataframe tbody tr th:only-of-type {\n        vertical-align: middle;\n    }\n\n    .dataframe tbody tr th {\n        vertical-align: top;\n    }\n\n    .dataframe thead th {\n        text-align: right;\n    }\n</style>\n<table border=\"1\" class=\"dataframe\">\n  <thead>\n    <tr style=\"text-align: right;\">\n      <th></th>\n      <th>Date</th>\n      <th>Day Period</th>\n      <th>Temp</th>\n      <th>Max Uv Index</th>\n      <th>Wind</th>\n      <th>Precipitation</th>\n      <th>Probability of Precipitation</th>\n      <th>Probability of Thunderstorms</th>\n      <th>Cloud Cover</th>\n    </tr>\n  </thead>\n  <tbody>\n    <tr>\n      <th>0</th>\n      <td>Sunday, November 5</td>\n      <td>Night</td>\n      <td>19°</td>\n      <td>NaN</td>\n      <td>SW 32 km/h</td>\n      <td>NaN</td>\n      <td>2%</td>\n      <td>0%</td>\n      <td>3%</td>\n    </tr>\n    <tr>\n      <th>1</th>\n      <td>Monday, November 6</td>\n      <td>Night</td>\n      <td>15°</td>\n      <td>NaN</td>\n      <td>SE 6 km/h</td>\n      <td>NaN</td>\n      <td>25%</td>\n      <td>0%</td>\n      <td>33%</td>\n    </tr>\n    <tr>\n      <th>2</th>\n      <td>Tuesday, November 7</td>\n      <td>Night</td>\n      <td>16°</td>\n      <td>NaN</td>\n      <td>S 6 km/h</td>\n      <td>NaN</td>\n      <td>1%</td>\n      <td>0%</td>\n      <td>10%</td>\n    </tr>\n    <tr>\n      <th>3</th>\n      <td>Wednesday, November 8</td>\n      <td>Night</td>\n      <td>14°</td>\n      <td>NaN</td>\n      <td>WSW 9 km/h</td>\n      <td>1.8 mm</td>\n      <td>65%</td>\n      <td>13%</td>\n      <td>76%</td>\n    </tr>\n    <tr>\n      <th>4</th>\n      <td>Thursday, November 9</td>\n      <td>Night</td>\n      <td>12°</td>\n      <td>NaN</td>\n      <td>NE 13 km/h</td>\n      <td>NaN</td>\n      <td>2%</td>\n      <td>0%</td>\n      <td>43%</td>\n    </tr>\n    <tr>\n      <th>5</th>\n      <td>Friday, November 10</td>\n      <td>Night</td>\n      <td>14°</td>\n      <td>NaN</td>\n      <td>S 9 km/h</td>\n      <td>NaN</td>\n      <td>0%</td>\n      <td>0%</td>\n      <td>74%</td>\n    </tr>\n    <tr>\n      <th>6</th>\n      <td>Saturday, November 11</td>\n      <td>Night</td>\n      <td>14°</td>\n      <td>NaN</td>\n      <td>SSW 30 km/h</td>\n      <td>NaN</td>\n      <td>7%</td>\n      <td>0%</td>\n      <td>53%</td>\n    </tr>\n  </tbody>\n</table>\n</div>"
     },
     "execution_count": 9,
     "metadata": {},
     "output_type": "execute_result"
    }
   ],
   "source": [
    "df_night_forecast"
   ]
  },
  {
   "cell_type": "code",
   "execution_count": 10,
   "metadata": {
    "ExecuteTime": {
     "end_time": "2023-11-05T00:30:02.529850Z",
     "start_time": "2023-11-05T00:30:02.527909Z"
    }
   },
   "outputs": [
    {
     "name": "stdout",
     "output_type": "stream",
     "text": [
      "<class 'pandas.core.frame.DataFrame'>\n",
      "RangeIndex: 7 entries, 0 to 6\n",
      "Data columns (total 9 columns):\n",
      " #   Column                        Non-Null Count  Dtype  \n",
      "---  ------                        --------------  -----  \n",
      " 0   Date                          7 non-null      object \n",
      " 1   Day Period                    7 non-null      object \n",
      " 2   Temp                          7 non-null      object \n",
      " 3   Max Uv Index                  0 non-null      float64\n",
      " 4   Wind                          7 non-null      object \n",
      " 5   Precipitation                 1 non-null      object \n",
      " 6   Probability of Precipitation  7 non-null      object \n",
      " 7   Probability of Thunderstorms  7 non-null      object \n",
      " 8   Cloud Cover                   7 non-null      object \n",
      "dtypes: float64(1), object(8)\n",
      "memory usage: 636.0+ bytes\n"
     ]
    }
   ],
   "source": [
    "df_night_forecast.info()"
   ]
  },
  {
   "cell_type": "code",
   "execution_count": 11,
   "metadata": {
    "ExecuteTime": {
     "end_time": "2023-11-05T00:30:02.538105Z",
     "start_time": "2023-11-05T00:30:02.536110Z"
    }
   },
   "outputs": [
    {
     "data": {
      "text/plain": "        Date   Day Name Day Period Temp  Max Uv Index         Wind  \\\n0 2023-11-05     Sunday      Night  19°           NaN   SW 32 km/h   \n1 2023-11-06     Monday      Night  15°           NaN    SE 6 km/h   \n2 2023-11-07    Tuesday      Night  16°           NaN     S 6 km/h   \n3 2023-11-08  Wednesday      Night  14°           NaN   WSW 9 km/h   \n4 2023-11-09   Thursday      Night  12°           NaN   NE 13 km/h   \n5 2023-11-10     Friday      Night  14°           NaN     S 9 km/h   \n6 2023-11-11   Saturday      Night  14°           NaN  SSW 30 km/h   \n\n  Precipitation Probability of Precipitation Probability of Thunderstorms  \\\n0           NaN                           2%                           0%   \n1           NaN                          25%                           0%   \n2           NaN                           1%                           0%   \n3        1.8 mm                          65%                          13%   \n4           NaN                           2%                           0%   \n5           NaN                           0%                           0%   \n6           NaN                           7%                           0%   \n\n  Cloud Cover  \n0          3%  \n1         33%  \n2         10%  \n3         76%  \n4         43%  \n5         74%  \n6         53%  ",
      "text/html": "<div>\n<style scoped>\n    .dataframe tbody tr th:only-of-type {\n        vertical-align: middle;\n    }\n\n    .dataframe tbody tr th {\n        vertical-align: top;\n    }\n\n    .dataframe thead th {\n        text-align: right;\n    }\n</style>\n<table border=\"1\" class=\"dataframe\">\n  <thead>\n    <tr style=\"text-align: right;\">\n      <th></th>\n      <th>Date</th>\n      <th>Day Name</th>\n      <th>Day Period</th>\n      <th>Temp</th>\n      <th>Max Uv Index</th>\n      <th>Wind</th>\n      <th>Precipitation</th>\n      <th>Probability of Precipitation</th>\n      <th>Probability of Thunderstorms</th>\n      <th>Cloud Cover</th>\n    </tr>\n  </thead>\n  <tbody>\n    <tr>\n      <th>0</th>\n      <td>2023-11-05</td>\n      <td>Sunday</td>\n      <td>Night</td>\n      <td>19°</td>\n      <td>NaN</td>\n      <td>SW 32 km/h</td>\n      <td>NaN</td>\n      <td>2%</td>\n      <td>0%</td>\n      <td>3%</td>\n    </tr>\n    <tr>\n      <th>1</th>\n      <td>2023-11-06</td>\n      <td>Monday</td>\n      <td>Night</td>\n      <td>15°</td>\n      <td>NaN</td>\n      <td>SE 6 km/h</td>\n      <td>NaN</td>\n      <td>25%</td>\n      <td>0%</td>\n      <td>33%</td>\n    </tr>\n    <tr>\n      <th>2</th>\n      <td>2023-11-07</td>\n      <td>Tuesday</td>\n      <td>Night</td>\n      <td>16°</td>\n      <td>NaN</td>\n      <td>S 6 km/h</td>\n      <td>NaN</td>\n      <td>1%</td>\n      <td>0%</td>\n      <td>10%</td>\n    </tr>\n    <tr>\n      <th>3</th>\n      <td>2023-11-08</td>\n      <td>Wednesday</td>\n      <td>Night</td>\n      <td>14°</td>\n      <td>NaN</td>\n      <td>WSW 9 km/h</td>\n      <td>1.8 mm</td>\n      <td>65%</td>\n      <td>13%</td>\n      <td>76%</td>\n    </tr>\n    <tr>\n      <th>4</th>\n      <td>2023-11-09</td>\n      <td>Thursday</td>\n      <td>Night</td>\n      <td>12°</td>\n      <td>NaN</td>\n      <td>NE 13 km/h</td>\n      <td>NaN</td>\n      <td>2%</td>\n      <td>0%</td>\n      <td>43%</td>\n    </tr>\n    <tr>\n      <th>5</th>\n      <td>2023-11-10</td>\n      <td>Friday</td>\n      <td>Night</td>\n      <td>14°</td>\n      <td>NaN</td>\n      <td>S 9 km/h</td>\n      <td>NaN</td>\n      <td>0%</td>\n      <td>0%</td>\n      <td>74%</td>\n    </tr>\n    <tr>\n      <th>6</th>\n      <td>2023-11-11</td>\n      <td>Saturday</td>\n      <td>Night</td>\n      <td>14°</td>\n      <td>NaN</td>\n      <td>SSW 30 km/h</td>\n      <td>NaN</td>\n      <td>7%</td>\n      <td>0%</td>\n      <td>53%</td>\n    </tr>\n  </tbody>\n</table>\n</div>"
     },
     "execution_count": 11,
     "metadata": {},
     "output_type": "execute_result"
    }
   ],
   "source": [
    "# date column is object type so we need to convert it to datetime\n",
    "\n",
    "\n",
    "\n",
    "# Create a new column for the date\n",
    "df_night_forecast[\"Date\"] = pd.to_datetime(df_night_forecast[\"Date\"], format=\"%A, %B %d\")\n",
    "\n",
    "# Replace the year with 2023\n",
    "df_night_forecast[\"Date\"] = df_night_forecast[\"Date\"].apply(lambda x: x.replace(year=2023))\n",
    "\n",
    "# Day Name column is created\n",
    "df_night_forecast[\"Day Name\"] = df_night_forecast[\"Date\"].dt.day_name()\n",
    "\n",
    "#Dataframe is reordered\n",
    "\n",
    "df_night_forecast = df_night_forecast[['Date', 'Day Name', 'Day Period', 'Temp', 'Max Uv Index', 'Wind', 'Precipitation', 'Probability of Precipitation', 'Probability of Thunderstorms', 'Cloud Cover']]\n",
    "\n",
    "\n",
    "df_night_forecast\n",
    "\n",
    "\n"
   ]
  },
  {
   "cell_type": "code",
   "execution_count": 12,
   "metadata": {
    "ExecuteTime": {
     "end_time": "2023-11-05T00:30:02.569629Z",
     "start_time": "2023-11-05T00:30:02.539712Z"
    }
   },
   "outputs": [
    {
     "data": {
      "text/plain": "        Date   Day Name Day Period Temp Max Uv Index         Wind  \\\n0 2023-11-05     Sunday      Night  19°          NaN   SW 32 km/h   \n0 2023-11-05     Sunday        Day  25°   3 Moderate   SW 20 km/h   \n1 2023-11-06     Monday      Night  15°          NaN    SE 6 km/h   \n1 2023-11-06     Monday        Day  25°   3 Moderate  WSW 19 km/h   \n2 2023-11-07    Tuesday      Night  16°          NaN     S 6 km/h   \n2 2023-11-07    Tuesday        Day  24°   3 Moderate   SSE 9 km/h   \n3 2023-11-08  Wednesday      Night  14°          NaN   WSW 9 km/h   \n3 2023-11-08  Wednesday        Day  23°   3 Moderate  SSW 11 km/h   \n4 2023-11-09   Thursday      Night  12°          NaN   NE 13 km/h   \n4 2023-11-09   Thursday        Day  18°        1 Low  NNW 19 km/h   \n5 2023-11-10     Friday      Night  14°          NaN     S 9 km/h   \n5 2023-11-10     Friday        Day  19°   3 Moderate    SE 7 km/h   \n6 2023-11-11   Saturday      Night  14°          NaN  SSW 30 km/h   \n6 2023-11-11   Saturday        Day  19°   3 Moderate  SSW 26 km/h   \n\n  Precipitation Probability of Precipitation Probability of Thunderstorms  \\\n0           NaN                           2%                           0%   \n0           NaN                           1%                           0%   \n1           NaN                          25%                           0%   \n1           NaN                           3%                           0%   \n2           NaN                           1%                           0%   \n2           NaN                           3%                           0%   \n3        1.8 mm                          65%                          13%   \n3           NaN                           1%                           0%   \n4           NaN                           2%                           0%   \n4           NaN                           3%                           0%   \n5           NaN                           0%                           0%   \n5           NaN                           0%                           0%   \n6           NaN                           7%                           0%   \n6           NaN                           1%                           0%   \n\n  Cloud Cover  \n0          3%  \n0          3%  \n1         33%  \n1          5%  \n2         10%  \n2          4%  \n3         76%  \n3         44%  \n4         43%  \n4        100%  \n5         74%  \n5          7%  \n6         53%  \n6         54%  ",
      "text/html": "<div>\n<style scoped>\n    .dataframe tbody tr th:only-of-type {\n        vertical-align: middle;\n    }\n\n    .dataframe tbody tr th {\n        vertical-align: top;\n    }\n\n    .dataframe thead th {\n        text-align: right;\n    }\n</style>\n<table border=\"1\" class=\"dataframe\">\n  <thead>\n    <tr style=\"text-align: right;\">\n      <th></th>\n      <th>Date</th>\n      <th>Day Name</th>\n      <th>Day Period</th>\n      <th>Temp</th>\n      <th>Max Uv Index</th>\n      <th>Wind</th>\n      <th>Precipitation</th>\n      <th>Probability of Precipitation</th>\n      <th>Probability of Thunderstorms</th>\n      <th>Cloud Cover</th>\n    </tr>\n  </thead>\n  <tbody>\n    <tr>\n      <th>0</th>\n      <td>2023-11-05</td>\n      <td>Sunday</td>\n      <td>Night</td>\n      <td>19°</td>\n      <td>NaN</td>\n      <td>SW 32 km/h</td>\n      <td>NaN</td>\n      <td>2%</td>\n      <td>0%</td>\n      <td>3%</td>\n    </tr>\n    <tr>\n      <th>0</th>\n      <td>2023-11-05</td>\n      <td>Sunday</td>\n      <td>Day</td>\n      <td>25°</td>\n      <td>3 Moderate</td>\n      <td>SW 20 km/h</td>\n      <td>NaN</td>\n      <td>1%</td>\n      <td>0%</td>\n      <td>3%</td>\n    </tr>\n    <tr>\n      <th>1</th>\n      <td>2023-11-06</td>\n      <td>Monday</td>\n      <td>Night</td>\n      <td>15°</td>\n      <td>NaN</td>\n      <td>SE 6 km/h</td>\n      <td>NaN</td>\n      <td>25%</td>\n      <td>0%</td>\n      <td>33%</td>\n    </tr>\n    <tr>\n      <th>1</th>\n      <td>2023-11-06</td>\n      <td>Monday</td>\n      <td>Day</td>\n      <td>25°</td>\n      <td>3 Moderate</td>\n      <td>WSW 19 km/h</td>\n      <td>NaN</td>\n      <td>3%</td>\n      <td>0%</td>\n      <td>5%</td>\n    </tr>\n    <tr>\n      <th>2</th>\n      <td>2023-11-07</td>\n      <td>Tuesday</td>\n      <td>Night</td>\n      <td>16°</td>\n      <td>NaN</td>\n      <td>S 6 km/h</td>\n      <td>NaN</td>\n      <td>1%</td>\n      <td>0%</td>\n      <td>10%</td>\n    </tr>\n    <tr>\n      <th>2</th>\n      <td>2023-11-07</td>\n      <td>Tuesday</td>\n      <td>Day</td>\n      <td>24°</td>\n      <td>3 Moderate</td>\n      <td>SSE 9 km/h</td>\n      <td>NaN</td>\n      <td>3%</td>\n      <td>0%</td>\n      <td>4%</td>\n    </tr>\n    <tr>\n      <th>3</th>\n      <td>2023-11-08</td>\n      <td>Wednesday</td>\n      <td>Night</td>\n      <td>14°</td>\n      <td>NaN</td>\n      <td>WSW 9 km/h</td>\n      <td>1.8 mm</td>\n      <td>65%</td>\n      <td>13%</td>\n      <td>76%</td>\n    </tr>\n    <tr>\n      <th>3</th>\n      <td>2023-11-08</td>\n      <td>Wednesday</td>\n      <td>Day</td>\n      <td>23°</td>\n      <td>3 Moderate</td>\n      <td>SSW 11 km/h</td>\n      <td>NaN</td>\n      <td>1%</td>\n      <td>0%</td>\n      <td>44%</td>\n    </tr>\n    <tr>\n      <th>4</th>\n      <td>2023-11-09</td>\n      <td>Thursday</td>\n      <td>Night</td>\n      <td>12°</td>\n      <td>NaN</td>\n      <td>NE 13 km/h</td>\n      <td>NaN</td>\n      <td>2%</td>\n      <td>0%</td>\n      <td>43%</td>\n    </tr>\n    <tr>\n      <th>4</th>\n      <td>2023-11-09</td>\n      <td>Thursday</td>\n      <td>Day</td>\n      <td>18°</td>\n      <td>1 Low</td>\n      <td>NNW 19 km/h</td>\n      <td>NaN</td>\n      <td>3%</td>\n      <td>0%</td>\n      <td>100%</td>\n    </tr>\n    <tr>\n      <th>5</th>\n      <td>2023-11-10</td>\n      <td>Friday</td>\n      <td>Night</td>\n      <td>14°</td>\n      <td>NaN</td>\n      <td>S 9 km/h</td>\n      <td>NaN</td>\n      <td>0%</td>\n      <td>0%</td>\n      <td>74%</td>\n    </tr>\n    <tr>\n      <th>5</th>\n      <td>2023-11-10</td>\n      <td>Friday</td>\n      <td>Day</td>\n      <td>19°</td>\n      <td>3 Moderate</td>\n      <td>SE 7 km/h</td>\n      <td>NaN</td>\n      <td>0%</td>\n      <td>0%</td>\n      <td>7%</td>\n    </tr>\n    <tr>\n      <th>6</th>\n      <td>2023-11-11</td>\n      <td>Saturday</td>\n      <td>Night</td>\n      <td>14°</td>\n      <td>NaN</td>\n      <td>SSW 30 km/h</td>\n      <td>NaN</td>\n      <td>7%</td>\n      <td>0%</td>\n      <td>53%</td>\n    </tr>\n    <tr>\n      <th>6</th>\n      <td>2023-11-11</td>\n      <td>Saturday</td>\n      <td>Day</td>\n      <td>19°</td>\n      <td>3 Moderate</td>\n      <td>SSW 26 km/h</td>\n      <td>NaN</td>\n      <td>1%</td>\n      <td>0%</td>\n      <td>54%</td>\n    </tr>\n  </tbody>\n</table>\n</div>"
     },
     "execution_count": 12,
     "metadata": {},
     "output_type": "execute_result"
    }
   ],
   "source": [
    "df= pd.concat([df_daytime_forecast,df_night_forecast])\n",
    "df.sort_values([\"Date\",\"Day Period\"],ascending=[True,False],inplace=True)\n",
    "df"
   ]
  },
  {
   "cell_type": "code",
   "execution_count": 13,
   "metadata": {
    "ExecuteTime": {
     "end_time": "2023-11-05T00:30:02.586564Z",
     "start_time": "2023-11-05T00:30:02.549177Z"
    }
   },
   "outputs": [],
   "source": [
    "df.to_csv(\"accuweather_fatih_bayram.csv\",index=False)"
   ]
  }
 ],
 "metadata": {
  "kernelspec": {
   "display_name": "Python 3",
   "language": "python",
   "name": "python3"
  },
  "language_info": {
   "codemirror_mode": {
    "name": "ipython",
    "version": 3
   },
   "file_extension": ".py",
   "mimetype": "text/x-python",
   "name": "python",
   "nbconvert_exporter": "python",
   "pygments_lexer": "ipython3",
   "version": "3.9.6"
  }
 },
 "nbformat": 4,
 "nbformat_minor": 2
}
