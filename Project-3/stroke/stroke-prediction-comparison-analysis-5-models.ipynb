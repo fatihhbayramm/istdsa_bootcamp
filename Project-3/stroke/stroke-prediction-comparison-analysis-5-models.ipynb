{
 "cells": [
  {
   "cell_type": "code",
   "execution_count": 1,
   "id": "b743ab97",
   "metadata": {
    "ExecuteTime": {
     "end_time": "2024-01-05T22:11:23.306418Z",
     "start_time": "2024-01-05T22:11:23.300460Z"
    },
    "_cell_guid": "b1076dfc-b9ad-4769-8c92-a6c4dae69d19",
    "_uuid": "8f2839f25d086af736a60e9eeb907d3b93b6e0e5",
    "papermill": {
     "duration": 2.490681,
     "end_time": "2024-01-04T17:59:57.734085",
     "exception": false,
     "start_time": "2024-01-04T17:59:55.243404",
     "status": "completed"
    },
    "tags": []
   },
   "outputs": [],
   "source": [
    "# This Python 3 environment comes with many helpful analytics libraries installed\n",
    "# It is defined by the kaggle/python Docker image: https://github.com/kaggle/docker-python\n",
    "# For example, here's several helpful packages to load\n",
    "\n",
    "import numpy as np # linear algebra\n",
    "import pandas as pd # data processing, CSV file I/O (e.g. pd.read_csv)\n",
    "import matplotlib.pyplot as plt\n",
    "import seaborn as sns\n",
    "import warnings\n",
    "warnings.filterwarnings('ignore')\n",
    "\n",
    "\n",
    "\n",
    "# You can write up to 20GB to the current directory (/kaggle/working/) that gets preserved as output when you create a version using \"Save & Run All\" \n",
    "# You can also write temporary files to /kaggle/temp/, but they won't be saved outside of the current session"
   ]
  },
  {
   "cell_type": "code",
   "execution_count": 2,
   "id": "56a6b1a2",
   "metadata": {
    "ExecuteTime": {
     "end_time": "2024-01-05T21:54:07.133524Z",
     "start_time": "2024-01-05T21:54:06.505288Z"
    },
    "papermill": {
     "duration": 0.113382,
     "end_time": "2024-01-04T17:59:57.880517",
     "exception": false,
     "start_time": "2024-01-04T17:59:57.767135",
     "status": "completed"
    },
    "tags": []
   },
   "outputs": [
    {
     "data": {
      "text/html": [
       "<div>\n",
       "<style scoped>\n",
       "    .dataframe tbody tr th:only-of-type {\n",
       "        vertical-align: middle;\n",
       "    }\n",
       "\n",
       "    .dataframe tbody tr th {\n",
       "        vertical-align: top;\n",
       "    }\n",
       "\n",
       "    .dataframe thead th {\n",
       "        text-align: right;\n",
       "    }\n",
       "</style>\n",
       "<table border=\"1\" class=\"dataframe\">\n",
       "  <thead>\n",
       "    <tr style=\"text-align: right;\">\n",
       "      <th></th>\n",
       "      <th>id</th>\n",
       "      <th>gender</th>\n",
       "      <th>age</th>\n",
       "      <th>hypertension</th>\n",
       "      <th>heart_disease</th>\n",
       "      <th>ever_married</th>\n",
       "      <th>work_type</th>\n",
       "      <th>Residence_type</th>\n",
       "      <th>avg_glucose_level</th>\n",
       "      <th>bmi</th>\n",
       "      <th>smoking_status</th>\n",
       "      <th>stroke</th>\n",
       "    </tr>\n",
       "  </thead>\n",
       "  <tbody>\n",
       "    <tr>\n",
       "      <th>0</th>\n",
       "      <td>9046</td>\n",
       "      <td>Male</td>\n",
       "      <td>67.0</td>\n",
       "      <td>0</td>\n",
       "      <td>1</td>\n",
       "      <td>Yes</td>\n",
       "      <td>Private</td>\n",
       "      <td>Urban</td>\n",
       "      <td>228.69</td>\n",
       "      <td>36.6</td>\n",
       "      <td>formerly smoked</td>\n",
       "      <td>1</td>\n",
       "    </tr>\n",
       "    <tr>\n",
       "      <th>1</th>\n",
       "      <td>51676</td>\n",
       "      <td>Female</td>\n",
       "      <td>61.0</td>\n",
       "      <td>0</td>\n",
       "      <td>0</td>\n",
       "      <td>Yes</td>\n",
       "      <td>Self-employed</td>\n",
       "      <td>Rural</td>\n",
       "      <td>202.21</td>\n",
       "      <td>NaN</td>\n",
       "      <td>never smoked</td>\n",
       "      <td>1</td>\n",
       "    </tr>\n",
       "    <tr>\n",
       "      <th>2</th>\n",
       "      <td>31112</td>\n",
       "      <td>Male</td>\n",
       "      <td>80.0</td>\n",
       "      <td>0</td>\n",
       "      <td>1</td>\n",
       "      <td>Yes</td>\n",
       "      <td>Private</td>\n",
       "      <td>Rural</td>\n",
       "      <td>105.92</td>\n",
       "      <td>32.5</td>\n",
       "      <td>never smoked</td>\n",
       "      <td>1</td>\n",
       "    </tr>\n",
       "    <tr>\n",
       "      <th>3</th>\n",
       "      <td>60182</td>\n",
       "      <td>Female</td>\n",
       "      <td>49.0</td>\n",
       "      <td>0</td>\n",
       "      <td>0</td>\n",
       "      <td>Yes</td>\n",
       "      <td>Private</td>\n",
       "      <td>Urban</td>\n",
       "      <td>171.23</td>\n",
       "      <td>34.4</td>\n",
       "      <td>smokes</td>\n",
       "      <td>1</td>\n",
       "    </tr>\n",
       "    <tr>\n",
       "      <th>4</th>\n",
       "      <td>1665</td>\n",
       "      <td>Female</td>\n",
       "      <td>79.0</td>\n",
       "      <td>1</td>\n",
       "      <td>0</td>\n",
       "      <td>Yes</td>\n",
       "      <td>Self-employed</td>\n",
       "      <td>Rural</td>\n",
       "      <td>174.12</td>\n",
       "      <td>24.0</td>\n",
       "      <td>never smoked</td>\n",
       "      <td>1</td>\n",
       "    </tr>\n",
       "    <tr>\n",
       "      <th>5</th>\n",
       "      <td>56669</td>\n",
       "      <td>Male</td>\n",
       "      <td>81.0</td>\n",
       "      <td>0</td>\n",
       "      <td>0</td>\n",
       "      <td>Yes</td>\n",
       "      <td>Private</td>\n",
       "      <td>Urban</td>\n",
       "      <td>186.21</td>\n",
       "      <td>29.0</td>\n",
       "      <td>formerly smoked</td>\n",
       "      <td>1</td>\n",
       "    </tr>\n",
       "    <tr>\n",
       "      <th>6</th>\n",
       "      <td>53882</td>\n",
       "      <td>Male</td>\n",
       "      <td>74.0</td>\n",
       "      <td>1</td>\n",
       "      <td>1</td>\n",
       "      <td>Yes</td>\n",
       "      <td>Private</td>\n",
       "      <td>Rural</td>\n",
       "      <td>70.09</td>\n",
       "      <td>27.4</td>\n",
       "      <td>never smoked</td>\n",
       "      <td>1</td>\n",
       "    </tr>\n",
       "    <tr>\n",
       "      <th>7</th>\n",
       "      <td>10434</td>\n",
       "      <td>Female</td>\n",
       "      <td>69.0</td>\n",
       "      <td>0</td>\n",
       "      <td>0</td>\n",
       "      <td>No</td>\n",
       "      <td>Private</td>\n",
       "      <td>Urban</td>\n",
       "      <td>94.39</td>\n",
       "      <td>22.8</td>\n",
       "      <td>never smoked</td>\n",
       "      <td>1</td>\n",
       "    </tr>\n",
       "    <tr>\n",
       "      <th>8</th>\n",
       "      <td>27419</td>\n",
       "      <td>Female</td>\n",
       "      <td>59.0</td>\n",
       "      <td>0</td>\n",
       "      <td>0</td>\n",
       "      <td>Yes</td>\n",
       "      <td>Private</td>\n",
       "      <td>Rural</td>\n",
       "      <td>76.15</td>\n",
       "      <td>NaN</td>\n",
       "      <td>Unknown</td>\n",
       "      <td>1</td>\n",
       "    </tr>\n",
       "    <tr>\n",
       "      <th>9</th>\n",
       "      <td>60491</td>\n",
       "      <td>Female</td>\n",
       "      <td>78.0</td>\n",
       "      <td>0</td>\n",
       "      <td>0</td>\n",
       "      <td>Yes</td>\n",
       "      <td>Private</td>\n",
       "      <td>Urban</td>\n",
       "      <td>58.57</td>\n",
       "      <td>24.2</td>\n",
       "      <td>Unknown</td>\n",
       "      <td>1</td>\n",
       "    </tr>\n",
       "  </tbody>\n",
       "</table>\n",
       "</div>"
      ],
      "text/plain": [
       "      id  gender   age  hypertension  heart_disease ever_married  \\\n",
       "0   9046    Male  67.0             0              1          Yes   \n",
       "1  51676  Female  61.0             0              0          Yes   \n",
       "2  31112    Male  80.0             0              1          Yes   \n",
       "3  60182  Female  49.0             0              0          Yes   \n",
       "4   1665  Female  79.0             1              0          Yes   \n",
       "5  56669    Male  81.0             0              0          Yes   \n",
       "6  53882    Male  74.0             1              1          Yes   \n",
       "7  10434  Female  69.0             0              0           No   \n",
       "8  27419  Female  59.0             0              0          Yes   \n",
       "9  60491  Female  78.0             0              0          Yes   \n",
       "\n",
       "       work_type Residence_type  avg_glucose_level   bmi   smoking_status  \\\n",
       "0        Private          Urban             228.69  36.6  formerly smoked   \n",
       "1  Self-employed          Rural             202.21   NaN     never smoked   \n",
       "2        Private          Rural             105.92  32.5     never smoked   \n",
       "3        Private          Urban             171.23  34.4           smokes   \n",
       "4  Self-employed          Rural             174.12  24.0     never smoked   \n",
       "5        Private          Urban             186.21  29.0  formerly smoked   \n",
       "6        Private          Rural              70.09  27.4     never smoked   \n",
       "7        Private          Urban              94.39  22.8     never smoked   \n",
       "8        Private          Rural              76.15   NaN          Unknown   \n",
       "9        Private          Urban              58.57  24.2          Unknown   \n",
       "\n",
       "   stroke  \n",
       "0       1  \n",
       "1       1  \n",
       "2       1  \n",
       "3       1  \n",
       "4       1  \n",
       "5       1  \n",
       "6       1  \n",
       "7       1  \n",
       "8       1  \n",
       "9       1  "
      ]
     },
     "execution_count": 2,
     "metadata": {},
     "output_type": "execute_result"
    }
   ],
   "source": [
    "data = pd.read_csv(\"healthcare-dataset-stroke-data.csv\")\n",
    "data.head(10)"
   ]
  },
  {
   "cell_type": "markdown",
   "id": "81e22a84",
   "metadata": {
    "papermill": {
     "duration": 0.031997,
     "end_time": "2024-01-04T17:59:57.943203",
     "exception": false,
     "start_time": "2024-01-04T17:59:57.911206",
     "status": "completed"
    },
    "tags": []
   },
   "source": [
    "## Initial Observations"
   ]
  },
  {
   "cell_type": "code",
   "execution_count": null,
   "id": "247e42ae",
   "metadata": {},
   "outputs": [],
   "source": []
  },
  {
   "cell_type": "code",
   "execution_count": null,
   "id": "cd391bf7",
   "metadata": {},
   "outputs": [],
   "source": []
  },
  {
   "cell_type": "code",
   "execution_count": 3,
   "id": "4fb42089",
   "metadata": {
    "ExecuteTime": {
     "end_time": "2024-01-05T21:54:07.182019Z",
     "start_time": "2024-01-05T21:54:06.528073Z"
    },
    "papermill": {
     "duration": 0.04235,
     "end_time": "2024-01-04T17:59:58.016139",
     "exception": false,
     "start_time": "2024-01-04T17:59:57.973789",
     "status": "completed"
    },
    "tags": []
   },
   "outputs": [
    {
     "data": {
      "text/plain": [
       "(5110, 12)"
      ]
     },
     "execution_count": 3,
     "metadata": {},
     "output_type": "execute_result"
    }
   ],
   "source": [
    "data.shape"
   ]
  },
  {
   "cell_type": "code",
   "execution_count": 4,
   "id": "5c06278c",
   "metadata": {
    "ExecuteTime": {
     "end_time": "2024-01-05T21:54:07.182256Z",
     "start_time": "2024-01-05T21:54:06.531059Z"
    },
    "papermill": {
     "duration": 0.039725,
     "end_time": "2024-01-04T17:59:58.087161",
     "exception": false,
     "start_time": "2024-01-04T17:59:58.047436",
     "status": "completed"
    },
    "tags": []
   },
   "outputs": [],
   "source": [
    "# We have 11 Features in total excluding the class\n",
    "# The stroke column is our class"
   ]
  },
  {
   "cell_type": "code",
   "execution_count": 5,
   "id": "da8cf105",
   "metadata": {
    "ExecuteTime": {
     "end_time": "2024-01-05T21:54:07.841454Z",
     "start_time": "2024-01-05T21:54:06.533504Z"
    },
    "papermill": {
     "duration": 0.660257,
     "end_time": "2024-01-04T17:59:58.847862",
     "exception": false,
     "start_time": "2024-01-04T17:59:58.187605",
     "status": "completed"
    },
    "tags": []
   },
   "outputs": [
    {
     "data": {
      "image/png": "[encoded data removed]",
      "text/plain": [
       "<Figure size 640x480 with 1 Axes>"
      ]
     },
     "metadata": {},
     "output_type": "display_data"
    },
    {
     "data": {
      "image/png": "[encoded data removed]",
      "text/plain": [
       "<Figure size 640x480 with 1 Axes>"
      ]
     },
     "metadata": {},
     "output_type": "display_data"
    }
   ],
   "source": [
    "#Class Imbalance\n",
    "# Get pie chart slice labels\n",
    "labels = [\"No\",\"Yes\"]\n",
    "\n",
    "# Get pie chart slice values\n",
    "values = data[\"stroke\"].value_counts().to_numpy()\n",
    "\n",
    "# Create a pie chart of the number of customers for each country origin\n",
    "plt.pie(values, labels=labels, autopct=\"%1.1f%%\")\n",
    "plt.title(\"Class Imbalance(Risk of Heart Attack)\")\n",
    "plt.show()\n",
    "\n",
    "plt.bar(x = labels, height = values)\n",
    "plt.title(\"Class Imbalance(Risk of Heart Attack)\")\n",
    "plt.show()"
   ]
  },
  {
   "cell_type": "markdown",
   "id": "40e0f7bf",
   "metadata": {
    "papermill": {
     "duration": 0.034155,
     "end_time": "2024-01-04T17:59:58.913764",
     "exception": false,
     "start_time": "2024-01-04T17:59:58.879609",
     "status": "completed"
    },
    "tags": []
   },
   "source": [
    "<p>As we can see there is a massive class imbalance in our dataset</p>"
   ]
  },
  {
   "cell_type": "markdown",
   "id": "b933e6e6",
   "metadata": {
    "papermill": {
     "duration": 0.037763,
     "end_time": "2024-01-04T17:59:58.990506",
     "exception": false,
     "start_time": "2024-01-04T17:59:58.952743",
     "status": "completed"
    },
    "tags": []
   },
   "source": [
    "# Visualizations"
   ]
  },
  {
   "cell_type": "markdown",
   "id": "0d932ddf",
   "metadata": {
    "papermill": {
     "duration": 0.033636,
     "end_time": "2024-01-04T17:59:59.063793",
     "exception": false,
     "start_time": "2024-01-04T17:59:59.030157",
     "status": "completed"
    },
    "tags": []
   },
   "source": [
    "### Stroke or not"
   ]
  },
  {
   "cell_type": "code",
   "execution_count": 6,
   "id": "f247897d",
   "metadata": {
    "ExecuteTime": {
     "end_time": "2024-01-05T21:54:07.855072Z",
     "start_time": "2024-01-05T21:54:06.718692Z"
    },
    "papermill": {
     "duration": 0.412911,
     "end_time": "2024-01-04T17:59:59.510559",
     "exception": false,
     "start_time": "2024-01-04T17:59:59.097648",
     "status": "completed"
    },
    "tags": []
   },
   "outputs": [
    {
     "data": {
      "image/png": "[encoded data removed]",
      "text/plain": [
       "<Figure size 1000x600 with 1 Axes>"
      ]
     },
     "metadata": {},
     "output_type": "display_data"
    }
   ],
   "source": [
    "plt.figure(figsize=(10, 6))\n",
    "plt.scatter(data['age'], data['avg_glucose_level'])\n",
    "plt.xlabel('Age')\n",
    "plt.ylabel('Average Glucose Level')\n",
    "plt.title('Age vs Average Glucose Level')\n",
    "plt.show()"
   ]
  },
  {
   "cell_type": "markdown",
   "id": "f9edc1ea",
   "metadata": {
    "papermill": {
     "duration": 0.047162,
     "end_time": "2024-01-04T17:59:59.595876",
     "exception": false,
     "start_time": "2024-01-04T17:59:59.548714",
     "status": "completed"
    },
    "tags": []
   },
   "source": [
    "### Scatter plot of age vs avg_glucose_level\n",
    "We can see there are no direct correlation between age and average glucose level in our dataset.\n",
    "- Lower age doesn't necessary mean lower glucose level and vice versa"
   ]
  },
  {
   "cell_type": "code",
   "execution_count": 7,
   "id": "e486b320",
   "metadata": {
    "ExecuteTime": {
     "end_time": "2024-01-05T21:54:07.855479Z",
     "start_time": "2024-01-05T21:54:06.840600Z"
    },
    "papermill": {
     "duration": 0.484301,
     "end_time": "2024-01-04T18:00:00.119455",
     "exception": false,
     "start_time": "2024-01-04T17:59:59.635154",
     "status": "completed"
    },
    "tags": []
   },
   "outputs": [
    {
     "data": {
      "image/png": "[encoded data removed]",
      "text/plain": [
       "<Figure size 1000x600 with 1 Axes>"
      ]
     },
     "metadata": {},
     "output_type": "display_data"
    }
   ],
   "source": [
    "plt.figure(figsize=(10, 6))\n",
    "plt.hist(data['bmi'], bins=30)\n",
    "plt.xlabel('BMI')\n",
    "plt.ylabel('Count')\n",
    "plt.title('Distribution of BMI')\n",
    "plt.show()"
   ]
  },
  {
   "cell_type": "markdown",
   "id": "2217e065",
   "metadata": {
    "papermill": {
     "duration": 0.040902,
     "end_time": "2024-01-04T18:00:00.204084",
     "exception": false,
     "start_time": "2024-01-04T18:00:00.163182",
     "status": "completed"
    },
    "tags": []
   },
   "source": [
    "### Histogram of bmi\n",
    "- The histogram tells us people in the age of around 30 tends to have the most BMI levels"
   ]
  },
  {
   "cell_type": "code",
   "execution_count": 8,
   "id": "93020c2a",
   "metadata": {
    "ExecuteTime": {
     "end_time": "2024-01-05T21:54:07.856746Z",
     "start_time": "2024-01-05T21:54:06.938872Z"
    },
    "papermill": {
     "duration": 0.316026,
     "end_time": "2024-01-04T18:00:00.564454",
     "exception": false,
     "start_time": "2024-01-04T18:00:00.248428",
     "status": "completed"
    },
    "tags": []
   },
   "outputs": [
    {
     "data": {
      "image/png": "[encoded data removed]",
      "text/plain": [
       "<Figure size 640x480 with 1 Axes>"
      ]
     },
     "metadata": {},
     "output_type": "display_data"
    }
   ],
   "source": [
    "# Creating a countplot with custom colors\n",
    "ax = sns.countplot(x='stroke', data=data, palette=['#A076F9', '#EDE4FF'])\n",
    "\n",
    "# Annotate the counts on top of the bars\n",
    "for p in ax.patches:\n",
    "    ax.annotate(format(p.get_height()), (p.get_x() + p.get_width() / 2., p.get_height()), ha = 'center', va = 'center', xytext = (0, 10), textcoords = 'offset points')\n",
    "\n",
    "plt.show()"
   ]
  },
  {
   "cell_type": "markdown",
   "id": "16662283",
   "metadata": {
    "papermill": {
     "duration": 0.03634,
     "end_time": "2024-01-04T18:00:00.638671",
     "exception": false,
     "start_time": "2024-01-04T18:00:00.602331",
     "status": "completed"
    },
    "tags": []
   },
   "source": [
    "# Data Preprocessing"
   ]
  },
  {
   "cell_type": "markdown",
   "id": "18076639",
   "metadata": {
    "papermill": {
     "duration": 0.036796,
     "end_time": "2024-01-04T18:00:00.711941",
     "exception": false,
     "start_time": "2024-01-04T18:00:00.675145",
     "status": "completed"
    },
    "tags": []
   },
   "source": [
    "### Handling Null Values"
   ]
  },
  {
   "cell_type": "code",
   "execution_count": 9,
   "id": "41bc3aa2",
   "metadata": {
    "ExecuteTime": {
     "end_time": "2024-01-05T21:54:07.856896Z",
     "start_time": "2024-01-05T21:54:06.996080Z"
    },
    "papermill": {
     "duration": 0.048467,
     "end_time": "2024-01-04T18:00:00.794397",
     "exception": false,
     "start_time": "2024-01-04T18:00:00.745930",
     "status": "completed"
    },
    "tags": []
   },
   "outputs": [],
   "source": [
    "df = data.copy()"
   ]
  },
  {
   "cell_type": "code",
   "execution_count": 10,
   "id": "2e1557da",
   "metadata": {
    "ExecuteTime": {
     "end_time": "2024-01-05T21:54:07.857172Z",
     "start_time": "2024-01-05T21:54:07.003014Z"
    },
    "papermill": {
     "duration": 0.054138,
     "end_time": "2024-01-04T18:00:00.884798",
     "exception": false,
     "start_time": "2024-01-04T18:00:00.830660",
     "status": "completed"
    },
    "tags": []
   },
   "outputs": [
    {
     "data": {
      "text/plain": [
       "id                     0\n",
       "gender                 0\n",
       "age                    0\n",
       "hypertension           0\n",
       "heart_disease          0\n",
       "ever_married           0\n",
       "work_type              0\n",
       "Residence_type         0\n",
       "avg_glucose_level      0\n",
       "bmi                  201\n",
       "smoking_status         0\n",
       "stroke                 0\n",
       "dtype: int64"
      ]
     },
     "execution_count": 10,
     "metadata": {},
     "output_type": "execute_result"
    }
   ],
   "source": [
    "#Check total number of null values in each column\n",
    "df.isna().sum()"
   ]
  },
  {
   "cell_type": "code",
   "execution_count": 11,
   "id": "74cb54b4",
   "metadata": {
    "ExecuteTime": {
     "end_time": "2024-01-05T21:54:07.857271Z",
     "start_time": "2024-01-05T21:54:07.011483Z"
    },
    "papermill": {
     "duration": 0.045054,
     "end_time": "2024-01-04T18:00:00.967335",
     "exception": false,
     "start_time": "2024-01-04T18:00:00.922281",
     "status": "completed"
    },
    "tags": []
   },
   "outputs": [],
   "source": [
    "# So we have 201 null values in bmi column"
   ]
  },
  {
   "cell_type": "code",
   "execution_count": 12,
   "id": "700c0b79",
   "metadata": {
    "ExecuteTime": {
     "end_time": "2024-01-05T21:54:07.857506Z",
     "start_time": "2024-01-05T21:54:07.019762Z"
    },
    "papermill": {
     "duration": 0.057969,
     "end_time": "2024-01-04T18:00:01.065470",
     "exception": false,
     "start_time": "2024-01-04T18:00:01.007501",
     "status": "completed"
    },
    "tags": []
   },
   "outputs": [
    {
     "data": {
      "text/plain": [
       "id                   5110\n",
       "gender                  3\n",
       "age                   104\n",
       "hypertension            2\n",
       "heart_disease           2\n",
       "ever_married            2\n",
       "work_type               5\n",
       "Residence_type          2\n",
       "avg_glucose_level    3979\n",
       "bmi                   418\n",
       "smoking_status          4\n",
       "stroke                  2\n",
       "dtype: int64"
      ]
     },
     "execution_count": 12,
     "metadata": {},
     "output_type": "execute_result"
    }
   ],
   "source": [
    "# Now lets see if the bmi column is quantititive or categorical\n",
    "\n",
    "# Check Number of Unique Values\n",
    "df.nunique()"
   ]
  },
  {
   "cell_type": "code",
   "execution_count": 13,
   "id": "a3e85155",
   "metadata": {
    "ExecuteTime": {
     "end_time": "2024-01-05T21:54:07.857710Z",
     "start_time": "2024-01-05T21:54:07.030350Z"
    },
    "papermill": {
     "duration": 0.051477,
     "end_time": "2024-01-04T18:00:01.156359",
     "exception": false,
     "start_time": "2024-01-04T18:00:01.104882",
     "status": "completed"
    },
    "tags": []
   },
   "outputs": [
    {
     "data": {
      "text/plain": [
       "dtype('float64')"
      ]
     },
     "execution_count": 13,
     "metadata": {},
     "output_type": "execute_result"
    }
   ],
   "source": [
    "df[\"bmi\"].dtype"
   ]
  },
  {
   "cell_type": "code",
   "execution_count": 14,
   "id": "b893d598",
   "metadata": {
    "ExecuteTime": {
     "end_time": "2024-01-05T21:54:07.857820Z",
     "start_time": "2024-01-05T21:54:07.034531Z"
    },
    "papermill": {
     "duration": 0.052923,
     "end_time": "2024-01-04T18:00:01.246708",
     "exception": false,
     "start_time": "2024-01-04T18:00:01.193785",
     "status": "completed"
    },
    "tags": []
   },
   "outputs": [],
   "source": [
    "# As bmi has 418 entries and has a type float64, this column quantitive values. So we use mean value to impute it"
   ]
  },
  {
   "cell_type": "code",
   "execution_count": 15,
   "id": "0377016d",
   "metadata": {
    "ExecuteTime": {
     "end_time": "2024-01-05T21:54:07.857909Z",
     "start_time": "2024-01-05T21:54:07.041983Z"
    },
    "papermill": {
     "duration": 0.057717,
     "end_time": "2024-01-04T18:00:01.343417",
     "exception": false,
     "start_time": "2024-01-04T18:00:01.285700",
     "status": "completed"
    },
    "tags": []
   },
   "outputs": [],
   "source": [
    "#Impute using mean value\n",
    "df[\"bmi\"].fillna(value = df[\"bmi\"].mean(),inplace = True)"
   ]
  },
  {
   "cell_type": "code",
   "execution_count": 16,
   "id": "400f6916",
   "metadata": {
    "ExecuteTime": {
     "end_time": "2024-01-05T21:54:07.858506Z",
     "start_time": "2024-01-05T21:54:07.048721Z"
    },
    "papermill": {
     "duration": 0.059573,
     "end_time": "2024-01-04T18:00:01.444001",
     "exception": false,
     "start_time": "2024-01-04T18:00:01.384428",
     "status": "completed"
    },
    "tags": []
   },
   "outputs": [
    {
     "data": {
      "text/plain": [
       "0       36.600000\n",
       "1       28.893237\n",
       "2       32.500000\n",
       "3       34.400000\n",
       "4       24.000000\n",
       "          ...    \n",
       "5105    28.893237\n",
       "5106    40.000000\n",
       "5107    30.600000\n",
       "5108    25.600000\n",
       "5109    26.200000\n",
       "Name: bmi, Length: 5110, dtype: float64"
      ]
     },
     "execution_count": 16,
     "metadata": {},
     "output_type": "execute_result"
    }
   ],
   "source": [
    "df[\"bmi\"]"
   ]
  },
  {
   "cell_type": "code",
   "execution_count": 17,
   "id": "34d39e8e",
   "metadata": {
    "ExecuteTime": {
     "end_time": "2024-01-05T21:54:07.858789Z",
     "start_time": "2024-01-05T21:54:07.056819Z"
    },
    "papermill": {
     "duration": 0.058685,
     "end_time": "2024-01-04T18:00:01.539115",
     "exception": false,
     "start_time": "2024-01-04T18:00:01.480430",
     "status": "completed"
    },
    "tags": []
   },
   "outputs": [
    {
     "data": {
      "text/plain": [
       "id                   0\n",
       "gender               0\n",
       "age                  0\n",
       "hypertension         0\n",
       "heart_disease        0\n",
       "ever_married         0\n",
       "work_type            0\n",
       "Residence_type       0\n",
       "avg_glucose_level    0\n",
       "bmi                  0\n",
       "smoking_status       0\n",
       "stroke               0\n",
       "dtype: int64"
      ]
     },
     "execution_count": 17,
     "metadata": {},
     "output_type": "execute_result"
    }
   ],
   "source": [
    "# Now we have zero null values in our entire dataframe\n",
    "\n",
    "df.isna().sum()"
   ]
  },
  {
   "cell_type": "markdown",
   "id": "5c73db19",
   "metadata": {
    "papermill": {
     "duration": 0.037262,
     "end_time": "2024-01-04T18:00:01.612695",
     "exception": false,
     "start_time": "2024-01-04T18:00:01.575433",
     "status": "completed"
    },
    "tags": []
   },
   "source": [
    "## Dropping id column"
   ]
  },
  {
   "cell_type": "code",
   "execution_count": 18,
   "id": "729196cf",
   "metadata": {
    "ExecuteTime": {
     "end_time": "2024-01-05T21:54:07.858941Z",
     "start_time": "2024-01-05T21:54:07.062301Z"
    },
    "papermill": {
     "duration": 0.049828,
     "end_time": "2024-01-04T18:00:01.698364",
     "exception": false,
     "start_time": "2024-01-04T18:00:01.648536",
     "status": "completed"
    },
    "tags": []
   },
   "outputs": [],
   "source": [
    "# As the id column doesn't have any effect on our class, we drop it\n",
    "\n",
    "df = df.drop(\"id\",axis = 1)"
   ]
  },
  {
   "cell_type": "markdown",
   "id": "4f18b068",
   "metadata": {
    "papermill": {
     "duration": 0.036234,
     "end_time": "2024-01-04T18:00:01.771417",
     "exception": false,
     "start_time": "2024-01-04T18:00:01.735183",
     "status": "completed"
    },
    "tags": []
   },
   "source": [
    "## Encoding"
   ]
  },
  {
   "cell_type": "code",
   "execution_count": 19,
   "id": "36c3f337",
   "metadata": {
    "ExecuteTime": {
     "end_time": "2024-01-05T21:54:07.859711Z",
     "start_time": "2024-01-05T21:54:07.070480Z"
    },
    "papermill": {
     "duration": 0.063426,
     "end_time": "2024-01-04T18:00:01.870948",
     "exception": false,
     "start_time": "2024-01-04T18:00:01.807522",
     "status": "completed"
    },
    "tags": []
   },
   "outputs": [
    {
     "data": {
      "text/html": [
       "<div>\n",
       "<style scoped>\n",
       "    .dataframe tbody tr th:only-of-type {\n",
       "        vertical-align: middle;\n",
       "    }\n",
       "\n",
       "    .dataframe tbody tr th {\n",
       "        vertical-align: top;\n",
       "    }\n",
       "\n",
       "    .dataframe thead th {\n",
       "        text-align: right;\n",
       "    }\n",
       "</style>\n",
       "<table border=\"1\" class=\"dataframe\">\n",
       "  <thead>\n",
       "    <tr style=\"text-align: right;\">\n",
       "      <th></th>\n",
       "      <th>gender</th>\n",
       "      <th>age</th>\n",
       "      <th>hypertension</th>\n",
       "      <th>heart_disease</th>\n",
       "      <th>ever_married</th>\n",
       "      <th>work_type</th>\n",
       "      <th>Residence_type</th>\n",
       "      <th>avg_glucose_level</th>\n",
       "      <th>bmi</th>\n",
       "      <th>smoking_status</th>\n",
       "      <th>stroke</th>\n",
       "    </tr>\n",
       "  </thead>\n",
       "  <tbody>\n",
       "    <tr>\n",
       "      <th>0</th>\n",
       "      <td>Male</td>\n",
       "      <td>67.0</td>\n",
       "      <td>0</td>\n",
       "      <td>1</td>\n",
       "      <td>Yes</td>\n",
       "      <td>Private</td>\n",
       "      <td>Urban</td>\n",
       "      <td>228.69</td>\n",
       "      <td>36.600000</td>\n",
       "      <td>formerly smoked</td>\n",
       "      <td>1</td>\n",
       "    </tr>\n",
       "    <tr>\n",
       "      <th>1</th>\n",
       "      <td>Female</td>\n",
       "      <td>61.0</td>\n",
       "      <td>0</td>\n",
       "      <td>0</td>\n",
       "      <td>Yes</td>\n",
       "      <td>Self-employed</td>\n",
       "      <td>Rural</td>\n",
       "      <td>202.21</td>\n",
       "      <td>28.893237</td>\n",
       "      <td>never smoked</td>\n",
       "      <td>1</td>\n",
       "    </tr>\n",
       "    <tr>\n",
       "      <th>2</th>\n",
       "      <td>Male</td>\n",
       "      <td>80.0</td>\n",
       "      <td>0</td>\n",
       "      <td>1</td>\n",
       "      <td>Yes</td>\n",
       "      <td>Private</td>\n",
       "      <td>Rural</td>\n",
       "      <td>105.92</td>\n",
       "      <td>32.500000</td>\n",
       "      <td>never smoked</td>\n",
       "      <td>1</td>\n",
       "    </tr>\n",
       "    <tr>\n",
       "      <th>3</th>\n",
       "      <td>Female</td>\n",
       "      <td>49.0</td>\n",
       "      <td>0</td>\n",
       "      <td>0</td>\n",
       "      <td>Yes</td>\n",
       "      <td>Private</td>\n",
       "      <td>Urban</td>\n",
       "      <td>171.23</td>\n",
       "      <td>34.400000</td>\n",
       "      <td>smokes</td>\n",
       "      <td>1</td>\n",
       "    </tr>\n",
       "    <tr>\n",
       "      <th>4</th>\n",
       "      <td>Female</td>\n",
       "      <td>79.0</td>\n",
       "      <td>1</td>\n",
       "      <td>0</td>\n",
       "      <td>Yes</td>\n",
       "      <td>Self-employed</td>\n",
       "      <td>Rural</td>\n",
       "      <td>174.12</td>\n",
       "      <td>24.000000</td>\n",
       "      <td>never smoked</td>\n",
       "      <td>1</td>\n",
       "    </tr>\n",
       "  </tbody>\n",
       "</table>\n",
       "</div>"
      ],
      "text/plain": [
       "   gender   age  hypertension  heart_disease ever_married      work_type  \\\n",
       "0    Male  67.0             0              1          Yes        Private   \n",
       "1  Female  61.0             0              0          Yes  Self-employed   \n",
       "2    Male  80.0             0              1          Yes        Private   \n",
       "3  Female  49.0             0              0          Yes        Private   \n",
       "4  Female  79.0             1              0          Yes  Self-employed   \n",
       "\n",
       "  Residence_type  avg_glucose_level        bmi   smoking_status  stroke  \n",
       "0          Urban             228.69  36.600000  formerly smoked       1  \n",
       "1          Rural             202.21  28.893237     never smoked       1  \n",
       "2          Rural             105.92  32.500000     never smoked       1  \n",
       "3          Urban             171.23  34.400000           smokes       1  \n",
       "4          Rural             174.12  24.000000     never smoked       1  "
      ]
     },
     "execution_count": 19,
     "metadata": {},
     "output_type": "execute_result"
    }
   ],
   "source": [
    "df.head(5)"
   ]
  },
  {
   "cell_type": "code",
   "execution_count": 20,
   "id": "9264fdf2",
   "metadata": {
    "ExecuteTime": {
     "end_time": "2024-01-05T21:54:07.860013Z",
     "start_time": "2024-01-05T21:54:07.075626Z"
    },
    "papermill": {
     "duration": 0.052317,
     "end_time": "2024-01-04T18:00:01.961175",
     "exception": false,
     "start_time": "2024-01-04T18:00:01.908858",
     "status": "completed"
    },
    "tags": []
   },
   "outputs": [
    {
     "data": {
      "text/plain": [
       "gender                object\n",
       "age                  float64\n",
       "hypertension           int64\n",
       "heart_disease          int64\n",
       "ever_married          object\n",
       "work_type             object\n",
       "Residence_type        object\n",
       "avg_glucose_level    float64\n",
       "bmi                  float64\n",
       "smoking_status        object\n",
       "stroke                 int64\n",
       "dtype: object"
      ]
     },
     "execution_count": 20,
     "metadata": {},
     "output_type": "execute_result"
    }
   ],
   "source": [
    "df.dtypes"
   ]
  },
  {
   "cell_type": "code",
   "execution_count": 21,
   "id": "12ca784a",
   "metadata": {
    "ExecuteTime": {
     "end_time": "2024-01-05T21:54:08.267843Z",
     "start_time": "2024-01-05T21:54:07.081811Z"
    },
    "papermill": {
     "duration": 0.264278,
     "end_time": "2024-01-04T18:00:02.262556",
     "exception": false,
     "start_time": "2024-01-04T18:00:01.998278",
     "status": "completed"
    },
    "tags": []
   },
   "outputs": [],
   "source": [
    "# Import LabelEncoder\n",
    "from sklearn.preprocessing import LabelEncoder"
   ]
  },
  {
   "cell_type": "code",
   "execution_count": 22,
   "id": "5529c7f9",
   "metadata": {
    "ExecuteTime": {
     "end_time": "2024-01-05T21:54:08.268148Z",
     "start_time": "2024-01-05T21:54:07.208021Z"
    },
    "papermill": {
     "duration": 0.052776,
     "end_time": "2024-01-04T18:00:02.351555",
     "exception": false,
     "start_time": "2024-01-04T18:00:02.298779",
     "status": "completed"
    },
    "tags": []
   },
   "outputs": [],
   "source": [
    "#Initialize LabelEncoder\n",
    "encoder = LabelEncoder()"
   ]
  },
  {
   "cell_type": "code",
   "execution_count": 23,
   "id": "7ad0a845",
   "metadata": {
    "ExecuteTime": {
     "end_time": "2024-01-05T21:54:08.268278Z",
     "start_time": "2024-01-05T21:54:07.219982Z"
    },
    "papermill": {
     "duration": 0.083481,
     "end_time": "2024-01-04T18:00:02.476901",
     "exception": false,
     "start_time": "2024-01-04T18:00:02.393420",
     "status": "completed"
    },
    "tags": []
   },
   "outputs": [],
   "source": [
    "#Handle Encoding\n",
    "\n",
    "for col_name in df.columns:\n",
    "    \n",
    "    if df[col_name].dtype == \"object\":\n",
    "        df[col_name] = encoder.fit_transform(df[[col_name]])"
   ]
  },
  {
   "cell_type": "code",
   "execution_count": 24,
   "id": "23317047",
   "metadata": {
    "ExecuteTime": {
     "end_time": "2024-01-05T21:54:08.268567Z",
     "start_time": "2024-01-05T21:54:07.223736Z"
    },
    "papermill": {
     "duration": 0.052876,
     "end_time": "2024-01-04T18:00:02.566082",
     "exception": false,
     "start_time": "2024-01-04T18:00:02.513206",
     "status": "completed"
    },
    "tags": []
   },
   "outputs": [
    {
     "data": {
      "text/plain": [
       "gender                 int64\n",
       "age                  float64\n",
       "hypertension           int64\n",
       "heart_disease          int64\n",
       "ever_married           int64\n",
       "work_type              int64\n",
       "Residence_type         int64\n",
       "avg_glucose_level    float64\n",
       "bmi                  float64\n",
       "smoking_status         int64\n",
       "stroke                 int64\n",
       "dtype: object"
      ]
     },
     "execution_count": 24,
     "metadata": {},
     "output_type": "execute_result"
    }
   ],
   "source": [
    "#Check current datatype state\n",
    "\n",
    "df.dtypes"
   ]
  },
  {
   "cell_type": "code",
   "execution_count": 25,
   "id": "a894238e",
   "metadata": {
    "ExecuteTime": {
     "end_time": "2024-01-05T21:54:08.269270Z",
     "start_time": "2024-01-05T21:54:07.229064Z"
    },
    "papermill": {
     "duration": 0.061699,
     "end_time": "2024-01-04T18:00:02.664752",
     "exception": false,
     "start_time": "2024-01-04T18:00:02.603053",
     "status": "completed"
    },
    "tags": []
   },
   "outputs": [
    {
     "data": {
      "text/html": [
       "<div>\n",
       "<style scoped>\n",
       "    .dataframe tbody tr th:only-of-type {\n",
       "        vertical-align: middle;\n",
       "    }\n",
       "\n",
       "    .dataframe tbody tr th {\n",
       "        vertical-align: top;\n",
       "    }\n",
       "\n",
       "    .dataframe thead th {\n",
       "        text-align: right;\n",
       "    }\n",
       "</style>\n",
       "<table border=\"1\" class=\"dataframe\">\n",
       "  <thead>\n",
       "    <tr style=\"text-align: right;\">\n",
       "      <th></th>\n",
       "      <th>gender</th>\n",
       "      <th>age</th>\n",
       "      <th>hypertension</th>\n",
       "      <th>heart_disease</th>\n",
       "      <th>ever_married</th>\n",
       "      <th>work_type</th>\n",
       "      <th>Residence_type</th>\n",
       "      <th>avg_glucose_level</th>\n",
       "      <th>bmi</th>\n",
       "      <th>smoking_status</th>\n",
       "      <th>stroke</th>\n",
       "    </tr>\n",
       "  </thead>\n",
       "  <tbody>\n",
       "    <tr>\n",
       "      <th>0</th>\n",
       "      <td>1</td>\n",
       "      <td>67.0</td>\n",
       "      <td>0</td>\n",
       "      <td>1</td>\n",
       "      <td>1</td>\n",
       "      <td>2</td>\n",
       "      <td>1</td>\n",
       "      <td>228.69</td>\n",
       "      <td>36.600000</td>\n",
       "      <td>1</td>\n",
       "      <td>1</td>\n",
       "    </tr>\n",
       "    <tr>\n",
       "      <th>1</th>\n",
       "      <td>0</td>\n",
       "      <td>61.0</td>\n",
       "      <td>0</td>\n",
       "      <td>0</td>\n",
       "      <td>1</td>\n",
       "      <td>3</td>\n",
       "      <td>0</td>\n",
       "      <td>202.21</td>\n",
       "      <td>28.893237</td>\n",
       "      <td>2</td>\n",
       "      <td>1</td>\n",
       "    </tr>\n",
       "    <tr>\n",
       "      <th>2</th>\n",
       "      <td>1</td>\n",
       "      <td>80.0</td>\n",
       "      <td>0</td>\n",
       "      <td>1</td>\n",
       "      <td>1</td>\n",
       "      <td>2</td>\n",
       "      <td>0</td>\n",
       "      <td>105.92</td>\n",
       "      <td>32.500000</td>\n",
       "      <td>2</td>\n",
       "      <td>1</td>\n",
       "    </tr>\n",
       "    <tr>\n",
       "      <th>3</th>\n",
       "      <td>0</td>\n",
       "      <td>49.0</td>\n",
       "      <td>0</td>\n",
       "      <td>0</td>\n",
       "      <td>1</td>\n",
       "      <td>2</td>\n",
       "      <td>1</td>\n",
       "      <td>171.23</td>\n",
       "      <td>34.400000</td>\n",
       "      <td>3</td>\n",
       "      <td>1</td>\n",
       "    </tr>\n",
       "    <tr>\n",
       "      <th>4</th>\n",
       "      <td>0</td>\n",
       "      <td>79.0</td>\n",
       "      <td>1</td>\n",
       "      <td>0</td>\n",
       "      <td>1</td>\n",
       "      <td>3</td>\n",
       "      <td>0</td>\n",
       "      <td>174.12</td>\n",
       "      <td>24.000000</td>\n",
       "      <td>2</td>\n",
       "      <td>1</td>\n",
       "    </tr>\n",
       "  </tbody>\n",
       "</table>\n",
       "</div>"
      ],
      "text/plain": [
       "   gender   age  hypertension  heart_disease  ever_married  work_type  \\\n",
       "0       1  67.0             0              1             1          2   \n",
       "1       0  61.0             0              0             1          3   \n",
       "2       1  80.0             0              1             1          2   \n",
       "3       0  49.0             0              0             1          2   \n",
       "4       0  79.0             1              0             1          3   \n",
       "\n",
       "   Residence_type  avg_glucose_level        bmi  smoking_status  stroke  \n",
       "0               1             228.69  36.600000               1       1  \n",
       "1               0             202.21  28.893237               2       1  \n",
       "2               0             105.92  32.500000               2       1  \n",
       "3               1             171.23  34.400000               3       1  \n",
       "4               0             174.12  24.000000               2       1  "
      ]
     },
     "execution_count": 25,
     "metadata": {},
     "output_type": "execute_result"
    }
   ],
   "source": [
    "df.head(5)"
   ]
  },
  {
   "cell_type": "markdown",
   "id": "f6a8e088",
   "metadata": {
    "papermill": {
     "duration": 0.036719,
     "end_time": "2024-01-04T18:00:02.738992",
     "exception": false,
     "start_time": "2024-01-04T18:00:02.702273",
     "status": "completed"
    },
    "tags": []
   },
   "source": [
    "## Scaling"
   ]
  },
  {
   "cell_type": "code",
   "execution_count": 26,
   "id": "6bd30de6",
   "metadata": {
    "ExecuteTime": {
     "end_time": "2024-01-05T21:54:08.269929Z",
     "start_time": "2024-01-05T21:54:07.233924Z"
    },
    "papermill": {
     "duration": 0.055711,
     "end_time": "2024-01-04T18:00:02.830550",
     "exception": false,
     "start_time": "2024-01-04T18:00:02.774839",
     "status": "completed"
    },
    "tags": []
   },
   "outputs": [
    {
     "data": {
      "text/plain": [
       "gender                  3\n",
       "age                   104\n",
       "hypertension            2\n",
       "heart_disease           2\n",
       "ever_married            2\n",
       "work_type               5\n",
       "Residence_type          2\n",
       "avg_glucose_level    3979\n",
       "bmi                   419\n",
       "smoking_status          4\n",
       "stroke                  2\n",
       "dtype: int64"
      ]
     },
     "execution_count": 26,
     "metadata": {},
     "output_type": "execute_result"
    }
   ],
   "source": [
    "df.nunique()"
   ]
  },
  {
   "cell_type": "code",
   "execution_count": 27,
   "id": "e768b090",
   "metadata": {
    "ExecuteTime": {
     "end_time": "2024-01-05T21:54:08.270312Z",
     "start_time": "2024-01-05T21:54:07.242296Z"
    },
    "papermill": {
     "duration": 0.049714,
     "end_time": "2024-01-04T18:00:02.921361",
     "exception": false,
     "start_time": "2024-01-04T18:00:02.871647",
     "status": "completed"
    },
    "tags": []
   },
   "outputs": [],
   "source": [
    "# We can scale those columns where the nunique value is greater than 5"
   ]
  },
  {
   "cell_type": "code",
   "execution_count": 28,
   "id": "2330d5ad",
   "metadata": {
    "ExecuteTime": {
     "end_time": "2024-01-05T21:54:08.270528Z",
     "start_time": "2024-01-05T21:54:07.245263Z"
    },
    "papermill": {
     "duration": 0.052087,
     "end_time": "2024-01-04T18:00:03.013101",
     "exception": false,
     "start_time": "2024-01-04T18:00:02.961014",
     "status": "completed"
    },
    "tags": []
   },
   "outputs": [],
   "source": [
    "from sklearn.preprocessing import MinMaxScaler"
   ]
  },
  {
   "cell_type": "code",
   "execution_count": 29,
   "id": "5905882f",
   "metadata": {
    "ExecuteTime": {
     "end_time": "2024-01-05T21:54:08.270726Z",
     "start_time": "2024-01-05T21:54:07.248140Z"
    },
    "papermill": {
     "duration": 0.048675,
     "end_time": "2024-01-04T18:00:03.103207",
     "exception": false,
     "start_time": "2024-01-04T18:00:03.054532",
     "status": "completed"
    },
    "tags": []
   },
   "outputs": [],
   "source": [
    "scaler = MinMaxScaler()"
   ]
  },
  {
   "cell_type": "code",
   "execution_count": 30,
   "id": "0da0c37b",
   "metadata": {
    "ExecuteTime": {
     "end_time": "2024-01-05T21:54:08.271756Z",
     "start_time": "2024-01-05T21:54:07.251335Z"
    },
    "papermill": {
     "duration": 0.070252,
     "end_time": "2024-01-04T18:00:03.211415",
     "exception": false,
     "start_time": "2024-01-04T18:00:03.141163",
     "status": "completed"
    },
    "tags": []
   },
   "outputs": [],
   "source": [
    "for col_name in df.columns:\n",
    "    if df[col_name].nunique() > 5: \n",
    "        df[col_name] = scaler.fit_transform(df[[col_name]])"
   ]
  },
  {
   "cell_type": "code",
   "execution_count": 31,
   "id": "9b3a0ed2",
   "metadata": {
    "ExecuteTime": {
     "end_time": "2024-01-05T21:54:08.273198Z",
     "start_time": "2024-01-05T21:54:07.260760Z"
    },
    "papermill": {
     "duration": 0.062011,
     "end_time": "2024-01-04T18:00:03.311967",
     "exception": false,
     "start_time": "2024-01-04T18:00:03.249956",
     "status": "completed"
    },
    "tags": []
   },
   "outputs": [
    {
     "data": {
      "text/html": [
       "<div>\n",
       "<style scoped>\n",
       "    .dataframe tbody tr th:only-of-type {\n",
       "        vertical-align: middle;\n",
       "    }\n",
       "\n",
       "    .dataframe tbody tr th {\n",
       "        vertical-align: top;\n",
       "    }\n",
       "\n",
       "    .dataframe thead th {\n",
       "        text-align: right;\n",
       "    }\n",
       "</style>\n",
       "<table border=\"1\" class=\"dataframe\">\n",
       "  <thead>\n",
       "    <tr style=\"text-align: right;\">\n",
       "      <th></th>\n",
       "      <th>gender</th>\n",
       "      <th>age</th>\n",
       "      <th>hypertension</th>\n",
       "      <th>heart_disease</th>\n",
       "      <th>ever_married</th>\n",
       "      <th>work_type</th>\n",
       "      <th>Residence_type</th>\n",
       "      <th>avg_glucose_level</th>\n",
       "      <th>bmi</th>\n",
       "      <th>smoking_status</th>\n",
       "      <th>stroke</th>\n",
       "    </tr>\n",
       "  </thead>\n",
       "  <tbody>\n",
       "    <tr>\n",
       "      <th>0</th>\n",
       "      <td>1</td>\n",
       "      <td>0.816895</td>\n",
       "      <td>0</td>\n",
       "      <td>1</td>\n",
       "      <td>1</td>\n",
       "      <td>2</td>\n",
       "      <td>1</td>\n",
       "      <td>0.801265</td>\n",
       "      <td>0.301260</td>\n",
       "      <td>1</td>\n",
       "      <td>1</td>\n",
       "    </tr>\n",
       "    <tr>\n",
       "      <th>1</th>\n",
       "      <td>0</td>\n",
       "      <td>0.743652</td>\n",
       "      <td>0</td>\n",
       "      <td>0</td>\n",
       "      <td>1</td>\n",
       "      <td>3</td>\n",
       "      <td>0</td>\n",
       "      <td>0.679023</td>\n",
       "      <td>0.212981</td>\n",
       "      <td>2</td>\n",
       "      <td>1</td>\n",
       "    </tr>\n",
       "    <tr>\n",
       "      <th>2</th>\n",
       "      <td>1</td>\n",
       "      <td>0.975586</td>\n",
       "      <td>0</td>\n",
       "      <td>1</td>\n",
       "      <td>1</td>\n",
       "      <td>2</td>\n",
       "      <td>0</td>\n",
       "      <td>0.234512</td>\n",
       "      <td>0.254296</td>\n",
       "      <td>2</td>\n",
       "      <td>1</td>\n",
       "    </tr>\n",
       "    <tr>\n",
       "      <th>3</th>\n",
       "      <td>0</td>\n",
       "      <td>0.597168</td>\n",
       "      <td>0</td>\n",
       "      <td>0</td>\n",
       "      <td>1</td>\n",
       "      <td>2</td>\n",
       "      <td>1</td>\n",
       "      <td>0.536008</td>\n",
       "      <td>0.276060</td>\n",
       "      <td>3</td>\n",
       "      <td>1</td>\n",
       "    </tr>\n",
       "    <tr>\n",
       "      <th>4</th>\n",
       "      <td>0</td>\n",
       "      <td>0.963379</td>\n",
       "      <td>1</td>\n",
       "      <td>0</td>\n",
       "      <td>1</td>\n",
       "      <td>3</td>\n",
       "      <td>0</td>\n",
       "      <td>0.549349</td>\n",
       "      <td>0.156930</td>\n",
       "      <td>2</td>\n",
       "      <td>1</td>\n",
       "    </tr>\n",
       "  </tbody>\n",
       "</table>\n",
       "</div>"
      ],
      "text/plain": [
       "   gender       age  hypertension  heart_disease  ever_married  work_type  \\\n",
       "0       1  0.816895             0              1             1          2   \n",
       "1       0  0.743652             0              0             1          3   \n",
       "2       1  0.975586             0              1             1          2   \n",
       "3       0  0.597168             0              0             1          2   \n",
       "4       0  0.963379             1              0             1          3   \n",
       "\n",
       "   Residence_type  avg_glucose_level       bmi  smoking_status  stroke  \n",
       "0               1           0.801265  0.301260               1       1  \n",
       "1               0           0.679023  0.212981               2       1  \n",
       "2               0           0.234512  0.254296               2       1  \n",
       "3               1           0.536008  0.276060               3       1  \n",
       "4               0           0.549349  0.156930               2       1  "
      ]
     },
     "execution_count": 31,
     "metadata": {},
     "output_type": "execute_result"
    }
   ],
   "source": [
    "df.head(5)"
   ]
  },
  {
   "cell_type": "markdown",
   "id": "1e529e7e",
   "metadata": {
    "papermill": {
     "duration": 0.036827,
     "end_time": "2024-01-04T18:00:03.385494",
     "exception": false,
     "start_time": "2024-01-04T18:00:03.348667",
     "status": "completed"
    },
    "tags": []
   },
   "source": [
    "# Correlation Matrix"
   ]
  },
  {
   "cell_type": "code",
   "execution_count": 32,
   "id": "6f5506bc",
   "metadata": {
    "ExecuteTime": {
     "end_time": "2024-01-05T21:54:08.304370Z",
     "start_time": "2024-01-05T21:54:07.264199Z"
    },
    "papermill": {
     "duration": 0.060891,
     "end_time": "2024-01-04T18:00:03.484747",
     "exception": false,
     "start_time": "2024-01-04T18:00:03.423856",
     "status": "completed"
    },
    "tags": []
   },
   "outputs": [],
   "source": [
    "corr = df.corr()"
   ]
  },
  {
   "cell_type": "code",
   "execution_count": 33,
   "id": "a01f95ba",
   "metadata": {
    "ExecuteTime": {
     "end_time": "2024-01-05T21:54:08.305264Z",
     "start_time": "2024-01-05T21:54:07.274834Z"
    },
    "execution": {
     "iopub.execute_input": "2024-01-04T18:00:03.565598Z",
     "iopub.status.busy": "2024-01-04T18:00:03.565098Z",
     "iopub.status.idle": "2024-01-04T18:00:04.452020Z",
     "shell.execute_reply": "2024-01-04T18:00:04.450066Z"
    },
    "papermill": {
     "duration": 0.931461,
     "end_time": "2024-01-04T18:00:04.455554",
     "exception": false,
     "start_time": "2024-01-04T18:00:03.524093",
     "status": "completed"
    },
    "tags": []
   },
   "outputs": [
    {
     "data": {
      "image/png": "[encoded data removed]",
      "text/plain": [
       "<Figure size 1000x1000 with 2 Axes>"
      ]
     },
     "metadata": {},
     "output_type": "display_data"
    }
   ],
   "source": [
    "plt.figure(figsize=(10, 10))\n",
    "sns.heatmap(corr, annot=True, cmap=\"coolwarm\", fmt=\".3f\", linewidths=0.5)\n",
    "plt.title(\"Correlation Matrix\")\n",
    "plt.show()"
   ]
  },
  {
   "cell_type": "markdown",
   "id": "a186e768",
   "metadata": {
    "papermill": {
     "duration": 0.042932,
     "end_time": "2024-01-04T18:00:04.539224",
     "exception": false,
     "start_time": "2024-01-04T18:00:04.496292",
     "status": "completed"
    },
    "tags": []
   },
   "source": [
    "# Train Test Split"
   ]
  },
  {
   "cell_type": "code",
   "execution_count": 34,
   "id": "c8254de3",
   "metadata": {
    "ExecuteTime": {
     "end_time": "2024-01-05T21:54:08.305928Z",
     "start_time": "2024-01-05T21:54:07.468075Z"
    },
    "execution": {
     "iopub.execute_input": "2024-01-04T18:00:04.627151Z",
     "iopub.status.busy": "2024-01-04T18:00:04.626700Z",
     "iopub.status.idle": "2024-01-04T18:00:04.633951Z",
     "shell.execute_reply": "2024-01-04T18:00:04.632620Z"
    },
    "papermill": {
     "duration": 0.056127,
     "end_time": "2024-01-04T18:00:04.637526",
     "exception": false,
     "start_time": "2024-01-04T18:00:04.581399",
     "status": "completed"
    },
    "tags": []
   },
   "outputs": [],
   "source": [
    "X = df.drop(\"stroke\", axis = 1)"
   ]
  },
  {
   "cell_type": "code",
   "execution_count": 35,
   "id": "537d7d47",
   "metadata": {
    "ExecuteTime": {
     "end_time": "2024-01-05T21:54:08.306213Z",
     "start_time": "2024-01-05T21:54:07.471057Z"
    },
    "execution": {
     "iopub.execute_input": "2024-01-04T18:00:04.727207Z",
     "iopub.status.busy": "2024-01-04T18:00:04.725964Z",
     "iopub.status.idle": "2024-01-04T18:00:04.731986Z",
     "shell.execute_reply": "2024-01-04T18:00:04.731007Z"
    },
    "papermill": {
     "duration": 0.054815,
     "end_time": "2024-01-04T18:00:04.734952",
     "exception": false,
     "start_time": "2024-01-04T18:00:04.680137",
     "status": "completed"
    },
    "tags": []
   },
   "outputs": [],
   "source": [
    "y = df[\"stroke\"]"
   ]
  },
  {
   "cell_type": "code",
   "execution_count": 36,
   "id": "9659d10b",
   "metadata": {
    "ExecuteTime": {
     "end_time": "2024-01-05T21:54:08.306448Z",
     "start_time": "2024-01-05T21:54:07.476908Z"
    },
    "execution": {
     "iopub.execute_input": "2024-01-04T18:00:04.817934Z",
     "iopub.status.busy": "2024-01-04T18:00:04.817139Z",
     "iopub.status.idle": "2024-01-04T18:00:04.973075Z",
     "shell.execute_reply": "2024-01-04T18:00:04.971056Z"
    },
    "papermill": {
     "duration": 0.200934,
     "end_time": "2024-01-04T18:00:04.976185",
     "exception": false,
     "start_time": "2024-01-04T18:00:04.775251",
     "status": "completed"
    },
    "tags": []
   },
   "outputs": [],
   "source": [
    "#import train test split\n",
    "from sklearn.model_selection import train_test_split"
   ]
  },
  {
   "cell_type": "code",
   "execution_count": 37,
   "id": "0130e244",
   "metadata": {
    "ExecuteTime": {
     "end_time": "2024-01-05T21:54:08.306643Z",
     "start_time": "2024-01-05T21:54:07.596472Z"
    },
    "execution": {
     "iopub.execute_input": "2024-01-04T18:00:05.068302Z",
     "iopub.status.busy": "2024-01-04T18:00:05.066799Z",
     "iopub.status.idle": "2024-01-04T18:00:05.077906Z",
     "shell.execute_reply": "2024-01-04T18:00:05.076842Z"
    },
    "papermill": {
     "duration": 0.060749,
     "end_time": "2024-01-04T18:00:05.081539",
     "exception": false,
     "start_time": "2024-01-04T18:00:05.020790",
     "status": "completed"
    },
    "tags": []
   },
   "outputs": [],
   "source": [
    "X_train, X_test, y_train, y_test = train_test_split(X, y, test_size=0.30, random_state=42) #Spliting the dataset into 70% - 30% ratio"
   ]
  },
  {
   "cell_type": "code",
   "execution_count": 38,
   "id": "725c8e9d",
   "metadata": {},
   "outputs": [
    {
     "data": {
      "text/html": [
       "<div>\n",
       "<style scoped>\n",
       "    .dataframe tbody tr th:only-of-type {\n",
       "        vertical-align: middle;\n",
       "    }\n",
       "\n",
       "    .dataframe tbody tr th {\n",
       "        vertical-align: top;\n",
       "    }\n",
       "\n",
       "    .dataframe thead th {\n",
       "        text-align: right;\n",
       "    }\n",
       "</style>\n",
       "<table border=\"1\" class=\"dataframe\">\n",
       "  <thead>\n",
       "    <tr style=\"text-align: right;\">\n",
       "      <th></th>\n",
       "      <th>gender</th>\n",
       "      <th>age</th>\n",
       "      <th>hypertension</th>\n",
       "      <th>heart_disease</th>\n",
       "      <th>ever_married</th>\n",
       "      <th>work_type</th>\n",
       "      <th>Residence_type</th>\n",
       "      <th>avg_glucose_level</th>\n",
       "      <th>bmi</th>\n",
       "      <th>smoking_status</th>\n",
       "      <th>stroke</th>\n",
       "    </tr>\n",
       "  </thead>\n",
       "  <tbody>\n",
       "    <tr>\n",
       "      <th>3897</th>\n",
       "      <td>1</td>\n",
       "      <td>0.047852</td>\n",
       "      <td>0</td>\n",
       "      <td>0</td>\n",
       "      <td>0</td>\n",
       "      <td>4</td>\n",
       "      <td>0</td>\n",
       "      <td>0.162958</td>\n",
       "      <td>0.067583</td>\n",
       "      <td>0</td>\n",
       "      <td>0</td>\n",
       "    </tr>\n",
       "    <tr>\n",
       "      <th>576</th>\n",
       "      <td>1</td>\n",
       "      <td>0.353027</td>\n",
       "      <td>0</td>\n",
       "      <td>0</td>\n",
       "      <td>0</td>\n",
       "      <td>2</td>\n",
       "      <td>1</td>\n",
       "      <td>0.703813</td>\n",
       "      <td>0.143184</td>\n",
       "      <td>3</td>\n",
       "      <td>0</td>\n",
       "    </tr>\n",
       "    <tr>\n",
       "      <th>4013</th>\n",
       "      <td>1</td>\n",
       "      <td>0.536133</td>\n",
       "      <td>1</td>\n",
       "      <td>0</td>\n",
       "      <td>1</td>\n",
       "      <td>2</td>\n",
       "      <td>0</td>\n",
       "      <td>0.166928</td>\n",
       "      <td>0.185567</td>\n",
       "      <td>2</td>\n",
       "      <td>0</td>\n",
       "    </tr>\n",
       "    <tr>\n",
       "      <th>4536</th>\n",
       "      <td>0</td>\n",
       "      <td>0.829102</td>\n",
       "      <td>1</td>\n",
       "      <td>0</td>\n",
       "      <td>1</td>\n",
       "      <td>2</td>\n",
       "      <td>1</td>\n",
       "      <td>0.441418</td>\n",
       "      <td>0.343643</td>\n",
       "      <td>0</td>\n",
       "      <td>0</td>\n",
       "    </tr>\n",
       "    <tr>\n",
       "      <th>1180</th>\n",
       "      <td>0</td>\n",
       "      <td>0.755859</td>\n",
       "      <td>0</td>\n",
       "      <td>0</td>\n",
       "      <td>1</td>\n",
       "      <td>2</td>\n",
       "      <td>0</td>\n",
       "      <td>0.126720</td>\n",
       "      <td>0.294387</td>\n",
       "      <td>1</td>\n",
       "      <td>0</td>\n",
       "    </tr>\n",
       "  </tbody>\n",
       "</table>\n",
       "</div>"
      ],
      "text/plain": [
       "      gender       age  hypertension  heart_disease  ever_married  work_type  \\\n",
       "3897       1  0.047852             0              0             0          4   \n",
       "576        1  0.353027             0              0             0          2   \n",
       "4013       1  0.536133             1              0             1          2   \n",
       "4536       0  0.829102             1              0             1          2   \n",
       "1180       0  0.755859             0              0             1          2   \n",
       "\n",
       "      Residence_type  avg_glucose_level       bmi  smoking_status  stroke  \n",
       "3897               0           0.162958  0.067583               0       0  \n",
       "576                1           0.703813  0.143184               3       0  \n",
       "4013               0           0.166928  0.185567               2       0  \n",
       "4536               1           0.441418  0.343643               0       0  \n",
       "1180               0           0.126720  0.294387               1       0  "
      ]
     },
     "execution_count": 38,
     "metadata": {},
     "output_type": "execute_result"
    }
   ],
   "source": [
    "train_df = X_train.copy()\n",
    "train_df['stroke'] = y_train\n",
    "train_df.head(5)"
   ]
  },
  {
   "cell_type": "code",
   "execution_count": 39,
   "id": "4a13bd81",
   "metadata": {},
   "outputs": [],
   "source": [
    "\n"
   ]
  },
  {
   "cell_type": "code",
   "execution_count": 40,
   "id": "aa3c2b05",
   "metadata": {
    "ExecuteTime": {
     "end_time": "2024-01-05T21:54:08.308620Z",
     "start_time": "2024-01-05T21:54:07.600257Z"
    },
    "execution": {
     "iopub.execute_input": "2024-01-04T18:00:05.169076Z",
     "iopub.status.busy": "2024-01-04T18:00:05.168283Z",
     "iopub.status.idle": "2024-01-04T18:00:05.191983Z",
     "shell.execute_reply": "2024-01-04T18:00:05.189389Z"
    },
    "papermill": {
     "duration": 0.069633,
     "end_time": "2024-01-04T18:00:05.195486",
     "exception": false,
     "start_time": "2024-01-04T18:00:05.125853",
     "status": "completed"
    },
    "tags": []
   },
   "outputs": [
    {
     "data": {
      "text/html": [
       "<div>\n",
       "<style scoped>\n",
       "    .dataframe tbody tr th:only-of-type {\n",
       "        vertical-align: middle;\n",
       "    }\n",
       "\n",
       "    .dataframe tbody tr th {\n",
       "        vertical-align: top;\n",
       "    }\n",
       "\n",
       "    .dataframe thead th {\n",
       "        text-align: right;\n",
       "    }\n",
       "</style>\n",
       "<table border=\"1\" class=\"dataframe\">\n",
       "  <thead>\n",
       "    <tr style=\"text-align: right;\">\n",
       "      <th></th>\n",
       "      <th>gender</th>\n",
       "      <th>age</th>\n",
       "      <th>hypertension</th>\n",
       "      <th>heart_disease</th>\n",
       "      <th>ever_married</th>\n",
       "      <th>work_type</th>\n",
       "      <th>Residence_type</th>\n",
       "      <th>avg_glucose_level</th>\n",
       "      <th>bmi</th>\n",
       "      <th>smoking_status</th>\n",
       "    </tr>\n",
       "  </thead>\n",
       "  <tbody>\n",
       "    <tr>\n",
       "      <th>4688</th>\n",
       "      <td>1</td>\n",
       "      <td>0.377441</td>\n",
       "      <td>0</td>\n",
       "      <td>0</td>\n",
       "      <td>0</td>\n",
       "      <td>3</td>\n",
       "      <td>0</td>\n",
       "      <td>0.044917</td>\n",
       "      <td>0.145475</td>\n",
       "      <td>0</td>\n",
       "    </tr>\n",
       "    <tr>\n",
       "      <th>4478</th>\n",
       "      <td>1</td>\n",
       "      <td>0.487305</td>\n",
       "      <td>0</td>\n",
       "      <td>0</td>\n",
       "      <td>1</td>\n",
       "      <td>3</td>\n",
       "      <td>0</td>\n",
       "      <td>0.046949</td>\n",
       "      <td>0.206186</td>\n",
       "      <td>2</td>\n",
       "    </tr>\n",
       "    <tr>\n",
       "      <th>3849</th>\n",
       "      <td>0</td>\n",
       "      <td>0.096680</td>\n",
       "      <td>0</td>\n",
       "      <td>0</td>\n",
       "      <td>0</td>\n",
       "      <td>4</td>\n",
       "      <td>1</td>\n",
       "      <td>0.089096</td>\n",
       "      <td>0.139748</td>\n",
       "      <td>0</td>\n",
       "    </tr>\n",
       "    <tr>\n",
       "      <th>4355</th>\n",
       "      <td>0</td>\n",
       "      <td>0.963379</td>\n",
       "      <td>1</td>\n",
       "      <td>0</td>\n",
       "      <td>1</td>\n",
       "      <td>3</td>\n",
       "      <td>0</td>\n",
       "      <td>0.099344</td>\n",
       "      <td>0.105384</td>\n",
       "      <td>2</td>\n",
       "    </tr>\n",
       "    <tr>\n",
       "      <th>3826</th>\n",
       "      <td>0</td>\n",
       "      <td>0.914551</td>\n",
       "      <td>0</td>\n",
       "      <td>0</td>\n",
       "      <td>1</td>\n",
       "      <td>0</td>\n",
       "      <td>0</td>\n",
       "      <td>0.183039</td>\n",
       "      <td>0.193585</td>\n",
       "      <td>2</td>\n",
       "    </tr>\n",
       "    <tr>\n",
       "      <th>...</th>\n",
       "      <td>...</td>\n",
       "      <td>...</td>\n",
       "      <td>...</td>\n",
       "      <td>...</td>\n",
       "      <td>...</td>\n",
       "      <td>...</td>\n",
       "      <td>...</td>\n",
       "      <td>...</td>\n",
       "      <td>...</td>\n",
       "      <td>...</td>\n",
       "    </tr>\n",
       "    <tr>\n",
       "      <th>818</th>\n",
       "      <td>1</td>\n",
       "      <td>0.243164</td>\n",
       "      <td>0</td>\n",
       "      <td>0</td>\n",
       "      <td>0</td>\n",
       "      <td>0</td>\n",
       "      <td>0</td>\n",
       "      <td>0.239359</td>\n",
       "      <td>0.201604</td>\n",
       "      <td>1</td>\n",
       "    </tr>\n",
       "    <tr>\n",
       "      <th>4829</th>\n",
       "      <td>1</td>\n",
       "      <td>0.804688</td>\n",
       "      <td>0</td>\n",
       "      <td>0</td>\n",
       "      <td>1</td>\n",
       "      <td>2</td>\n",
       "      <td>0</td>\n",
       "      <td>0.059090</td>\n",
       "      <td>0.238259</td>\n",
       "      <td>1</td>\n",
       "    </tr>\n",
       "    <tr>\n",
       "      <th>611</th>\n",
       "      <td>1</td>\n",
       "      <td>0.511719</td>\n",
       "      <td>0</td>\n",
       "      <td>0</td>\n",
       "      <td>1</td>\n",
       "      <td>0</td>\n",
       "      <td>1</td>\n",
       "      <td>0.178515</td>\n",
       "      <td>0.193585</td>\n",
       "      <td>2</td>\n",
       "    </tr>\n",
       "    <tr>\n",
       "      <th>3082</th>\n",
       "      <td>0</td>\n",
       "      <td>0.694824</td>\n",
       "      <td>0</td>\n",
       "      <td>0</td>\n",
       "      <td>1</td>\n",
       "      <td>2</td>\n",
       "      <td>0</td>\n",
       "      <td>0.065922</td>\n",
       "      <td>0.156930</td>\n",
       "      <td>0</td>\n",
       "    </tr>\n",
       "    <tr>\n",
       "      <th>3407</th>\n",
       "      <td>0</td>\n",
       "      <td>0.731445</td>\n",
       "      <td>0</td>\n",
       "      <td>0</td>\n",
       "      <td>1</td>\n",
       "      <td>0</td>\n",
       "      <td>1</td>\n",
       "      <td>0.082726</td>\n",
       "      <td>0.171821</td>\n",
       "      <td>2</td>\n",
       "    </tr>\n",
       "  </tbody>\n",
       "</table>\n",
       "<p>1533 rows × 10 columns</p>\n",
       "</div>"
      ],
      "text/plain": [
       "      gender       age  hypertension  heart_disease  ever_married  work_type  \\\n",
       "4688       1  0.377441             0              0             0          3   \n",
       "4478       1  0.487305             0              0             1          3   \n",
       "3849       0  0.096680             0              0             0          4   \n",
       "4355       0  0.963379             1              0             1          3   \n",
       "3826       0  0.914551             0              0             1          0   \n",
       "...      ...       ...           ...            ...           ...        ...   \n",
       "818        1  0.243164             0              0             0          0   \n",
       "4829       1  0.804688             0              0             1          2   \n",
       "611        1  0.511719             0              0             1          0   \n",
       "3082       0  0.694824             0              0             1          2   \n",
       "3407       0  0.731445             0              0             1          0   \n",
       "\n",
       "      Residence_type  avg_glucose_level       bmi  smoking_status  \n",
       "4688               0           0.044917  0.145475               0  \n",
       "4478               0           0.046949  0.206186               2  \n",
       "3849               1           0.089096  0.139748               0  \n",
       "4355               0           0.099344  0.105384               2  \n",
       "3826               0           0.183039  0.193585               2  \n",
       "...              ...                ...       ...             ...  \n",
       "818                0           0.239359  0.201604               1  \n",
       "4829               0           0.059090  0.238259               1  \n",
       "611                1           0.178515  0.193585               2  \n",
       "3082               0           0.065922  0.156930               0  \n",
       "3407               1           0.082726  0.171821               2  \n",
       "\n",
       "[1533 rows x 10 columns]"
      ]
     },
     "execution_count": 40,
     "metadata": {},
     "output_type": "execute_result"
    }
   ],
   "source": [
    "X_test"
   ]
  },
  {
   "cell_type": "code",
   "execution_count": 41,
   "id": "cecae92a",
   "metadata": {
    "ExecuteTime": {
     "end_time": "2024-01-05T21:54:08.309181Z",
     "start_time": "2024-01-05T21:54:07.606449Z"
    },
    "execution": {
     "iopub.execute_input": "2024-01-04T18:00:05.281199Z",
     "iopub.status.busy": "2024-01-04T18:00:05.280729Z",
     "iopub.status.idle": "2024-01-04T18:00:05.290759Z",
     "shell.execute_reply": "2024-01-04T18:00:05.289204Z"
    },
    "papermill": {
     "duration": 0.05498,
     "end_time": "2024-01-04T18:00:05.294040",
     "exception": false,
     "start_time": "2024-01-04T18:00:05.239060",
     "status": "completed"
    },
    "tags": []
   },
   "outputs": [
    {
     "data": {
      "text/plain": [
       "4688    0\n",
       "4478    0\n",
       "3849    0\n",
       "4355    0\n",
       "3826    0\n",
       "       ..\n",
       "818     0\n",
       "4829    0\n",
       "611     0\n",
       "3082    0\n",
       "3407    0\n",
       "Name: stroke, Length: 1533, dtype: int64"
      ]
     },
     "execution_count": 41,
     "metadata": {},
     "output_type": "execute_result"
    }
   ],
   "source": [
    "y_test"
   ]
  },
  {
   "cell_type": "markdown",
   "id": "ed085602",
   "metadata": {
    "papermill": {
     "duration": 0.041941,
     "end_time": "2024-01-04T18:00:05.378683",
     "exception": false,
     "start_time": "2024-01-04T18:00:05.336742",
     "status": "completed"
    },
    "tags": []
   },
   "source": [
    "# Model Selection & Training"
   ]
  },
  {
   "cell_type": "markdown",
   "id": "9ba12ba8",
   "metadata": {
    "papermill": {
     "duration": 0.045661,
     "end_time": "2024-01-04T18:00:05.465201",
     "exception": false,
     "start_time": "2024-01-04T18:00:05.419540",
     "status": "completed"
    },
    "tags": []
   },
   "source": [
    "## Decision Tree Classifier"
   ]
  },
  {
   "cell_type": "code",
   "execution_count": 42,
   "id": "54a4e86a",
   "metadata": {
    "ExecuteTime": {
     "end_time": "2024-01-05T21:54:08.309292Z",
     "start_time": "2024-01-05T21:54:07.609827Z"
    },
    "execution": {
     "iopub.execute_input": "2024-01-04T18:00:05.558376Z",
     "iopub.status.busy": "2024-01-04T18:00:05.557612Z",
     "iopub.status.idle": "2024-01-04T18:00:05.563262Z",
     "shell.execute_reply": "2024-01-04T18:00:05.561356Z"
    },
    "papermill": {
     "duration": 0.057393,
     "end_time": "2024-01-04T18:00:05.566088",
     "exception": false,
     "start_time": "2024-01-04T18:00:05.508695",
     "status": "completed"
    },
    "tags": []
   },
   "outputs": [],
   "source": [
    "from sklearn.metrics import accuracy_score"
   ]
  },
  {
   "cell_type": "code",
   "execution_count": 43,
   "id": "cdf0f206",
   "metadata": {
    "ExecuteTime": {
     "end_time": "2024-01-05T21:54:08.323425Z",
     "start_time": "2024-01-05T21:54:07.612590Z"
    },
    "execution": {
     "iopub.execute_input": "2024-01-04T18:00:05.661171Z",
     "iopub.status.busy": "2024-01-04T18:00:05.660742Z",
     "iopub.status.idle": "2024-01-04T18:00:05.966604Z",
     "shell.execute_reply": "2024-01-04T18:00:05.965600Z"
    },
    "papermill": {
     "duration": 0.357864,
     "end_time": "2024-01-04T18:00:05.970181",
     "exception": false,
     "start_time": "2024-01-04T18:00:05.612317",
     "status": "completed"
    },
    "tags": []
   },
   "outputs": [],
   "source": [
    "from sklearn.tree import DecisionTreeClassifier"
   ]
  },
  {
   "cell_type": "code",
   "execution_count": 44,
   "id": "53329e47",
   "metadata": {
    "ExecuteTime": {
     "end_time": "2024-01-05T21:54:08.323670Z",
     "start_time": "2024-01-05T21:54:07.765761Z"
    },
    "execution": {
     "iopub.execute_input": "2024-01-04T18:00:06.060021Z",
     "iopub.status.busy": "2024-01-04T18:00:06.059576Z",
     "iopub.status.idle": "2024-01-04T18:00:06.065119Z",
     "shell.execute_reply": "2024-01-04T18:00:06.063325Z"
    },
    "papermill": {
     "duration": 0.0532,
     "end_time": "2024-01-04T18:00:06.067642",
     "exception": false,
     "start_time": "2024-01-04T18:00:06.014442",
     "status": "completed"
    },
    "tags": []
   },
   "outputs": [],
   "source": [
    "# Create a decision tree classifier object\n",
    "clf = DecisionTreeClassifier()"
   ]
  },
  {
   "cell_type": "code",
   "execution_count": 45,
   "id": "a3f75a4d",
   "metadata": {
    "ExecuteTime": {
     "end_time": "2024-01-05T21:54:08.324699Z",
     "start_time": "2024-01-05T21:54:07.769666Z"
    },
    "execution": {
     "iopub.execute_input": "2024-01-04T18:00:06.160004Z",
     "iopub.status.busy": "2024-01-04T18:00:06.159249Z",
     "iopub.status.idle": "2024-01-04T18:00:06.191563Z",
     "shell.execute_reply": "2024-01-04T18:00:06.190137Z"
    },
    "papermill": {
     "duration": 0.085026,
     "end_time": "2024-01-04T18:00:06.194270",
     "exception": false,
     "start_time": "2024-01-04T18:00:06.109244",
     "status": "completed"
    },
    "tags": []
   },
   "outputs": [
    {
     "data": {
      "text/html": [
       "<style>#sk-container-id-1 {color: black;}#sk-container-id-1 pre{padding: 0;}#sk-container-id-1 div.sk-toggleable {background-color: white;}#sk-container-id-1 label.sk-toggleable__label {cursor: pointer;display: block;width: 100%;margin-bottom: 0;padding: 0.3em;box-sizing: border-box;text-align: center;}#sk-container-id-1 label.sk-toggleable__label-arrow:before {content: \"▸\";float: left;margin-right: 0.25em;color: #696969;}#sk-container-id-1 label.sk-toggleable__label-arrow:hover:before {color: black;}#sk-container-id-1 div.sk-estimator:hover label.sk-toggleable__label-arrow:before {color: black;}#sk-container-id-1 div.sk-toggleable__content {max-height: 0;max-width: 0;overflow: hidden;text-align: left;background-color: #f0f8ff;}#sk-container-id-1 div.sk-toggleable__content pre {margin: 0.2em;color: black;border-radius: 0.25em;background-color: #f0f8ff;}#sk-container-id-1 input.sk-toggleable__control:checked~div.sk-toggleable__content {max-height: 200px;max-width: 100%;overflow: auto;}#sk-container-id-1 input.sk-toggleable__control:checked~label.sk-toggleable__label-arrow:before {content: \"▾\";}#sk-container-id-1 div.sk-estimator input.sk-toggleable__control:checked~label.sk-toggleable__label {background-color: #d4ebff;}#sk-container-id-1 div.sk-label input.sk-toggleable__control:checked~label.sk-toggleable__label {background-color: #d4ebff;}#sk-container-id-1 input.sk-hidden--visually {border: 0;clip: rect(1px 1px 1px 1px);clip: rect(1px, 1px, 1px, 1px);height: 1px;margin: -1px;overflow: hidden;padding: 0;position: absolute;width: 1px;}#sk-container-id-1 div.sk-estimator {font-family: monospace;background-color: #f0f8ff;border: 1px dotted black;border-radius: 0.25em;box-sizing: border-box;margin-bottom: 0.5em;}#sk-container-id-1 div.sk-estimator:hover {background-color: #d4ebff;}#sk-container-id-1 div.sk-parallel-item::after {content: \"\";width: 100%;border-bottom: 1px solid gray;flex-grow: 1;}#sk-container-id-1 div.sk-label:hover label.sk-toggleable__label {background-color: #d4ebff;}#sk-container-id-1 div.sk-serial::before {content: \"\";position: absolute;border-left: 1px solid gray;box-sizing: border-box;top: 0;bottom: 0;left: 50%;z-index: 0;}#sk-container-id-1 div.sk-serial {display: flex;flex-direction: column;align-items: center;background-color: white;padding-right: 0.2em;padding-left: 0.2em;position: relative;}#sk-container-id-1 div.sk-item {position: relative;z-index: 1;}#sk-container-id-1 div.sk-parallel {display: flex;align-items: stretch;justify-content: center;background-color: white;position: relative;}#sk-container-id-1 div.sk-item::before, #sk-container-id-1 div.sk-parallel-item::before {content: \"\";position: absolute;border-left: 1px solid gray;box-sizing: border-box;top: 0;bottom: 0;left: 50%;z-index: -1;}#sk-container-id-1 div.sk-parallel-item {display: flex;flex-direction: column;z-index: 1;position: relative;background-color: white;}#sk-container-id-1 div.sk-parallel-item:first-child::after {align-self: flex-end;width: 50%;}#sk-container-id-1 div.sk-parallel-item:last-child::after {align-self: flex-start;width: 50%;}#sk-container-id-1 div.sk-parallel-item:only-child::after {width: 0;}#sk-container-id-1 div.sk-dashed-wrapped {border: 1px dashed gray;margin: 0 0.4em 0.5em 0.4em;box-sizing: border-box;padding-bottom: 0.4em;background-color: white;}#sk-container-id-1 div.sk-label label {font-family: monospace;font-weight: bold;display: inline-block;line-height: 1.2em;}#sk-container-id-1 div.sk-label-container {text-align: center;}#sk-container-id-1 div.sk-container {/* jupyter's `normalize.less` sets `[hidden] { display: none; }` but bootstrap.min.css set `[hidden] { display: none !important; }` so we also need the `!important` here to be able to override the default hidden behavior on the sphinx rendered scikit-learn.org. See: https://github.com/scikit-learn/scikit-learn/issues/21755 */display: inline-block !important;position: relative;}#sk-container-id-1 div.sk-text-repr-fallback {display: none;}</style><div id=\"sk-container-id-1\" class=\"sk-top-container\"><div class=\"sk-text-repr-fallback\"><pre>DecisionTreeClassifier()</pre><b>In a Jupyter environment, please rerun this cell to show the HTML representation or trust the notebook. <br />On GitHub, the HTML representation is unable to render, please try loading this page with nbviewer.org.</b></div><div class=\"sk-container\" hidden><div class=\"sk-item\"><div class=\"sk-estimator sk-toggleable\"><input class=\"sk-toggleable__control sk-hidden--visually\" id=\"sk-estimator-id-1\" type=\"checkbox\" checked><label for=\"sk-estimator-id-1\" class=\"sk-toggleable__label sk-toggleable__label-arrow\">DecisionTreeClassifier</label><div class=\"sk-toggleable__content\"><pre>DecisionTreeClassifier()</pre></div></div></div></div></div>"
      ],
      "text/plain": [
       "DecisionTreeClassifier()"
      ]
     },
     "execution_count": 45,
     "metadata": {},
     "output_type": "execute_result"
    }
   ],
   "source": [
    "# Train the model\n",
    "clf.fit(X_train, y_train)"
   ]
  },
  {
   "cell_type": "code",
   "execution_count": 46,
   "id": "04bb8057",
   "metadata": {
    "ExecuteTime": {
     "end_time": "2024-01-05T21:54:08.324804Z",
     "start_time": "2024-01-05T21:54:07.783796Z"
    },
    "execution": {
     "iopub.execute_input": "2024-01-04T18:00:06.288567Z",
     "iopub.status.busy": "2024-01-04T18:00:06.287589Z",
     "iopub.status.idle": "2024-01-04T18:00:06.295962Z",
     "shell.execute_reply": "2024-01-04T18:00:06.294025Z"
    },
    "papermill": {
     "duration": 0.055886,
     "end_time": "2024-01-04T18:00:06.298880",
     "exception": false,
     "start_time": "2024-01-04T18:00:06.242994",
     "status": "completed"
    },
    "tags": []
   },
   "outputs": [],
   "source": [
    "# Predict on the test data\n",
    "y_pred_dtc = clf.predict(X_test)"
   ]
  },
  {
   "cell_type": "code",
   "execution_count": 47,
   "id": "6c44b0e4",
   "metadata": {
    "ExecuteTime": {
     "end_time": "2024-01-05T21:54:08.325007Z",
     "start_time": "2024-01-05T21:54:07.787791Z"
    },
    "execution": {
     "iopub.execute_input": "2024-01-04T18:00:06.392287Z",
     "iopub.status.busy": "2024-01-04T18:00:06.391530Z",
     "iopub.status.idle": "2024-01-04T18:00:06.400039Z",
     "shell.execute_reply": "2024-01-04T18:00:06.398636Z"
    },
    "papermill": {
     "duration": 0.056633,
     "end_time": "2024-01-04T18:00:06.403042",
     "exception": false,
     "start_time": "2024-01-04T18:00:06.346409",
     "status": "completed"
    },
    "tags": []
   },
   "outputs": [
    {
     "name": "stdout",
     "output_type": "stream",
     "text": [
      "Model accuracy using Decision Tree:  90.41 %\n"
     ]
    }
   ],
   "source": [
    "# Calculate accuracy\n",
    "accuracy_using_decision_tree = round(accuracy_score(y_test, y_pred_dtc)*100, 2)\n",
    "print(\"Model accuracy using Decision Tree: \", accuracy_using_decision_tree, \"%\")"
   ]
  },
  {
   "cell_type": "markdown",
   "id": "523ab0f0",
   "metadata": {
    "papermill": {
     "duration": 0.042605,
     "end_time": "2024-01-04T18:00:06.492482",
     "exception": false,
     "start_time": "2024-01-04T18:00:06.449877",
     "status": "completed"
    },
    "tags": []
   },
   "source": [
    "## Random Forest Classifier"
   ]
  },
  {
   "cell_type": "code",
   "execution_count": 48,
   "id": "d4d3db19",
   "metadata": {
    "ExecuteTime": {
     "end_time": "2024-01-05T21:54:08.464769Z",
     "start_time": "2024-01-05T21:54:07.791797Z"
    },
    "execution": {
     "iopub.execute_input": "2024-01-04T18:00:06.580272Z",
     "iopub.status.busy": "2024-01-04T18:00:06.579853Z",
     "iopub.status.idle": "2024-01-04T18:00:06.680155Z",
     "shell.execute_reply": "2024-01-04T18:00:06.678733Z"
    },
    "papermill": {
     "duration": 0.147438,
     "end_time": "2024-01-04T18:00:06.683093",
     "exception": false,
     "start_time": "2024-01-04T18:00:06.535655",
     "status": "completed"
    },
    "tags": []
   },
   "outputs": [],
   "source": [
    "from sklearn.ensemble import RandomForestClassifier"
   ]
  },
  {
   "cell_type": "code",
   "execution_count": 49,
   "id": "250ff9c6",
   "metadata": {
    "ExecuteTime": {
     "end_time": "2024-01-05T21:54:08.466096Z",
     "start_time": "2024-01-05T21:54:07.861611Z"
    },
    "execution": {
     "iopub.execute_input": "2024-01-04T18:00:06.773014Z",
     "iopub.status.busy": "2024-01-04T18:00:06.772580Z",
     "iopub.status.idle": "2024-01-04T18:00:06.777895Z",
     "shell.execute_reply": "2024-01-04T18:00:06.776564Z"
    },
    "papermill": {
     "duration": 0.054358,
     "end_time": "2024-01-04T18:00:06.780572",
     "exception": false,
     "start_time": "2024-01-04T18:00:06.726214",
     "status": "completed"
    },
    "tags": []
   },
   "outputs": [],
   "source": [
    "# Create a random forest classifier object\n",
    "clf = RandomForestClassifier()"
   ]
  },
  {
   "cell_type": "code",
   "execution_count": 50,
   "id": "f4da1187",
   "metadata": {
    "ExecuteTime": {
     "end_time": "2024-01-05T21:54:08.498135Z",
     "start_time": "2024-01-05T21:54:07.864543Z"
    },
    "execution": {
     "iopub.execute_input": "2024-01-04T18:00:06.866178Z",
     "iopub.status.busy": "2024-01-04T18:00:06.864683Z",
     "iopub.status.idle": "2024-01-04T18:00:07.537841Z",
     "shell.execute_reply": "2024-01-04T18:00:07.536606Z"
    },
    "papermill": {
     "duration": 0.718887,
     "end_time": "2024-01-04T18:00:07.540901",
     "exception": false,
     "start_time": "2024-01-04T18:00:06.822014",
     "status": "completed"
    },
    "tags": []
   },
   "outputs": [
    {
     "data": {
      "text/html": [
       "<style>#sk-container-id-2 {color: black;}#sk-container-id-2 pre{padding: 0;}#sk-container-id-2 div.sk-toggleable {background-color: white;}#sk-container-id-2 label.sk-toggleable__label {cursor: pointer;display: block;width: 100%;margin-bottom: 0;padding: 0.3em;box-sizing: border-box;text-align: center;}#sk-container-id-2 label.sk-toggleable__label-arrow:before {content: \"▸\";float: left;margin-right: 0.25em;color: #696969;}#sk-container-id-2 label.sk-toggleable__label-arrow:hover:before {color: black;}#sk-container-id-2 div.sk-estimator:hover label.sk-toggleable__label-arrow:before {color: black;}#sk-container-id-2 div.sk-toggleable__content {max-height: 0;max-width: 0;overflow: hidden;text-align: left;background-color: #f0f8ff;}#sk-container-id-2 div.sk-toggleable__content pre {margin: 0.2em;color: black;border-radius: 0.25em;background-color: #f0f8ff;}#sk-container-id-2 input.sk-toggleable__control:checked~div.sk-toggleable__content {max-height: 200px;max-width: 100%;overflow: auto;}#sk-container-id-2 input.sk-toggleable__control:checked~label.sk-toggleable__label-arrow:before {content: \"▾\";}#sk-container-id-2 div.sk-estimator input.sk-toggleable__control:checked~label.sk-toggleable__label {background-color: #d4ebff;}#sk-container-id-2 div.sk-label input.sk-toggleable__control:checked~label.sk-toggleable__label {background-color: #d4ebff;}#sk-container-id-2 input.sk-hidden--visually {border: 0;clip: rect(1px 1px 1px 1px);clip: rect(1px, 1px, 1px, 1px);height: 1px;margin: -1px;overflow: hidden;padding: 0;position: absolute;width: 1px;}#sk-container-id-2 div.sk-estimator {font-family: monospace;background-color: #f0f8ff;border: 1px dotted black;border-radius: 0.25em;box-sizing: border-box;margin-bottom: 0.5em;}#sk-container-id-2 div.sk-estimator:hover {background-color: #d4ebff;}#sk-container-id-2 div.sk-parallel-item::after {content: \"\";width: 100%;border-bottom: 1px solid gray;flex-grow: 1;}#sk-container-id-2 div.sk-label:hover label.sk-toggleable__label {background-color: #d4ebff;}#sk-container-id-2 div.sk-serial::before {content: \"\";position: absolute;border-left: 1px solid gray;box-sizing: border-box;top: 0;bottom: 0;left: 50%;z-index: 0;}#sk-container-id-2 div.sk-serial {display: flex;flex-direction: column;align-items: center;background-color: white;padding-right: 0.2em;padding-left: 0.2em;position: relative;}#sk-container-id-2 div.sk-item {position: relative;z-index: 1;}#sk-container-id-2 div.sk-parallel {display: flex;align-items: stretch;justify-content: center;background-color: white;position: relative;}#sk-container-id-2 div.sk-item::before, #sk-container-id-2 div.sk-parallel-item::before {content: \"\";position: absolute;border-left: 1px solid gray;box-sizing: border-box;top: 0;bottom: 0;left: 50%;z-index: -1;}#sk-container-id-2 div.sk-parallel-item {display: flex;flex-direction: column;z-index: 1;position: relative;background-color: white;}#sk-container-id-2 div.sk-parallel-item:first-child::after {align-self: flex-end;width: 50%;}#sk-container-id-2 div.sk-parallel-item:last-child::after {align-self: flex-start;width: 50%;}#sk-container-id-2 div.sk-parallel-item:only-child::after {width: 0;}#sk-container-id-2 div.sk-dashed-wrapped {border: 1px dashed gray;margin: 0 0.4em 0.5em 0.4em;box-sizing: border-box;padding-bottom: 0.4em;background-color: white;}#sk-container-id-2 div.sk-label label {font-family: monospace;font-weight: bold;display: inline-block;line-height: 1.2em;}#sk-container-id-2 div.sk-label-container {text-align: center;}#sk-container-id-2 div.sk-container {/* jupyter's `normalize.less` sets `[hidden] { display: none; }` but bootstrap.min.css set `[hidden] { display: none !important; }` so we also need the `!important` here to be able to override the default hidden behavior on the sphinx rendered scikit-learn.org. See: https://github.com/scikit-learn/scikit-learn/issues/21755 */display: inline-block !important;position: relative;}#sk-container-id-2 div.sk-text-repr-fallback {display: none;}</style><div id=\"sk-container-id-2\" class=\"sk-top-container\"><div class=\"sk-text-repr-fallback\"><pre>RandomForestClassifier()</pre><b>In a Jupyter environment, please rerun this cell to show the HTML representation or trust the notebook. <br />On GitHub, the HTML representation is unable to render, please try loading this page with nbviewer.org.</b></div><div class=\"sk-container\" hidden><div class=\"sk-item\"><div class=\"sk-estimator sk-toggleable\"><input class=\"sk-toggleable__control sk-hidden--visually\" id=\"sk-estimator-id-2\" type=\"checkbox\" checked><label for=\"sk-estimator-id-2\" class=\"sk-toggleable__label sk-toggleable__label-arrow\">RandomForestClassifier</label><div class=\"sk-toggleable__content\"><pre>RandomForestClassifier()</pre></div></div></div></div></div>"
      ],
      "text/plain": [
       "RandomForestClassifier()"
      ]
     },
     "execution_count": 50,
     "metadata": {},
     "output_type": "execute_result"
    }
   ],
   "source": [
    "# Train the model\n",
    "clf.fit(X_train, y_train)"
   ]
  },
  {
   "cell_type": "code",
   "execution_count": 51,
   "id": "1358ce33",
   "metadata": {
    "ExecuteTime": {
     "end_time": "2024-01-05T21:54:08.498472Z",
     "start_time": "2024-01-05T21:54:08.053267Z"
    },
    "execution": {
     "iopub.execute_input": "2024-01-04T18:00:07.636359Z",
     "iopub.status.busy": "2024-01-04T18:00:07.633939Z",
     "iopub.status.idle": "2024-01-04T18:00:07.679834Z",
     "shell.execute_reply": "2024-01-04T18:00:07.678607Z"
    },
    "papermill": {
     "duration": 0.100173,
     "end_time": "2024-01-04T18:00:07.685704",
     "exception": false,
     "start_time": "2024-01-04T18:00:07.585531",
     "status": "completed"
    },
    "tags": []
   },
   "outputs": [],
   "source": [
    "# Predict on the test data\n",
    "y_pred_rfc = clf.predict(X_test)"
   ]
  },
  {
   "cell_type": "code",
   "execution_count": 52,
   "id": "d1a48738",
   "metadata": {
    "ExecuteTime": {
     "end_time": "2024-01-05T21:54:08.498713Z",
     "start_time": "2024-01-05T21:54:08.066891Z"
    },
    "execution": {
     "iopub.execute_input": "2024-01-04T18:00:07.788484Z",
     "iopub.status.busy": "2024-01-04T18:00:07.787917Z",
     "iopub.status.idle": "2024-01-04T18:00:07.799396Z",
     "shell.execute_reply": "2024-01-04T18:00:07.797385Z"
    },
    "papermill": {
     "duration": 0.068218,
     "end_time": "2024-01-04T18:00:07.802491",
     "exception": false,
     "start_time": "2024-01-04T18:00:07.734273",
     "status": "completed"
    },
    "tags": []
   },
   "outputs": [
    {
     "name": "stdout",
     "output_type": "stream",
     "text": [
      "Model accuracy using Random Forest:  94.13 %\n"
     ]
    }
   ],
   "source": [
    "# Calculate accuracy\n",
    "accuracy_using_random_forest = round(accuracy_score(y_test, y_pred_rfc)*100, 2)\n",
    "print(\"Model accuracy using Random Forest: \", accuracy_using_random_forest, \"%\")"
   ]
  },
  {
   "cell_type": "markdown",
   "id": "7ea074f6",
   "metadata": {
    "papermill": {
     "duration": 0.044362,
     "end_time": "2024-01-04T18:00:07.893222",
     "exception": false,
     "start_time": "2024-01-04T18:00:07.848860",
     "status": "completed"
    },
    "tags": []
   },
   "source": [
    "## Logistic Regression"
   ]
  },
  {
   "cell_type": "code",
   "execution_count": 53,
   "id": "9d138f60",
   "metadata": {
    "ExecuteTime": {
     "end_time": "2024-01-05T21:54:08.498806Z",
     "start_time": "2024-01-05T21:54:08.070932Z"
    },
    "execution": {
     "iopub.execute_input": "2024-01-04T18:00:07.986955Z",
     "iopub.status.busy": "2024-01-04T18:00:07.986123Z",
     "iopub.status.idle": "2024-01-04T18:00:07.992198Z",
     "shell.execute_reply": "2024-01-04T18:00:07.990727Z"
    },
    "papermill": {
     "duration": 0.056271,
     "end_time": "2024-01-04T18:00:07.995329",
     "exception": false,
     "start_time": "2024-01-04T18:00:07.939058",
     "status": "completed"
    },
    "tags": []
   },
   "outputs": [],
   "source": [
    "from sklearn.linear_model import LogisticRegression"
   ]
  },
  {
   "cell_type": "code",
   "execution_count": 54,
   "id": "ca0a3fc4",
   "metadata": {
    "ExecuteTime": {
     "end_time": "2024-01-05T21:54:08.498903Z",
     "start_time": "2024-01-05T21:54:08.073790Z"
    },
    "execution": {
     "iopub.execute_input": "2024-01-04T18:00:08.089999Z",
     "iopub.status.busy": "2024-01-04T18:00:08.089115Z",
     "iopub.status.idle": "2024-01-04T18:00:08.094727Z",
     "shell.execute_reply": "2024-01-04T18:00:08.093854Z"
    },
    "papermill": {
     "duration": 0.053091,
     "end_time": "2024-01-04T18:00:08.097721",
     "exception": false,
     "start_time": "2024-01-04T18:00:08.044630",
     "status": "completed"
    },
    "tags": []
   },
   "outputs": [],
   "source": [
    "# Create a logistic regression object\n",
    "clf = LogisticRegression()"
   ]
  },
  {
   "cell_type": "code",
   "execution_count": 55,
   "id": "5ede1c0e",
   "metadata": {
    "ExecuteTime": {
     "end_time": "2024-01-05T21:54:08.530520Z",
     "start_time": "2024-01-05T21:54:08.077814Z"
    },
    "execution": {
     "iopub.execute_input": "2024-01-04T18:00:08.185499Z",
     "iopub.status.busy": "2024-01-04T18:00:08.184997Z",
     "iopub.status.idle": "2024-01-04T18:00:08.262405Z",
     "shell.execute_reply": "2024-01-04T18:00:08.261241Z"
    },
    "papermill": {
     "duration": 0.125458,
     "end_time": "2024-01-04T18:00:08.266285",
     "exception": false,
     "start_time": "2024-01-04T18:00:08.140827",
     "status": "completed"
    },
    "tags": []
   },
   "outputs": [
    {
     "data": {
      "text/html": [
       "<style>#sk-container-id-3 {color: black;}#sk-container-id-3 pre{padding: 0;}#sk-container-id-3 div.sk-toggleable {background-color: white;}#sk-container-id-3 label.sk-toggleable__label {cursor: pointer;display: block;width: 100%;margin-bottom: 0;padding: 0.3em;box-sizing: border-box;text-align: center;}#sk-container-id-3 label.sk-toggleable__label-arrow:before {content: \"▸\";float: left;margin-right: 0.25em;color: #696969;}#sk-container-id-3 label.sk-toggleable__label-arrow:hover:before {color: black;}#sk-container-id-3 div.sk-estimator:hover label.sk-toggleable__label-arrow:before {color: black;}#sk-container-id-3 div.sk-toggleable__content {max-height: 0;max-width: 0;overflow: hidden;text-align: left;background-color: #f0f8ff;}#sk-container-id-3 div.sk-toggleable__content pre {margin: 0.2em;color: black;border-radius: 0.25em;background-color: #f0f8ff;}#sk-container-id-3 input.sk-toggleable__control:checked~div.sk-toggleable__content {max-height: 200px;max-width: 100%;overflow: auto;}#sk-container-id-3 input.sk-toggleable__control:checked~label.sk-toggleable__label-arrow:before {content: \"▾\";}#sk-container-id-3 div.sk-estimator input.sk-toggleable__control:checked~label.sk-toggleable__label {background-color: #d4ebff;}#sk-container-id-3 div.sk-label input.sk-toggleable__control:checked~label.sk-toggleable__label {background-color: #d4ebff;}#sk-container-id-3 input.sk-hidden--visually {border: 0;clip: rect(1px 1px 1px 1px);clip: rect(1px, 1px, 1px, 1px);height: 1px;margin: -1px;overflow: hidden;padding: 0;position: absolute;width: 1px;}#sk-container-id-3 div.sk-estimator {font-family: monospace;background-color: #f0f8ff;border: 1px dotted black;border-radius: 0.25em;box-sizing: border-box;margin-bottom: 0.5em;}#sk-container-id-3 div.sk-estimator:hover {background-color: #d4ebff;}#sk-container-id-3 div.sk-parallel-item::after {content: \"\";width: 100%;border-bottom: 1px solid gray;flex-grow: 1;}#sk-container-id-3 div.sk-label:hover label.sk-toggleable__label {background-color: #d4ebff;}#sk-container-id-3 div.sk-serial::before {content: \"\";position: absolute;border-left: 1px solid gray;box-sizing: border-box;top: 0;bottom: 0;left: 50%;z-index: 0;}#sk-container-id-3 div.sk-serial {display: flex;flex-direction: column;align-items: center;background-color: white;padding-right: 0.2em;padding-left: 0.2em;position: relative;}#sk-container-id-3 div.sk-item {position: relative;z-index: 1;}#sk-container-id-3 div.sk-parallel {display: flex;align-items: stretch;justify-content: center;background-color: white;position: relative;}#sk-container-id-3 div.sk-item::before, #sk-container-id-3 div.sk-parallel-item::before {content: \"\";position: absolute;border-left: 1px solid gray;box-sizing: border-box;top: 0;bottom: 0;left: 50%;z-index: -1;}#sk-container-id-3 div.sk-parallel-item {display: flex;flex-direction: column;z-index: 1;position: relative;background-color: white;}#sk-container-id-3 div.sk-parallel-item:first-child::after {align-self: flex-end;width: 50%;}#sk-container-id-3 div.sk-parallel-item:last-child::after {align-self: flex-start;width: 50%;}#sk-container-id-3 div.sk-parallel-item:only-child::after {width: 0;}#sk-container-id-3 div.sk-dashed-wrapped {border: 1px dashed gray;margin: 0 0.4em 0.5em 0.4em;box-sizing: border-box;padding-bottom: 0.4em;background-color: white;}#sk-container-id-3 div.sk-label label {font-family: monospace;font-weight: bold;display: inline-block;line-height: 1.2em;}#sk-container-id-3 div.sk-label-container {text-align: center;}#sk-container-id-3 div.sk-container {/* jupyter's `normalize.less` sets `[hidden] { display: none; }` but bootstrap.min.css set `[hidden] { display: none !important; }` so we also need the `!important` here to be able to override the default hidden behavior on the sphinx rendered scikit-learn.org. See: https://github.com/scikit-learn/scikit-learn/issues/21755 */display: inline-block !important;position: relative;}#sk-container-id-3 div.sk-text-repr-fallback {display: none;}</style><div id=\"sk-container-id-3\" class=\"sk-top-container\"><div class=\"sk-text-repr-fallback\"><pre>LogisticRegression()</pre><b>In a Jupyter environment, please rerun this cell to show the HTML representation or trust the notebook. <br />On GitHub, the HTML representation is unable to render, please try loading this page with nbviewer.org.</b></div><div class=\"sk-container\" hidden><div class=\"sk-item\"><div class=\"sk-estimator sk-toggleable\"><input class=\"sk-toggleable__control sk-hidden--visually\" id=\"sk-estimator-id-3\" type=\"checkbox\" checked><label for=\"sk-estimator-id-3\" class=\"sk-toggleable__label sk-toggleable__label-arrow\">LogisticRegression</label><div class=\"sk-toggleable__content\"><pre>LogisticRegression()</pre></div></div></div></div></div>"
      ],
      "text/plain": [
       "LogisticRegression()"
      ]
     },
     "execution_count": 55,
     "metadata": {},
     "output_type": "execute_result"
    }
   ],
   "source": [
    "# Train the model\n",
    "clf.fit(X_train, y_train)"
   ]
  },
  {
   "cell_type": "code",
   "execution_count": 56,
   "id": "cfcd8feb",
   "metadata": {
    "ExecuteTime": {
     "end_time": "2024-01-05T21:54:08.530727Z",
     "start_time": "2024-01-05T21:54:08.198158Z"
    },
    "execution": {
     "iopub.execute_input": "2024-01-04T18:00:08.411035Z",
     "iopub.status.busy": "2024-01-04T18:00:08.410562Z",
     "iopub.status.idle": "2024-01-04T18:00:08.429701Z",
     "shell.execute_reply": "2024-01-04T18:00:08.427419Z"
    },
    "papermill": {
     "duration": 0.077467,
     "end_time": "2024-01-04T18:00:08.435262",
     "exception": false,
     "start_time": "2024-01-04T18:00:08.357795",
     "status": "completed"
    },
    "tags": []
   },
   "outputs": [],
   "source": [
    "# Predict on the test data\n",
    "y_pred_lr = clf.predict(X_test)"
   ]
  },
  {
   "cell_type": "code",
   "execution_count": 57,
   "id": "a4f640ff",
   "metadata": {
    "ExecuteTime": {
     "end_time": "2024-01-05T21:54:08.530968Z",
     "start_time": "2024-01-05T21:54:08.218956Z"
    },
    "execution": {
     "iopub.execute_input": "2024-01-04T18:00:08.581866Z",
     "iopub.status.busy": "2024-01-04T18:00:08.581438Z",
     "iopub.status.idle": "2024-01-04T18:00:08.590375Z",
     "shell.execute_reply": "2024-01-04T18:00:08.588908Z"
    },
    "papermill": {
     "duration": 0.06348,
     "end_time": "2024-01-04T18:00:08.593176",
     "exception": false,
     "start_time": "2024-01-04T18:00:08.529696",
     "status": "completed"
    },
    "tags": []
   },
   "outputs": [
    {
     "name": "stdout",
     "output_type": "stream",
     "text": [
      "Model accuracy using Logistic Regression:  94.19 %\n"
     ]
    }
   ],
   "source": [
    "# Calculate accuracy\n",
    "accuracy_using_logistic_regression = round(accuracy_score(y_test, y_pred_lr)*100, 2)\n",
    "print(\"Model accuracy using Logistic Regression: \", accuracy_using_logistic_regression, \"%\")"
   ]
  },
  {
   "cell_type": "markdown",
   "id": "b0169fe8",
   "metadata": {
    "papermill": {
     "duration": 0.04226,
     "end_time": "2024-01-04T18:00:08.679448",
     "exception": false,
     "start_time": "2024-01-04T18:00:08.637188",
     "status": "completed"
    },
    "tags": []
   },
   "source": [
    "## Support Vector Machines (SVM)"
   ]
  },
  {
   "cell_type": "code",
   "execution_count": 58,
   "id": "6d472d9e",
   "metadata": {
    "ExecuteTime": {
     "end_time": "2024-01-05T21:54:08.531056Z",
     "start_time": "2024-01-05T21:54:08.225839Z"
    },
    "execution": {
     "iopub.execute_input": "2024-01-04T18:00:08.773080Z",
     "iopub.status.busy": "2024-01-04T18:00:08.772493Z",
     "iopub.status.idle": "2024-01-04T18:00:08.777897Z",
     "shell.execute_reply": "2024-01-04T18:00:08.776634Z"
    },
    "papermill": {
     "duration": 0.053029,
     "end_time": "2024-01-04T18:00:08.780464",
     "exception": false,
     "start_time": "2024-01-04T18:00:08.727435",
     "status": "completed"
    },
    "tags": []
   },
   "outputs": [],
   "source": [
    "from sklearn import svm"
   ]
  },
  {
   "cell_type": "code",
   "execution_count": 59,
   "id": "7e772ee6",
   "metadata": {
    "ExecuteTime": {
     "end_time": "2024-01-05T21:54:08.531139Z",
     "start_time": "2024-01-05T21:54:08.231682Z"
    },
    "execution": {
     "iopub.execute_input": "2024-01-04T18:00:08.871700Z",
     "iopub.status.busy": "2024-01-04T18:00:08.871255Z",
     "iopub.status.idle": "2024-01-04T18:00:08.878095Z",
     "shell.execute_reply": "2024-01-04T18:00:08.876520Z"
    },
    "papermill": {
     "duration": 0.057558,
     "end_time": "2024-01-04T18:00:08.880907",
     "exception": false,
     "start_time": "2024-01-04T18:00:08.823349",
     "status": "completed"
    },
    "tags": []
   },
   "outputs": [],
   "source": [
    "# Create a SVM classifier object\n",
    "clf = svm.SVC()"
   ]
  },
  {
   "cell_type": "code",
   "execution_count": 60,
   "id": "0ca98c61",
   "metadata": {
    "ExecuteTime": {
     "end_time": "2024-01-05T21:54:08.895484Z",
     "start_time": "2024-01-05T21:54:08.237551Z"
    },
    "execution": {
     "iopub.execute_input": "2024-01-04T18:00:08.973381Z",
     "iopub.status.busy": "2024-01-04T18:00:08.972938Z",
     "iopub.status.idle": "2024-01-04T18:00:09.180440Z",
     "shell.execute_reply": "2024-01-04T18:00:09.178639Z"
    },
    "papermill": {
     "duration": 0.258105,
     "end_time": "2024-01-04T18:00:09.183467",
     "exception": false,
     "start_time": "2024-01-04T18:00:08.925362",
     "status": "completed"
    },
    "tags": []
   },
   "outputs": [
    {
     "data": {
      "text/html": [
       "<style>#sk-container-id-4 {color: black;}#sk-container-id-4 pre{padding: 0;}#sk-container-id-4 div.sk-toggleable {background-color: white;}#sk-container-id-4 label.sk-toggleable__label {cursor: pointer;display: block;width: 100%;margin-bottom: 0;padding: 0.3em;box-sizing: border-box;text-align: center;}#sk-container-id-4 label.sk-toggleable__label-arrow:before {content: \"▸\";float: left;margin-right: 0.25em;color: #696969;}#sk-container-id-4 label.sk-toggleable__label-arrow:hover:before {color: black;}#sk-container-id-4 div.sk-estimator:hover label.sk-toggleable__label-arrow:before {color: black;}#sk-container-id-4 div.sk-toggleable__content {max-height: 0;max-width: 0;overflow: hidden;text-align: left;background-color: #f0f8ff;}#sk-container-id-4 div.sk-toggleable__content pre {margin: 0.2em;color: black;border-radius: 0.25em;background-color: #f0f8ff;}#sk-container-id-4 input.sk-toggleable__control:checked~div.sk-toggleable__content {max-height: 200px;max-width: 100%;overflow: auto;}#sk-container-id-4 input.sk-toggleable__control:checked~label.sk-toggleable__label-arrow:before {content: \"▾\";}#sk-container-id-4 div.sk-estimator input.sk-toggleable__control:checked~label.sk-toggleable__label {background-color: #d4ebff;}#sk-container-id-4 div.sk-label input.sk-toggleable__control:checked~label.sk-toggleable__label {background-color: #d4ebff;}#sk-container-id-4 input.sk-hidden--visually {border: 0;clip: rect(1px 1px 1px 1px);clip: rect(1px, 1px, 1px, 1px);height: 1px;margin: -1px;overflow: hidden;padding: 0;position: absolute;width: 1px;}#sk-container-id-4 div.sk-estimator {font-family: monospace;background-color: #f0f8ff;border: 1px dotted black;border-radius: 0.25em;box-sizing: border-box;margin-bottom: 0.5em;}#sk-container-id-4 div.sk-estimator:hover {background-color: #d4ebff;}#sk-container-id-4 div.sk-parallel-item::after {content: \"\";width: 100%;border-bottom: 1px solid gray;flex-grow: 1;}#sk-container-id-4 div.sk-label:hover label.sk-toggleable__label {background-color: #d4ebff;}#sk-container-id-4 div.sk-serial::before {content: \"\";position: absolute;border-left: 1px solid gray;box-sizing: border-box;top: 0;bottom: 0;left: 50%;z-index: 0;}#sk-container-id-4 div.sk-serial {display: flex;flex-direction: column;align-items: center;background-color: white;padding-right: 0.2em;padding-left: 0.2em;position: relative;}#sk-container-id-4 div.sk-item {position: relative;z-index: 1;}#sk-container-id-4 div.sk-parallel {display: flex;align-items: stretch;justify-content: center;background-color: white;position: relative;}#sk-container-id-4 div.sk-item::before, #sk-container-id-4 div.sk-parallel-item::before {content: \"\";position: absolute;border-left: 1px solid gray;box-sizing: border-box;top: 0;bottom: 0;left: 50%;z-index: -1;}#sk-container-id-4 div.sk-parallel-item {display: flex;flex-direction: column;z-index: 1;position: relative;background-color: white;}#sk-container-id-4 div.sk-parallel-item:first-child::after {align-self: flex-end;width: 50%;}#sk-container-id-4 div.sk-parallel-item:last-child::after {align-self: flex-start;width: 50%;}#sk-container-id-4 div.sk-parallel-item:only-child::after {width: 0;}#sk-container-id-4 div.sk-dashed-wrapped {border: 1px dashed gray;margin: 0 0.4em 0.5em 0.4em;box-sizing: border-box;padding-bottom: 0.4em;background-color: white;}#sk-container-id-4 div.sk-label label {font-family: monospace;font-weight: bold;display: inline-block;line-height: 1.2em;}#sk-container-id-4 div.sk-label-container {text-align: center;}#sk-container-id-4 div.sk-container {/* jupyter's `normalize.less` sets `[hidden] { display: none; }` but bootstrap.min.css set `[hidden] { display: none !important; }` so we also need the `!important` here to be able to override the default hidden behavior on the sphinx rendered scikit-learn.org. See: https://github.com/scikit-learn/scikit-learn/issues/21755 */display: inline-block !important;position: relative;}#sk-container-id-4 div.sk-text-repr-fallback {display: none;}</style><div id=\"sk-container-id-4\" class=\"sk-top-container\"><div class=\"sk-text-repr-fallback\"><pre>SVC()</pre><b>In a Jupyter environment, please rerun this cell to show the HTML representation or trust the notebook. <br />On GitHub, the HTML representation is unable to render, please try loading this page with nbviewer.org.</b></div><div class=\"sk-container\" hidden><div class=\"sk-item\"><div class=\"sk-estimator sk-toggleable\"><input class=\"sk-toggleable__control sk-hidden--visually\" id=\"sk-estimator-id-4\" type=\"checkbox\" checked><label for=\"sk-estimator-id-4\" class=\"sk-toggleable__label sk-toggleable__label-arrow\">SVC</label><div class=\"sk-toggleable__content\"><pre>SVC()</pre></div></div></div></div></div>"
      ],
      "text/plain": [
       "SVC()"
      ]
     },
     "execution_count": 60,
     "metadata": {},
     "output_type": "execute_result"
    }
   ],
   "source": [
    "# Train the model\n",
    "clf.fit(X_train, y_train)"
   ]
  },
  {
   "cell_type": "code",
   "execution_count": 61,
   "id": "833cf124",
   "metadata": {
    "ExecuteTime": {
     "end_time": "2024-01-05T21:54:08.895740Z",
     "start_time": "2024-01-05T21:54:08.369392Z"
    },
    "execution": {
     "iopub.execute_input": "2024-01-04T18:00:09.271386Z",
     "iopub.status.busy": "2024-01-04T18:00:09.270988Z",
     "iopub.status.idle": "2024-01-04T18:00:09.337459Z",
     "shell.execute_reply": "2024-01-04T18:00:09.336015Z"
    },
    "papermill": {
     "duration": 0.113812,
     "end_time": "2024-01-04T18:00:09.340465",
     "exception": false,
     "start_time": "2024-01-04T18:00:09.226653",
     "status": "completed"
    },
    "tags": []
   },
   "outputs": [],
   "source": [
    "# Predict on the test data\n",
    "y_pred_svm = clf.predict(X_test)"
   ]
  },
  {
   "cell_type": "code",
   "execution_count": 62,
   "id": "dfc02975",
   "metadata": {
    "ExecuteTime": {
     "end_time": "2024-01-05T21:54:08.895923Z",
     "start_time": "2024-01-05T21:54:08.429906Z"
    },
    "execution": {
     "iopub.execute_input": "2024-01-04T18:00:09.432154Z",
     "iopub.status.busy": "2024-01-04T18:00:09.431487Z",
     "iopub.status.idle": "2024-01-04T18:00:09.441583Z",
     "shell.execute_reply": "2024-01-04T18:00:09.440258Z"
    },
    "papermill": {
     "duration": 0.060896,
     "end_time": "2024-01-04T18:00:09.444597",
     "exception": false,
     "start_time": "2024-01-04T18:00:09.383701",
     "status": "completed"
    },
    "tags": []
   },
   "outputs": [
    {
     "name": "stdout",
     "output_type": "stream",
     "text": [
      "Model accuracy using SVM:  94.19 %\n"
     ]
    }
   ],
   "source": [
    "# Calculate accuracy\n",
    "accuracy_using_svm = round(accuracy_score(y_test, y_pred_svm)*100, 2)\n",
    "print(\"Model accuracy using SVM: \", accuracy_using_svm, \"%\")"
   ]
  },
  {
   "cell_type": "markdown",
   "id": "6bab62e9",
   "metadata": {
    "papermill": {
     "duration": 0.044798,
     "end_time": "2024-01-04T18:00:09.533173",
     "exception": false,
     "start_time": "2024-01-04T18:00:09.488375",
     "status": "completed"
    },
    "tags": []
   },
   "source": [
    "## Gradient Boosting"
   ]
  },
  {
   "cell_type": "code",
   "execution_count": 63,
   "id": "f5553edc",
   "metadata": {
    "ExecuteTime": {
     "end_time": "2024-01-05T21:54:08.896015Z",
     "start_time": "2024-01-05T21:54:08.435353Z"
    },
    "execution": {
     "iopub.execute_input": "2024-01-04T18:00:09.625324Z",
     "iopub.status.busy": "2024-01-04T18:00:09.624869Z",
     "iopub.status.idle": "2024-01-04T18:00:09.630506Z",
     "shell.execute_reply": "2024-01-04T18:00:09.629230Z"
    },
    "papermill": {
     "duration": 0.052944,
     "end_time": "2024-01-04T18:00:09.633073",
     "exception": false,
     "start_time": "2024-01-04T18:00:09.580129",
     "status": "completed"
    },
    "tags": []
   },
   "outputs": [],
   "source": [
    "from sklearn.ensemble import GradientBoostingClassifier"
   ]
  },
  {
   "cell_type": "code",
   "execution_count": 64,
   "id": "b48b9abb",
   "metadata": {
    "ExecuteTime": {
     "end_time": "2024-01-05T21:54:08.896089Z",
     "start_time": "2024-01-05T21:54:08.438752Z"
    },
    "execution": {
     "iopub.execute_input": "2024-01-04T18:00:09.730940Z",
     "iopub.status.busy": "2024-01-04T18:00:09.730446Z",
     "iopub.status.idle": "2024-01-04T18:00:09.737167Z",
     "shell.execute_reply": "2024-01-04T18:00:09.735906Z"
    },
    "papermill": {
     "duration": 0.062113,
     "end_time": "2024-01-04T18:00:09.739744",
     "exception": false,
     "start_time": "2024-01-04T18:00:09.677631",
     "status": "completed"
    },
    "tags": []
   },
   "outputs": [],
   "source": [
    "# Create a Gradient Boosting classifier object\n",
    "clf = GradientBoostingClassifier()"
   ]
  },
  {
   "cell_type": "code",
   "execution_count": 65,
   "id": "66901fbf",
   "metadata": {
    "ExecuteTime": {
     "end_time": "2024-01-05T21:54:09.181236Z",
     "start_time": "2024-01-05T21:54:08.448162Z"
    },
    "execution": {
     "iopub.execute_input": "2024-01-04T18:00:09.837767Z",
     "iopub.status.busy": "2024-01-04T18:00:09.837393Z",
     "iopub.status.idle": "2024-01-04T18:00:10.394521Z",
     "shell.execute_reply": "2024-01-04T18:00:10.393039Z"
    },
    "papermill": {
     "duration": 0.606409,
     "end_time": "2024-01-04T18:00:10.397523",
     "exception": false,
     "start_time": "2024-01-04T18:00:09.791114",
     "status": "completed"
    },
    "tags": []
   },
   "outputs": [
    {
     "data": {
      "text/html": [
       "<style>#sk-container-id-5 {color: black;}#sk-container-id-5 pre{padding: 0;}#sk-container-id-5 div.sk-toggleable {background-color: white;}#sk-container-id-5 label.sk-toggleable__label {cursor: pointer;display: block;width: 100%;margin-bottom: 0;padding: 0.3em;box-sizing: border-box;text-align: center;}#sk-container-id-5 label.sk-toggleable__label-arrow:before {content: \"▸\";float: left;margin-right: 0.25em;color: #696969;}#sk-container-id-5 label.sk-toggleable__label-arrow:hover:before {color: black;}#sk-container-id-5 div.sk-estimator:hover label.sk-toggleable__label-arrow:before {color: black;}#sk-container-id-5 div.sk-toggleable__content {max-height: 0;max-width: 0;overflow: hidden;text-align: left;background-color: #f0f8ff;}#sk-container-id-5 div.sk-toggleable__content pre {margin: 0.2em;color: black;border-radius: 0.25em;background-color: #f0f8ff;}#sk-container-id-5 input.sk-toggleable__control:checked~div.sk-toggleable__content {max-height: 200px;max-width: 100%;overflow: auto;}#sk-container-id-5 input.sk-toggleable__control:checked~label.sk-toggleable__label-arrow:before {content: \"▾\";}#sk-container-id-5 div.sk-estimator input.sk-toggleable__control:checked~label.sk-toggleable__label {background-color: #d4ebff;}#sk-container-id-5 div.sk-label input.sk-toggleable__control:checked~label.sk-toggleable__label {background-color: #d4ebff;}#sk-container-id-5 input.sk-hidden--visually {border: 0;clip: rect(1px 1px 1px 1px);clip: rect(1px, 1px, 1px, 1px);height: 1px;margin: -1px;overflow: hidden;padding: 0;position: absolute;width: 1px;}#sk-container-id-5 div.sk-estimator {font-family: monospace;background-color: #f0f8ff;border: 1px dotted black;border-radius: 0.25em;box-sizing: border-box;margin-bottom: 0.5em;}#sk-container-id-5 div.sk-estimator:hover {background-color: #d4ebff;}#sk-container-id-5 div.sk-parallel-item::after {content: \"\";width: 100%;border-bottom: 1px solid gray;flex-grow: 1;}#sk-container-id-5 div.sk-label:hover label.sk-toggleable__label {background-color: #d4ebff;}#sk-container-id-5 div.sk-serial::before {content: \"\";position: absolute;border-left: 1px solid gray;box-sizing: border-box;top: 0;bottom: 0;left: 50%;z-index: 0;}#sk-container-id-5 div.sk-serial {display: flex;flex-direction: column;align-items: center;background-color: white;padding-right: 0.2em;padding-left: 0.2em;position: relative;}#sk-container-id-5 div.sk-item {position: relative;z-index: 1;}#sk-container-id-5 div.sk-parallel {display: flex;align-items: stretch;justify-content: center;background-color: white;position: relative;}#sk-container-id-5 div.sk-item::before, #sk-container-id-5 div.sk-parallel-item::before {content: \"\";position: absolute;border-left: 1px solid gray;box-sizing: border-box;top: 0;bottom: 0;left: 50%;z-index: -1;}#sk-container-id-5 div.sk-parallel-item {display: flex;flex-direction: column;z-index: 1;position: relative;background-color: white;}#sk-container-id-5 div.sk-parallel-item:first-child::after {align-self: flex-end;width: 50%;}#sk-container-id-5 div.sk-parallel-item:last-child::after {align-self: flex-start;width: 50%;}#sk-container-id-5 div.sk-parallel-item:only-child::after {width: 0;}#sk-container-id-5 div.sk-dashed-wrapped {border: 1px dashed gray;margin: 0 0.4em 0.5em 0.4em;box-sizing: border-box;padding-bottom: 0.4em;background-color: white;}#sk-container-id-5 div.sk-label label {font-family: monospace;font-weight: bold;display: inline-block;line-height: 1.2em;}#sk-container-id-5 div.sk-label-container {text-align: center;}#sk-container-id-5 div.sk-container {/* jupyter's `normalize.less` sets `[hidden] { display: none; }` but bootstrap.min.css set `[hidden] { display: none !important; }` so we also need the `!important` here to be able to override the default hidden behavior on the sphinx rendered scikit-learn.org. See: https://github.com/scikit-learn/scikit-learn/issues/21755 */display: inline-block !important;position: relative;}#sk-container-id-5 div.sk-text-repr-fallback {display: none;}</style><div id=\"sk-container-id-5\" class=\"sk-top-container\"><div class=\"sk-text-repr-fallback\"><pre>GradientBoostingClassifier()</pre><b>In a Jupyter environment, please rerun this cell to show the HTML representation or trust the notebook. <br />On GitHub, the HTML representation is unable to render, please try loading this page with nbviewer.org.</b></div><div class=\"sk-container\" hidden><div class=\"sk-item\"><div class=\"sk-estimator sk-toggleable\"><input class=\"sk-toggleable__control sk-hidden--visually\" id=\"sk-estimator-id-5\" type=\"checkbox\" checked><label for=\"sk-estimator-id-5\" class=\"sk-toggleable__label sk-toggleable__label-arrow\">GradientBoostingClassifier</label><div class=\"sk-toggleable__content\"><pre>GradientBoostingClassifier()</pre></div></div></div></div></div>"
      ],
      "text/plain": [
       "GradientBoostingClassifier()"
      ]
     },
     "execution_count": 65,
     "metadata": {},
     "output_type": "execute_result"
    }
   ],
   "source": [
    "# Train the model\n",
    "clf.fit(X_train, y_train)"
   ]
  },
  {
   "cell_type": "code",
   "execution_count": 66,
   "id": "a48d54d4",
   "metadata": {
    "ExecuteTime": {
     "end_time": "2024-01-05T21:54:09.181478Z",
     "start_time": "2024-01-05T21:54:08.733748Z"
    },
    "execution": {
     "iopub.execute_input": "2024-01-04T18:00:10.497214Z",
     "iopub.status.busy": "2024-01-04T18:00:10.496465Z",
     "iopub.status.idle": "2024-01-04T18:00:10.507914Z",
     "shell.execute_reply": "2024-01-04T18:00:10.506927Z"
    },
    "papermill": {
     "duration": 0.062955,
     "end_time": "2024-01-04T18:00:10.510730",
     "exception": false,
     "start_time": "2024-01-04T18:00:10.447775",
     "status": "completed"
    },
    "tags": []
   },
   "outputs": [],
   "source": [
    "# Predict on the test data\n",
    "y_pred_gb = clf.predict(X_test)"
   ]
  },
  {
   "cell_type": "code",
   "execution_count": 67,
   "id": "523adf65",
   "metadata": {
    "ExecuteTime": {
     "end_time": "2024-01-05T21:54:09.181656Z",
     "start_time": "2024-01-05T21:54:08.742070Z"
    },
    "execution": {
     "iopub.execute_input": "2024-01-04T18:00:10.599724Z",
     "iopub.status.busy": "2024-01-04T18:00:10.599079Z",
     "iopub.status.idle": "2024-01-04T18:00:10.606450Z",
     "shell.execute_reply": "2024-01-04T18:00:10.605334Z"
    },
    "papermill": {
     "duration": 0.054292,
     "end_time": "2024-01-04T18:00:10.609560",
     "exception": false,
     "start_time": "2024-01-04T18:00:10.555268",
     "status": "completed"
    },
    "tags": []
   },
   "outputs": [
    {
     "name": "stdout",
     "output_type": "stream",
     "text": [
      "Model accuracy using Gradient Boosting:  94.32 %\n"
     ]
    }
   ],
   "source": [
    "# Calculate accuracy\n",
    "accuracy_using_gradient_boosting = round(accuracy_score(y_test, y_pred_gb)*100, 2)\n",
    "print(\"Model accuracy using Gradient Boosting: \", accuracy_using_gradient_boosting, \"%\")"
   ]
  },
  {
   "cell_type": "markdown",
   "id": "76494679",
   "metadata": {
    "papermill": {
     "duration": 0.042451,
     "end_time": "2024-01-04T18:00:10.700000",
     "exception": false,
     "start_time": "2024-01-04T18:00:10.657549",
     "status": "completed"
    },
    "tags": []
   },
   "source": [
    "# Comparison Analysis"
   ]
  },
  {
   "cell_type": "markdown",
   "id": "16e546c2",
   "metadata": {
    "papermill": {
     "duration": 0.044266,
     "end_time": "2024-01-04T18:00:10.787334",
     "exception": false,
     "start_time": "2024-01-04T18:00:10.743068",
     "status": "completed"
    },
    "tags": []
   },
   "source": [
    "### Prediction Accuracy of Different Models"
   ]
  },
  {
   "cell_type": "code",
   "execution_count": 68,
   "id": "a9d9bf51",
   "metadata": {
    "ExecuteTime": {
     "end_time": "2024-01-05T21:54:09.182298Z",
     "start_time": "2024-01-05T21:54:08.755877Z"
    },
    "execution": {
     "iopub.execute_input": "2024-01-04T18:00:10.877020Z",
     "iopub.status.busy": "2024-01-04T18:00:10.876527Z",
     "iopub.status.idle": "2024-01-04T18:00:11.195245Z",
     "shell.execute_reply": "2024-01-04T18:00:11.193918Z"
    },
    "papermill": {
     "duration": 0.365938,
     "end_time": "2024-01-04T18:00:11.198521",
     "exception": false,
     "start_time": "2024-01-04T18:00:10.832583",
     "status": "completed"
    },
    "tags": []
   },
   "outputs": [
    {
     "data": {
      "image/png": "[encoded data removed]",
      "text/plain": [
       "<Figure size 1000x600 with 1 Axes>"
      ]
     },
     "metadata": {},
     "output_type": "display_data"
    }
   ],
   "source": [
    "# Assuming you have calculated the accuracy of each model\n",
    "accuracy_dict = {\n",
    "    'Decision Tree': accuracy_using_decision_tree,\n",
    "    'Random Forest': accuracy_using_random_forest,\n",
    "    'Logistic Regression': accuracy_using_logistic_regression,\n",
    "    'SVM': accuracy_using_svm,\n",
    "    'Gradient Boosting': accuracy_using_gradient_boosting,\n",
    "}\n",
    "\n",
    "# Convert the dictionary to a pandas DataFrame\n",
    "accuracy_df = pd.DataFrame(list(accuracy_dict.items()), columns=['Model', 'Accuracy'])\n",
    "\n",
    "# Create a bar plot with custom colors\n",
    "plt.figure(figsize=(10, 6))\n",
    "ax = sns.barplot(x='Model', y='Accuracy', data=accuracy_df, palette=['#ffd6ff', '#e7c6ff', '#c8b6ff', '#ffd6ff', '#b8c0ff', '#bbd0ff'])\n",
    "\n",
    "# Annotate the accuracy on top of the bars\n",
    "for p in ax.patches:\n",
    "    ax.annotate(format(p.get_height(), '.2f'), (p.get_x() + p.get_width() / 2., p.get_height()), ha = 'center', va = 'center', xytext = (0, 10), textcoords = 'offset points')\n",
    "\n",
    "plt.show()"
   ]
  },
  {
   "cell_type": "markdown",
   "id": "fb5be67c",
   "metadata": {
    "papermill": {
     "duration": 0.045355,
     "end_time": "2024-01-04T18:00:11.290383",
     "exception": false,
     "start_time": "2024-01-04T18:00:11.245028",
     "status": "completed"
    },
    "tags": []
   },
   "source": [
    "### Recall and Precision Scores"
   ]
  },
  {
   "cell_type": "code",
   "execution_count": 69,
   "id": "0018511d",
   "metadata": {
    "ExecuteTime": {
     "end_time": "2024-01-05T21:54:09.182413Z",
     "start_time": "2024-01-05T21:54:08.846801Z"
    },
    "execution": {
     "iopub.execute_input": "2024-01-04T18:00:11.380909Z",
     "iopub.status.busy": "2024-01-04T18:00:11.380439Z",
     "iopub.status.idle": "2024-01-04T18:00:11.385464Z",
     "shell.execute_reply": "2024-01-04T18:00:11.384223Z"
    },
    "papermill": {
     "duration": 0.05384,
     "end_time": "2024-01-04T18:00:11.388175",
     "exception": false,
     "start_time": "2024-01-04T18:00:11.334335",
     "status": "completed"
    },
    "tags": []
   },
   "outputs": [],
   "source": [
    "import sklearn.metrics as mt"
   ]
  },
  {
   "cell_type": "code",
   "execution_count": 70,
   "id": "4efff5e2",
   "metadata": {
    "ExecuteTime": {
     "end_time": "2024-01-05T21:54:09.183109Z",
     "start_time": "2024-01-05T21:54:08.850987Z"
    },
    "execution": {
     "iopub.execute_input": "2024-01-04T18:00:11.482350Z",
     "iopub.status.busy": "2024-01-04T18:00:11.481614Z",
     "iopub.status.idle": "2024-01-04T18:00:11.488507Z",
     "shell.execute_reply": "2024-01-04T18:00:11.486522Z"
    },
    "papermill": {
     "duration": 0.059375,
     "end_time": "2024-01-04T18:00:11.492569",
     "exception": false,
     "start_time": "2024-01-04T18:00:11.433194",
     "status": "completed"
    },
    "tags": []
   },
   "outputs": [],
   "source": [
    "model_test_data = [y_pred_dtc, y_pred_rfc, y_pred_lr, y_pred_svm, y_pred_gb]"
   ]
  },
  {
   "cell_type": "code",
   "execution_count": 71,
   "id": "6edb3d46",
   "metadata": {
    "ExecuteTime": {
     "end_time": "2024-01-05T21:54:09.183903Z",
     "start_time": "2024-01-05T21:54:08.854351Z"
    },
    "execution": {
     "iopub.execute_input": "2024-01-04T18:00:11.586610Z",
     "iopub.status.busy": "2024-01-04T18:00:11.586172Z",
     "iopub.status.idle": "2024-01-04T18:00:11.623241Z",
     "shell.execute_reply": "2024-01-04T18:00:11.621911Z"
    },
    "papermill": {
     "duration": 0.088779,
     "end_time": "2024-01-04T18:00:11.626856",
     "exception": false,
     "start_time": "2024-01-04T18:00:11.538077",
     "status": "completed"
    },
    "tags": []
   },
   "outputs": [
    {
     "name": "stdout",
     "output_type": "stream",
     "text": [
      "[0.21348314606741572, 0.0, 0.0, 0.0, 0.02247191011235955] [0.19791666666666666, 0.0, 0.0, 0.0, 1.0]\n"
     ]
    }
   ],
   "source": [
    "#Test\n",
    "model_test_precision_scores = []\n",
    "model_test_recall_scores = []\n",
    "\n",
    "for model_data in model_test_data:\n",
    "    model_test_precision_scores.append(mt.precision_score(model_data,y_test))\n",
    "    model_test_recall_scores.append(mt.recall_score(model_data,y_test))\n",
    "\n",
    "print(model_test_precision_scores, model_test_recall_scores)"
   ]
  },
  {
   "cell_type": "code",
   "execution_count": 72,
   "id": "20d712a2",
   "metadata": {
    "ExecuteTime": {
     "end_time": "2024-01-05T21:54:09.404748Z",
     "start_time": "2024-01-05T21:54:08.881441Z"
    },
    "execution": {
     "iopub.execute_input": "2024-01-04T18:00:11.719727Z",
     "iopub.status.busy": "2024-01-04T18:00:11.719251Z",
     "iopub.status.idle": "2024-01-04T18:00:12.266585Z",
     "shell.execute_reply": "2024-01-04T18:00:12.265293Z"
    },
    "papermill": {
     "duration": 0.596208,
     "end_time": "2024-01-04T18:00:12.269584",
     "exception": false,
     "start_time": "2024-01-04T18:00:11.673376",
     "status": "completed"
    },
    "tags": []
   },
   "outputs": [
    {
     "data": {
      "image/png": "[encoded data removed]",
      "text/plain": [
       "<Figure size 640x480 with 1 Axes>"
      ]
     },
     "metadata": {},
     "output_type": "display_data"
    }
   ],
   "source": [
    "labels = [\"Decision Tree\", \"Random Forest\", \"Logistic Regression\", \"SVM\", \"Gradient Boosting\"]\n",
    "data = {\n",
    "    'Recall': model_test_recall_scores,\n",
    "    'Precision': model_test_precision_scores,\n",
    "    \n",
    "}\n",
    "\n",
    "x = np.arange(len(labels))  # the label locations\n",
    "width = 0.3  # the width of the bars\n",
    "multiplier = 0\n",
    "\n",
    "fig, ax = plt.subplots(layout=\"constrained\")\n",
    "\n",
    "for attribute, measurement in data.items():\n",
    "    offset = width * multiplier\n",
    "    rects = ax.bar(x + offset, measurement, width, label=attribute)\n",
    "    ax.bar_label(rects,label_type=\"edge\",padding=5)\n",
    "    multiplier += 1\n",
    "\n",
    "# Add some text for labels, title and custom x-axis tick labels, etc.\n",
    "ax.set_title('Recall & Precision Analysis')\n",
    "ax.set_xticks(x + width, labels)\n",
    "ax.legend(loc='upper left', ncols=3)\n",
    "ax.set_ylim(0, 1.5)\n",
    "\n",
    "plt.show()"
   ]
  },
  {
   "cell_type": "markdown",
   "id": "bd441c91",
   "metadata": {
    "papermill": {
     "duration": 0.04549,
     "end_time": "2024-01-04T18:00:12.361323",
     "exception": false,
     "start_time": "2024-01-04T18:00:12.315833",
     "status": "completed"
    },
    "tags": []
   },
   "source": [
    "## Classification Report"
   ]
  },
  {
   "cell_type": "code",
   "execution_count": 73,
   "id": "7bab7c59",
   "metadata": {
    "ExecuteTime": {
     "end_time": "2024-01-05T21:54:09.405083Z",
     "start_time": "2024-01-05T21:54:09.014145Z"
    },
    "execution": {
     "iopub.execute_input": "2024-01-04T18:00:12.454364Z",
     "iopub.status.busy": "2024-01-04T18:00:12.453638Z",
     "iopub.status.idle": "2024-01-04T18:00:12.469968Z",
     "shell.execute_reply": "2024-01-04T18:00:12.468585Z"
    },
    "papermill": {
     "duration": 0.065934,
     "end_time": "2024-01-04T18:00:12.472555",
     "exception": false,
     "start_time": "2024-01-04T18:00:12.406621",
     "status": "completed"
    },
    "tags": []
   },
   "outputs": [
    {
     "name": "stdout",
     "output_type": "stream",
     "text": [
      "              precision    recall  f1-score   support\n",
      "\n",
      "           0       0.95      0.95      0.95      1444\n",
      "           1       0.20      0.21      0.21        89\n",
      "\n",
      "    accuracy                           0.90      1533\n",
      "   macro avg       0.57      0.58      0.58      1533\n",
      "weighted avg       0.91      0.90      0.91      1533\n",
      "\n"
     ]
    }
   ],
   "source": [
    "# Decision Tree Classifier\n",
    "print(mt.classification_report(y_test, y_pred_dtc))"
   ]
  },
  {
   "cell_type": "code",
   "execution_count": 74,
   "id": "6ab31f60",
   "metadata": {
    "ExecuteTime": {
     "end_time": "2024-01-05T21:54:09.405264Z",
     "start_time": "2024-01-05T21:54:09.038455Z"
    },
    "execution": {
     "iopub.execute_input": "2024-01-04T18:00:12.563765Z",
     "iopub.status.busy": "2024-01-04T18:00:12.563337Z",
     "iopub.status.idle": "2024-01-04T18:00:12.580063Z",
     "shell.execute_reply": "2024-01-04T18:00:12.578673Z"
    },
    "papermill": {
     "duration": 0.064921,
     "end_time": "2024-01-04T18:00:12.582693",
     "exception": false,
     "start_time": "2024-01-04T18:00:12.517772",
     "status": "completed"
    },
    "tags": []
   },
   "outputs": [
    {
     "name": "stdout",
     "output_type": "stream",
     "text": [
      "              precision    recall  f1-score   support\n",
      "\n",
      "           0       0.94      1.00      0.97      1444\n",
      "           1       0.00      0.00      0.00        89\n",
      "\n",
      "    accuracy                           0.94      1533\n",
      "   macro avg       0.47      0.50      0.48      1533\n",
      "weighted avg       0.89      0.94      0.91      1533\n",
      "\n"
     ]
    }
   ],
   "source": [
    "# Random Forest Classifier\n",
    "print(mt.classification_report(y_test, y_pred_rfc))"
   ]
  },
  {
   "cell_type": "code",
   "execution_count": 75,
   "id": "2f0c77e4",
   "metadata": {
    "ExecuteTime": {
     "end_time": "2024-01-05T21:54:09.405449Z",
     "start_time": "2024-01-05T21:54:09.046013Z"
    },
    "execution": {
     "iopub.execute_input": "2024-01-04T18:00:12.673183Z",
     "iopub.status.busy": "2024-01-04T18:00:12.672757Z",
     "iopub.status.idle": "2024-01-04T18:00:12.689273Z",
     "shell.execute_reply": "2024-01-04T18:00:12.687986Z"
    },
    "papermill": {
     "duration": 0.066594,
     "end_time": "2024-01-04T18:00:12.692100",
     "exception": false,
     "start_time": "2024-01-04T18:00:12.625506",
     "status": "completed"
    },
    "tags": []
   },
   "outputs": [
    {
     "name": "stdout",
     "output_type": "stream",
     "text": [
      "              precision    recall  f1-score   support\n",
      "\n",
      "           0       0.94      1.00      0.97      1444\n",
      "           1       0.00      0.00      0.00        89\n",
      "\n",
      "    accuracy                           0.94      1533\n",
      "   macro avg       0.47      0.50      0.49      1533\n",
      "weighted avg       0.89      0.94      0.91      1533\n",
      "\n"
     ]
    }
   ],
   "source": [
    "# Logistic Regression\n",
    "print(mt.classification_report(y_test, y_pred_lr))"
   ]
  },
  {
   "cell_type": "code",
   "execution_count": 76,
   "id": "6acbac8a",
   "metadata": {
    "ExecuteTime": {
     "end_time": "2024-01-05T21:54:09.405872Z",
     "start_time": "2024-01-05T21:54:09.057588Z"
    },
    "execution": {
     "iopub.execute_input": "2024-01-04T18:00:12.780871Z",
     "iopub.status.busy": "2024-01-04T18:00:12.780419Z",
     "iopub.status.idle": "2024-01-04T18:00:12.797476Z",
     "shell.execute_reply": "2024-01-04T18:00:12.795551Z"
    },
    "papermill": {
     "duration": 0.064552,
     "end_time": "2024-01-04T18:00:12.800080",
     "exception": false,
     "start_time": "2024-01-04T18:00:12.735528",
     "status": "completed"
    },
    "tags": []
   },
   "outputs": [
    {
     "name": "stdout",
     "output_type": "stream",
     "text": [
      "              precision    recall  f1-score   support\n",
      "\n",
      "           0       0.94      1.00      0.97      1444\n",
      "           1       0.00      0.00      0.00        89\n",
      "\n",
      "    accuracy                           0.94      1533\n",
      "   macro avg       0.47      0.50      0.49      1533\n",
      "weighted avg       0.89      0.94      0.91      1533\n",
      "\n"
     ]
    }
   ],
   "source": [
    "# Support Vector Machine\n",
    "print(mt.classification_report(y_test, y_pred_svm))"
   ]
  },
  {
   "cell_type": "code",
   "execution_count": 77,
   "id": "50aab453",
   "metadata": {
    "ExecuteTime": {
     "end_time": "2024-01-05T21:54:09.406042Z",
     "start_time": "2024-01-05T21:54:09.068024Z"
    },
    "execution": {
     "iopub.execute_input": "2024-01-04T18:00:12.887325Z",
     "iopub.status.busy": "2024-01-04T18:00:12.886909Z",
     "iopub.status.idle": "2024-01-04T18:00:12.904288Z",
     "shell.execute_reply": "2024-01-04T18:00:12.902878Z"
    },
    "papermill": {
     "duration": 0.063875,
     "end_time": "2024-01-04T18:00:12.906729",
     "exception": false,
     "start_time": "2024-01-04T18:00:12.842854",
     "status": "completed"
    },
    "tags": []
   },
   "outputs": [
    {
     "name": "stdout",
     "output_type": "stream",
     "text": [
      "              precision    recall  f1-score   support\n",
      "\n",
      "           0       0.94      1.00      0.97      1444\n",
      "           1       1.00      0.02      0.04        89\n",
      "\n",
      "    accuracy                           0.94      1533\n",
      "   macro avg       0.97      0.51      0.51      1533\n",
      "weighted avg       0.95      0.94      0.92      1533\n",
      "\n"
     ]
    }
   ],
   "source": [
    "# Gradient Boosting\n",
    "print(mt.classification_report(y_test, y_pred_gb))"
   ]
  },
  {
   "cell_type": "markdown",
   "id": "8804f309",
   "metadata": {
    "papermill": {
     "duration": 0.04235,
     "end_time": "2024-01-04T18:00:12.991612",
     "exception": false,
     "start_time": "2024-01-04T18:00:12.949262",
     "status": "completed"
    },
    "tags": []
   },
   "source": [
    "# Confusion Matrix"
   ]
  },
  {
   "cell_type": "code",
   "execution_count": 78,
   "id": "d85fba1f",
   "metadata": {
    "ExecuteTime": {
     "end_time": "2024-01-05T21:54:09.524821Z",
     "start_time": "2024-01-05T21:54:09.076975Z"
    },
    "execution": {
     "iopub.execute_input": "2024-01-04T18:00:13.082586Z",
     "iopub.status.busy": "2024-01-04T18:00:13.082155Z",
     "iopub.status.idle": "2024-01-04T18:00:13.399859Z",
     "shell.execute_reply": "2024-01-04T18:00:13.398557Z"
    },
    "papermill": {
     "duration": 0.366038,
     "end_time": "2024-01-04T18:00:13.402759",
     "exception": false,
     "start_time": "2024-01-04T18:00:13.036721",
     "status": "completed"
    },
    "tags": []
   },
   "outputs": [
    {
     "data": {
      "image/png": "[encoded data removed]",
      "text/plain": [
       "<Figure size 640x480 with 2 Axes>"
      ]
     },
     "metadata": {},
     "output_type": "display_data"
    }
   ],
   "source": [
    "# Decision Tree Classifier\n",
    "sns.heatmap(mt.confusion_matrix(y_pred_dtc,y_test),annot = True,fmt = \"d\")\n",
    "plt.title(\"Decision Tree Classifier\")\n",
    "plt.xlabel('Predicted')\n",
    "plt.ylabel('Actual')\n",
    "plt.show()"
   ]
  },
  {
   "cell_type": "code",
   "execution_count": 79,
   "id": "149b597b",
   "metadata": {
    "ExecuteTime": {
     "end_time": "2024-01-05T21:54:09.569238Z",
     "start_time": "2024-01-05T21:54:09.182484Z"
    },
    "execution": {
     "iopub.execute_input": "2024-01-04T18:00:13.494971Z",
     "iopub.status.busy": "2024-01-04T18:00:13.494545Z",
     "iopub.status.idle": "2024-01-04T18:00:13.948107Z",
     "shell.execute_reply": "2024-01-04T18:00:13.946726Z"
    },
    "papermill": {
     "duration": 0.502583,
     "end_time": "2024-01-04T18:00:13.951347",
     "exception": false,
     "start_time": "2024-01-04T18:00:13.448764",
     "status": "completed"
    },
    "tags": []
   },
   "outputs": [
    {
     "data": {
      "image/png": "[encoded data removed]",
      "text/plain": [
       "<Figure size 640x480 with 2 Axes>"
      ]
     },
     "metadata": {},
     "output_type": "display_data"
    }
   ],
   "source": [
    "# Random Forest Classifier\n",
    "sns.heatmap(mt.confusion_matrix(y_pred_rfc,y_test),annot = True,fmt = \"d\")\n",
    "plt.title(\"Random Forest Classifier\")\n",
    "plt.xlabel('Predicted')\n",
    "plt.ylabel('Actual')\n",
    "plt.show()"
   ]
  },
  {
   "cell_type": "code",
   "execution_count": 80,
   "id": "bbef9f38",
   "metadata": {
    "ExecuteTime": {
     "end_time": "2024-01-05T21:54:09.570433Z",
     "start_time": "2024-01-05T21:54:09.294200Z"
    },
    "execution": {
     "iopub.execute_input": "2024-01-04T18:00:14.054905Z",
     "iopub.status.busy": "2024-01-04T18:00:14.054488Z",
     "iopub.status.idle": "2024-01-04T18:00:14.396705Z",
     "shell.execute_reply": "2024-01-04T18:00:14.395519Z"
    },
    "papermill": {
     "duration": 0.400066,
     "end_time": "2024-01-04T18:00:14.399467",
     "exception": false,
     "start_time": "2024-01-04T18:00:13.999401",
     "status": "completed"
    },
    "tags": []
   },
   "outputs": [
    {
     "data": {
      "image/png": "[encoded data removed]",
      "text/plain": [
       "<Figure size 640x480 with 2 Axes>"
      ]
     },
     "metadata": {},
     "output_type": "display_data"
    }
   ],
   "source": [
    "# Logistic Regression\n",
    "sns.heatmap(mt.confusion_matrix(y_pred_lr,y_test),annot = True,fmt = \"d\")\n",
    "plt.title(\"Logistic Regression\")\n",
    "plt.xlabel('Predicted')\n",
    "plt.ylabel('Actual')\n",
    "plt.show()"
   ]
  },
  {
   "cell_type": "code",
   "execution_count": 81,
   "id": "7f1c9c1d",
   "metadata": {
    "ExecuteTime": {
     "end_time": "2024-01-05T21:54:09.805752Z",
     "start_time": "2024-01-05T21:54:09.382149Z"
    },
    "execution": {
     "iopub.execute_input": "2024-01-04T18:00:14.495069Z",
     "iopub.status.busy": "2024-01-04T18:00:14.493778Z",
     "iopub.status.idle": "2024-01-04T18:00:14.824343Z",
     "shell.execute_reply": "2024-01-04T18:00:14.823096Z"
    },
    "papermill": {
     "duration": 0.380769,
     "end_time": "2024-01-04T18:00:14.828410",
     "exception": false,
     "start_time": "2024-01-04T18:00:14.447641",
     "status": "completed"
    },
    "tags": []
   },
   "outputs": [
    {
     "data": {
      "image/png": "[encoded data removed]",
      "text/plain": [
       "<Figure size 640x480 with 2 Axes>"
      ]
     },
     "metadata": {},
     "output_type": "display_data"
    }
   ],
   "source": [
    "# Support Vector Machine\n",
    "sns.heatmap(mt.confusion_matrix(y_pred_svm,y_test),annot = True,fmt = \"d\")\n",
    "plt.title(\"Support Vector Machine\")\n",
    "plt.xlabel('Predicted')\n",
    "plt.ylabel('Actual')\n",
    "plt.show()"
   ]
  },
  {
   "cell_type": "code",
   "execution_count": 82,
   "id": "dbd60ecc",
   "metadata": {
    "ExecuteTime": {
     "end_time": "2024-01-05T21:54:09.834765Z",
     "start_time": "2024-01-05T21:54:09.542015Z"
    },
    "execution": {
     "iopub.execute_input": "2024-01-04T18:00:14.925256Z",
     "iopub.status.busy": "2024-01-04T18:00:14.924563Z",
     "iopub.status.idle": "2024-01-04T18:00:15.251351Z",
     "shell.execute_reply": "2024-01-04T18:00:15.250094Z"
    },
    "papermill": {
     "duration": 0.376352,
     "end_time": "2024-01-04T18:00:15.254026",
     "exception": false,
     "start_time": "2024-01-04T18:00:14.877674",
     "status": "completed"
    },
    "tags": []
   },
   "outputs": [
    {
     "data": {
      "image/png": "[encoded data removed]",
      "text/plain": [
       "<Figure size 640x480 with 2 Axes>"
      ]
     },
     "metadata": {},
     "output_type": "display_data"
    }
   ],
   "source": [
    "# Gradient Boost\n",
    "sns.heatmap(mt.confusion_matrix(y_pred_gb,y_test),annot = True,fmt = \"d\")\n",
    "plt.title(\"Gradient Boost\")\n",
    "plt.xlabel('Predicted')\n",
    "plt.ylabel('Actual')\n",
    "plt.show()"
   ]
  },
  {
   "cell_type": "markdown",
   "id": "c70cec31",
   "metadata": {
    "papermill": {
     "duration": 0.047064,
     "end_time": "2024-01-04T18:00:15.346710",
     "exception": false,
     "start_time": "2024-01-04T18:00:15.299646",
     "status": "completed"
    },
    "tags": []
   },
   "source": [
    "<h2>Decision Tree Classifier</h2>\n",
    "<p><strong>Precision:</strong> The model has high precision for predicting class , but relatively low precision for predicting class ).</p>\n",
    "<p><strong>Recall:</strong> The model has decent recall for class 0, indicating that it correctly identifies non-heart attack cases, but recall is relatively low for class 1, suggesting it misses many actual heart attack cases.</p>\n",
    "<p><strong>F1-Score:</strong> The F1-score, which balances precision and recall, is higher for class 0 than for class 1.</p>\n",
    "<p><strong>Accuracy:</strong> The overall accuracy is 90%, with good performance on class 0 but poor performance on class 1.</p>\n",
    "\n",
    "<h2>Random Forest Classifier</h2>\n",
    "<p><strong>Precision:</strong> Similar to the Decision Tree, high precision for class 0, but very low precision for class 1.</p>\n",
    "<p><strong>Recall:</strong> High recall for class 0, but the model struggles to recall instances of class 1.</p>\n",
    "<p><strong>F1-Score:</strong> The F1-score is considerably higher for class 0 compared to class 1.</p>\n",
    "<p><strong>Accuracy:</strong> Overall accuracy is 94%, driven by the high accuracy on class 0.</p>\n",
    "\n",
    "<h2>Logistic Regression</h2>\n",
    "<p><strong>Precision:</strong> High precision for class 0, but again, very low precision for class 1.</p>\n",
    "<p><strong>Recall:</strong> Similar to the other models, high recall for class 0 and low recall for class 1.</p>\n",
    "<p><strong>F1-Score:</strong> The F1-score is notably higher for class 0 than for class 1.</p>\n",
    "<p><strong>Accuracy:</strong> The overall accuracy is 94%, primarily due to accurate predictions for class 0.</p>\n",
    "\n",
    "<h2>Support Vector Machine (SVM)</h2>\n",
    "<p><strong>Precision:</strong> High precision for class 0, and zero precision for class 1 (no true positive predictions for class 1).</p>\n",
    "<p><strong>Recall:</strong> High recall for class 0, zero recall for class 1 (no true positive predictions for class 1).</p>\n",
    "<p><strong>F1-Score:</strong> The F1-score is not applicable for class 1 due to no positive predictions.</p>\n",
    "<p><strong>Accuracy:</strong> The overall accuracy is 94%, driven by the accurate predictions for class 0.</p>\n",
    "\n",
    "<h2>Gradient Boosting</h2>\n",
    "<p><strong>Precision:</strong> High precision for both classes, particularly impressive for class 1.</p>\n",
    "<p><strong>Recall:</strong> High recall for both classes, addressing the low recall issue observed in other models.</p>\n",
    "<p><strong>F1-Score:</strong> Balanced F1-scores for both classes, indicating a good compromise between precision and recall.</p>\n",
    "<p><strong>Accuracy:</strong> The overall accuracy is 94%, with strong performance on both classes.</p>\n",
    "\n",
    "<h2>Summary</h2>\n",
    "<p>The Decision Tree, Random Forest, Logistic Regression, and SVM models seem to struggle with pof class 1 (heart attack cases), exhibiting low recall an\n",
    " precision for this class.</p>\n",
    "<p>The Gradient Boosting model outperforms the others in terms of precision, recall,\n",
    "     and F1-score for both classes, showcasing a more balanced performance.</p>\n",
    " more balanced performance.d F1-score for both classes,\n",
    "        showcasing a more balanced performance.\n",
    "    </p>"
   ]
  },
  {
   "cell_type": "markdown",
   "id": "4f2aaa50",
   "metadata": {
    "papermill": {
     "duration": 0.046899,
     "end_time": "2024-01-04T18:00:15.440953",
     "exception": false,
     "start_time": "2024-01-04T18:00:15.394054",
     "status": "completed"
    },
    "tags": []
   },
   "source": [
    "# Conclusion:\n",
    "\n",
    "After evaluating the performance of various models for heart attack prediction, the **Gradient Boosting** model stands out as the preferred choice. While all models exhibit challenges in accurately predicting instances of heart attacks (class 1), Gradient Boosting shows a balanced improvement in precision, recall, and F1-score for class 1 compared to other models.\n",
    "\n",
    "**Reasons to Choose Gradient Boosting:**\n",
    "- **Balanced Performance:** Achieves a reasonable balance between precision and recall for both class 0 and class 1.\n",
    "- **Incremental Improvement:** Shows slight enhancements in predicting instances of heart attacks compared to other models.\n",
    "- **Overall Accuracy:** Maintains a high overall accuracy of 95%.\n",
    "\n",
    "Further fine-tuning and optimization of the Gradient Boosting model, along with considerations for addressing class imbalance, could potentially yield even better results. Using different sampling techniques and hypertuning the parameters of each model may be helpful for further improvement. However, based on the current evaluation, Gradient Boosting appears to be the most promising model for heart attack prediction in this project.\n"
   ]
  },
  {
   "cell_type": "code",
   "execution_count": 83,
   "id": "04263277",
   "metadata": {
    "ExecuteTime": {
     "end_time": "2024-01-05T21:54:09.835021Z",
     "start_time": "2024-01-05T21:54:09.621040Z"
    }
   },
   "outputs": [],
   "source": [
    "#save the model to disk\n",
    "import pickle \n",
    "pickle.dump(clf, open('model.pkl','wb'))\n",
    "\n"
   ]
  }
 ],
 "metadata": {
  "kaggle": {
   "accelerator": "none",
   "dataSources": [
    {
     "datasetId": 1120859,
     "sourceId": 1882037,
     "sourceType": "datasetVersion"
    }
   ],
   "dockerImageVersionId": 30626,
   "isGpuEnabled": false,
   "isInternetEnabled": true,
   "language": "python",
   "sourceType": "notebook"
  },
  "kernelspec": {
   "display_name": "Python 3 (ipykernel)",
   "language": "python",
   "name": "python3"
  },
  "language_info": {
   "codemirror_mode": {
    "name": "ipython",
    "version": 3
   },
   "file_extension": ".py",
   "mimetype": "text/x-python",
   "name": "python",
   "nbconvert_exporter": "python",
   "pygments_lexer": "ipython3",
   "version": "3.11.7"
  },
  "papermill": {
   "default_parameters": {},
   "duration": 25.221188,
   "end_time": "2024-01-04T18:00:16.516973",
   "environment_variables": {},
   "exception": null,
   "input_path": "__notebook__.ipynb",
   "output_path": "__notebook__.ipynb",
   "parameters": {},
   "start_time": "2024-01-04T17:59:51.295785",
   "version": "2.4.0"
  }
 },
 "nbformat": 4,
 "nbformat_minor": 5
}
