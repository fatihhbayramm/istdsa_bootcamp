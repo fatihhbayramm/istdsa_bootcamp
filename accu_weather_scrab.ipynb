{
 "cells": [
  {
   "cell_type": "code",
   "execution_count": 12,
   "metadata": {},
   "outputs": [],
   "source": [
    "import requests\n",
    "from bs4 import BeautifulSoup as bts\n",
    "import pandas as pd\n",
    "import re\n",
    "import numpy as np\n",
    "import time"
   ]
  },
  {
   "cell_type": "code",
   "execution_count": 13,
   "metadata": {},
   "outputs": [],
   "source": [
    "def getAndParseURL(url):\n",
    "    result = requests.get(url, headers={\"User-Agent\":\"Mozilla/5.0\"}) # Safari/537.36. Chrome/103.0.0.0\n",
    "    soup = bts(result.text, \"html.parser\")\n",
    "    return soup"
   ]
  },
  {
   "cell_type": "code",
   "execution_count": 14,
   "metadata": {},
   "outputs": [
    {
     "data": {
      "text/plain": [
       "['https://www.accuweather.com/tr/tr/eskisehir/317856/daily-weather-forecast/317856',\n",
       " 'https://www.accuweather.com/tr/tr/eskisehir/317856/daily-weather-forecast/317856?day=2',\n",
       " 'https://www.accuweather.com/tr/tr/eskisehir/317856/daily-weather-forecast/317856?day=3',\n",
       " 'https://www.accuweather.com/tr/tr/eskisehir/317856/daily-weather-forecast/317856?day=4',\n",
       " 'https://www.accuweather.com/tr/tr/eskisehir/317856/daily-weather-forecast/317856?day=5']"
      ]
     },
     "execution_count": 14,
     "metadata": {},
     "output_type": "execute_result"
    }
   ],
   "source": [
    "pages = [\"https://www.accuweather.com/tr/tr/eskisehir/317856/daily-weather-forecast/317856\"]\n",
    "for page in range(2,6):\n",
    "    pages.append(\"https://www.accuweather.com/tr/tr/eskisehir/317856/daily-weather-forecast/317856?day=\"+str(page))\n",
    "    \n",
    "pages"
   ]
  },
  {
   "cell_type": "code",
   "execution_count": 15,
   "metadata": {},
   "outputs": [
    {
     "data": {
      "text/plain": [
       "['https://www.accuweather.com/tr/tr/eskisehir/317856/daily-weather-forecast/317856',\n",
       " 'https://www.accuweather.com/tr/tr/eskisehir/317856/daily-weather-forecast/317856?day=2',\n",
       " 'https://www.accuweather.com/tr/tr/eskisehir/317856/daily-weather-forecast/317856?day=3',\n",
       " 'https://www.accuweather.com/tr/tr/eskisehir/317856/daily-weather-forecast/317856?day=4',\n",
       " 'https://www.accuweather.com/tr/tr/eskisehir/317856/daily-weather-forecast/317856?day=5']"
      ]
     },
     "execution_count": 15,
     "metadata": {},
     "output_type": "execute_result"
    }
   ],
   "source": [
    "pages"
   ]
  }
 ],
 "metadata": {
  "kernelspec": {
   "display_name": "Python 3",
   "language": "python",
   "name": "python3"
  },
  "language_info": {
   "codemirror_mode": {
    "name": "ipython",
    "version": 3
   },
   "file_extension": ".py",
   "mimetype": "text/x-python",
   "name": "python",
   "nbconvert_exporter": "python",
   "pygments_lexer": "ipython3",
   "version": "3.11.4"
  }
 },
 "nbformat": 4,
 "nbformat_minor": 2
}
